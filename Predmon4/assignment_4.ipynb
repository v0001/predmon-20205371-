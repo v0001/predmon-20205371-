{
 "cells": [
  {
   "cell_type": "code",
   "execution_count": 2,
   "metadata": {
    "id": "fPStIVa4dyNN"
   },
   "outputs": [],
   "source": [
    "import sys\n",
    "import pandas as pd\n",
    "import numpy as np\n",
    "import matplotlib.pyplot as plt\n",
    "import datetime \n",
    "from datetime import datetime as dt\n",
    "\n",
    "%matplotlib inline"
   ]
  },
  {
   "cell_type": "markdown",
   "metadata": {
    "id": "tlEnqWg8jHGb"
   },
   "source": [
    "# Data : large (synthetic)"
   ]
  },
  {
   "cell_type": "markdown",
   "metadata": {
    "id": "4YR1j-N_i5W_"
   },
   "source": [
    "## _1. Import an event log as a pandas dataframe\n"
   ]
  },
  {
   "cell_type": "code",
   "execution_count": 3,
   "metadata": {
    "colab": {
     "base_uri": "https://localhost:8080/",
     "height": 203
    },
    "id": "GlJUp9bmjFjQ",
    "outputId": "edc85e5e-2dd8-42ed-b428-491409c60271"
   },
   "outputs": [
    {
     "data": {
      "text/html": [
       "<div>\n",
       "<style scoped>\n",
       "    .dataframe tbody tr th:only-of-type {\n",
       "        vertical-align: middle;\n",
       "    }\n",
       "\n",
       "    .dataframe tbody tr th {\n",
       "        vertical-align: top;\n",
       "    }\n",
       "\n",
       "    .dataframe thead th {\n",
       "        text-align: right;\n",
       "    }\n",
       "</style>\n",
       "<table border=\"1\" class=\"dataframe\">\n",
       "  <thead>\n",
       "    <tr style=\"text-align: right;\">\n",
       "      <th></th>\n",
       "      <th>Case</th>\n",
       "      <th>Activity</th>\n",
       "      <th>Timestamp</th>\n",
       "      <th>Resource</th>\n",
       "      <th>is_anomalous</th>\n",
       "    </tr>\n",
       "  </thead>\n",
       "  <tbody>\n",
       "    <tr>\n",
       "      <th>0</th>\n",
       "      <td>case_0</td>\n",
       "      <td>Activity A</td>\n",
       "      <td>1970-01-01 09:00:00</td>\n",
       "      <td>Resource_Group4_res_4</td>\n",
       "      <td>0</td>\n",
       "    </tr>\n",
       "    <tr>\n",
       "      <th>1</th>\n",
       "      <td>case_0</td>\n",
       "      <td>Activity AB</td>\n",
       "      <td>1970-01-01 10:00:00</td>\n",
       "      <td>Resource_Group1_res_1</td>\n",
       "      <td>0</td>\n",
       "    </tr>\n",
       "    <tr>\n",
       "      <th>2</th>\n",
       "      <td>case_0</td>\n",
       "      <td>Activity AF</td>\n",
       "      <td>1970-01-01 11:00:00</td>\n",
       "      <td>Resource_Group0_res_0</td>\n",
       "      <td>0</td>\n",
       "    </tr>\n",
       "    <tr>\n",
       "      <th>3</th>\n",
       "      <td>case_0</td>\n",
       "      <td>Activity AC</td>\n",
       "      <td>1970-01-01 12:00:00</td>\n",
       "      <td>Resource_Group4_res_4</td>\n",
       "      <td>0</td>\n",
       "    </tr>\n",
       "    <tr>\n",
       "      <th>4</th>\n",
       "      <td>case_0</td>\n",
       "      <td>Activity AG</td>\n",
       "      <td>1970-01-01 13:00:00</td>\n",
       "      <td>Resource_Group4_res_3</td>\n",
       "      <td>0</td>\n",
       "    </tr>\n",
       "  </tbody>\n",
       "</table>\n",
       "</div>"
      ],
      "text/plain": [
       "     Case     Activity            Timestamp               Resource  \\\n",
       "0  case_0   Activity A  1970-01-01 09:00:00  Resource_Group4_res_4   \n",
       "1  case_0  Activity AB  1970-01-01 10:00:00  Resource_Group1_res_1   \n",
       "2  case_0  Activity AF  1970-01-01 11:00:00  Resource_Group0_res_0   \n",
       "3  case_0  Activity AC  1970-01-01 12:00:00  Resource_Group4_res_4   \n",
       "4  case_0  Activity AG  1970-01-01 13:00:00  Resource_Group4_res_3   \n",
       "\n",
       "   is_anomalous  \n",
       "0             0  \n",
       "1             0  \n",
       "2             0  \n",
       "3             0  \n",
       "4             0  "
      ]
     },
     "execution_count": 3,
     "metadata": {},
     "output_type": "execute_result"
    }
   ],
   "source": [
    "original_data = pd.read_csv('Large_hw4.csv')\n",
    "original_data.head()"
   ]
  },
  {
   "cell_type": "code",
   "execution_count": 4,
   "metadata": {
    "colab": {
     "base_uri": "https://localhost:8080/"
    },
    "id": "aOBP6O4SkC0-",
    "outputId": "686cabbd-894f-465d-96ec-0b0f3223fc28"
   },
   "outputs": [
    {
     "data": {
      "text/plain": [
       "Case            object\n",
       "Activity        object\n",
       "Timestamp       object\n",
       "Resource        object\n",
       "is_anomalous     int64\n",
       "dtype: object"
      ]
     },
     "execution_count": 4,
     "metadata": {},
     "output_type": "execute_result"
    }
   ],
   "source": [
    "original_data.dtypes"
   ]
  },
  {
   "cell_type": "markdown",
   "metadata": {
    "id": "bwCn4nCJjvxH"
   },
   "source": [
    "## _2. Create an event log that retains only the attributes caseid, activity, timestamp, resource, outcome. Rename the attributes as “caseid, activity, ts, resource, outcome” if names are different"
   ]
  },
  {
   "cell_type": "code",
   "execution_count": 5,
   "metadata": {
    "colab": {
     "base_uri": "https://localhost:8080/",
     "height": 203
    },
    "id": "OGmtLouyjFmP",
    "outputId": "f0bf3184-d654-4190-e2d3-ad368b957469"
   },
   "outputs": [
    {
     "data": {
      "text/html": [
       "<div>\n",
       "<style scoped>\n",
       "    .dataframe tbody tr th:only-of-type {\n",
       "        vertical-align: middle;\n",
       "    }\n",
       "\n",
       "    .dataframe tbody tr th {\n",
       "        vertical-align: top;\n",
       "    }\n",
       "\n",
       "    .dataframe thead th {\n",
       "        text-align: right;\n",
       "    }\n",
       "</style>\n",
       "<table border=\"1\" class=\"dataframe\">\n",
       "  <thead>\n",
       "    <tr style=\"text-align: right;\">\n",
       "      <th></th>\n",
       "      <th>caseid</th>\n",
       "      <th>activity</th>\n",
       "      <th>ts</th>\n",
       "      <th>resource</th>\n",
       "      <th>outcome</th>\n",
       "    </tr>\n",
       "  </thead>\n",
       "  <tbody>\n",
       "    <tr>\n",
       "      <th>0</th>\n",
       "      <td>case_0</td>\n",
       "      <td>Activity A</td>\n",
       "      <td>1970-01-01 09:00:00</td>\n",
       "      <td>Resource_Group4_res_4</td>\n",
       "      <td>0</td>\n",
       "    </tr>\n",
       "    <tr>\n",
       "      <th>1</th>\n",
       "      <td>case_0</td>\n",
       "      <td>Activity AB</td>\n",
       "      <td>1970-01-01 10:00:00</td>\n",
       "      <td>Resource_Group1_res_1</td>\n",
       "      <td>0</td>\n",
       "    </tr>\n",
       "    <tr>\n",
       "      <th>2</th>\n",
       "      <td>case_0</td>\n",
       "      <td>Activity AF</td>\n",
       "      <td>1970-01-01 11:00:00</td>\n",
       "      <td>Resource_Group0_res_0</td>\n",
       "      <td>0</td>\n",
       "    </tr>\n",
       "    <tr>\n",
       "      <th>3</th>\n",
       "      <td>case_0</td>\n",
       "      <td>Activity AC</td>\n",
       "      <td>1970-01-01 12:00:00</td>\n",
       "      <td>Resource_Group4_res_4</td>\n",
       "      <td>0</td>\n",
       "    </tr>\n",
       "    <tr>\n",
       "      <th>4</th>\n",
       "      <td>case_0</td>\n",
       "      <td>Activity AG</td>\n",
       "      <td>1970-01-01 13:00:00</td>\n",
       "      <td>Resource_Group4_res_3</td>\n",
       "      <td>0</td>\n",
       "    </tr>\n",
       "  </tbody>\n",
       "</table>\n",
       "</div>"
      ],
      "text/plain": [
       "   caseid     activity                  ts               resource  outcome\n",
       "0  case_0   Activity A 1970-01-01 09:00:00  Resource_Group4_res_4        0\n",
       "1  case_0  Activity AB 1970-01-01 10:00:00  Resource_Group1_res_1        0\n",
       "2  case_0  Activity AF 1970-01-01 11:00:00  Resource_Group0_res_0        0\n",
       "3  case_0  Activity AC 1970-01-01 12:00:00  Resource_Group4_res_4        0\n",
       "4  case_0  Activity AG 1970-01-01 13:00:00  Resource_Group4_res_3        0"
      ]
     },
     "execution_count": 5,
     "metadata": {},
     "output_type": "execute_result"
    }
   ],
   "source": [
    "# resource_anomaly_type : outcome\n",
    "cols = ['caseid','activity','ts','resource','outcome']\n",
    "df_original = pd.DataFrame(original_data)\n",
    "df_original.columns = cols\n",
    "\n",
    "form = \"%Y-%m-%d %H:%M:%S\"\n",
    "df_original['ts'] = df_original['ts'].apply(lambda x: dt.strptime(x, form))\n",
    "\n",
    "df_original.head()\n"
   ]
  },
  {
   "cell_type": "code",
   "execution_count": 6,
   "metadata": {},
   "outputs": [
    {
     "data": {
      "text/plain": [
       "caseid              object\n",
       "activity            object\n",
       "ts          datetime64[ns]\n",
       "resource            object\n",
       "outcome              int64\n",
       "dtype: object"
      ]
     },
     "execution_count": 6,
     "metadata": {},
     "output_type": "execute_result"
    }
   ],
   "source": [
    "df_original.dtypes"
   ]
  },
  {
   "cell_type": "markdown",
   "metadata": {
    "id": "GUt2SeLRnZW_"
   },
   "source": [
    "## _3.Create a function that pre-processes an event log using index-based encoding and filters the prefixes of length L (you can reuse what you develop in the previous weeks)"
   ]
  },
  {
   "cell_type": "code",
   "execution_count": 7,
   "metadata": {
    "id": "uXr-suxCsA1C"
   },
   "outputs": [],
   "source": [
    "df_prefix = df_original"
   ]
  },
  {
   "cell_type": "code",
   "execution_count": 8,
   "metadata": {
    "id": "rhf76sMwjFpI"
   },
   "outputs": [],
   "source": [
    "def prefix_df(df, n = 2):\n",
    "\n",
    "    result_df = df.sort_values(['caseid', 'ts'], ascending=[True,True]).groupby('caseid').head(n)\n",
    "    result_df.reset_index(inplace = True, drop = True)\n",
    "\n",
    "    return result_df"
   ]
  },
  {
   "cell_type": "code",
   "execution_count": 9,
   "metadata": {
    "colab": {
     "base_uri": "https://localhost:8080/",
     "height": 358
    },
    "id": "D-Cito4pylC2",
    "outputId": "14159bcd-ee2b-47fc-80ca-1463d68b9b9d"
   },
   "outputs": [
    {
     "data": {
      "text/html": [
       "<div>\n",
       "<style scoped>\n",
       "    .dataframe tbody tr th:only-of-type {\n",
       "        vertical-align: middle;\n",
       "    }\n",
       "\n",
       "    .dataframe tbody tr th {\n",
       "        vertical-align: top;\n",
       "    }\n",
       "\n",
       "    .dataframe thead th {\n",
       "        text-align: right;\n",
       "    }\n",
       "</style>\n",
       "<table border=\"1\" class=\"dataframe\">\n",
       "  <thead>\n",
       "    <tr style=\"text-align: right;\">\n",
       "      <th></th>\n",
       "      <th>caseid</th>\n",
       "      <th>activity</th>\n",
       "      <th>ts</th>\n",
       "      <th>resource</th>\n",
       "      <th>outcome</th>\n",
       "    </tr>\n",
       "  </thead>\n",
       "  <tbody>\n",
       "    <tr>\n",
       "      <th>0</th>\n",
       "      <td>case_0</td>\n",
       "      <td>Activity A</td>\n",
       "      <td>1970-01-01 09:00:00</td>\n",
       "      <td>Resource_Group4_res_4</td>\n",
       "      <td>0</td>\n",
       "    </tr>\n",
       "    <tr>\n",
       "      <th>1</th>\n",
       "      <td>case_0</td>\n",
       "      <td>Activity AB</td>\n",
       "      <td>1970-01-01 10:00:00</td>\n",
       "      <td>Resource_Group1_res_1</td>\n",
       "      <td>0</td>\n",
       "    </tr>\n",
       "    <tr>\n",
       "      <th>2</th>\n",
       "      <td>case_0</td>\n",
       "      <td>Activity AF</td>\n",
       "      <td>1970-01-01 11:00:00</td>\n",
       "      <td>Resource_Group0_res_0</td>\n",
       "      <td>0</td>\n",
       "    </tr>\n",
       "    <tr>\n",
       "      <th>3</th>\n",
       "      <td>case_1</td>\n",
       "      <td>Activity A</td>\n",
       "      <td>1970-01-01 09:00:00</td>\n",
       "      <td>Resource_Group4_res_2</td>\n",
       "      <td>0</td>\n",
       "    </tr>\n",
       "    <tr>\n",
       "      <th>4</th>\n",
       "      <td>case_1</td>\n",
       "      <td>Activity AB</td>\n",
       "      <td>1970-01-01 10:00:00</td>\n",
       "      <td>Resource_Group1_res_1</td>\n",
       "      <td>0</td>\n",
       "    </tr>\n",
       "    <tr>\n",
       "      <th>5</th>\n",
       "      <td>case_1</td>\n",
       "      <td>Activity AF</td>\n",
       "      <td>1970-01-01 11:00:00</td>\n",
       "      <td>Resource_Group0_res_0</td>\n",
       "      <td>0</td>\n",
       "    </tr>\n",
       "    <tr>\n",
       "      <th>6</th>\n",
       "      <td>case_10</td>\n",
       "      <td>Activity A</td>\n",
       "      <td>1970-01-01 09:00:00</td>\n",
       "      <td>Resource_Group4_res_3</td>\n",
       "      <td>1</td>\n",
       "    </tr>\n",
       "    <tr>\n",
       "      <th>7</th>\n",
       "      <td>case_10</td>\n",
       "      <td>Activity AB</td>\n",
       "      <td>1970-01-01 10:00:00</td>\n",
       "      <td>Resource_Group1_res_0</td>\n",
       "      <td>1</td>\n",
       "    </tr>\n",
       "    <tr>\n",
       "      <th>8</th>\n",
       "      <td>case_10</td>\n",
       "      <td>Activity AF</td>\n",
       "      <td>1970-01-01 11:00:00</td>\n",
       "      <td>Resource_Group0_res_0</td>\n",
       "      <td>1</td>\n",
       "    </tr>\n",
       "    <tr>\n",
       "      <th>9</th>\n",
       "      <td>case_100</td>\n",
       "      <td>Activity A</td>\n",
       "      <td>1970-01-01 09:00:00</td>\n",
       "      <td>Resource_Group4_res_1</td>\n",
       "      <td>0</td>\n",
       "    </tr>\n",
       "  </tbody>\n",
       "</table>\n",
       "</div>"
      ],
      "text/plain": [
       "     caseid     activity                  ts               resource  outcome\n",
       "0    case_0   Activity A 1970-01-01 09:00:00  Resource_Group4_res_4        0\n",
       "1    case_0  Activity AB 1970-01-01 10:00:00  Resource_Group1_res_1        0\n",
       "2    case_0  Activity AF 1970-01-01 11:00:00  Resource_Group0_res_0        0\n",
       "3    case_1   Activity A 1970-01-01 09:00:00  Resource_Group4_res_2        0\n",
       "4    case_1  Activity AB 1970-01-01 10:00:00  Resource_Group1_res_1        0\n",
       "5    case_1  Activity AF 1970-01-01 11:00:00  Resource_Group0_res_0        0\n",
       "6   case_10   Activity A 1970-01-01 09:00:00  Resource_Group4_res_3        1\n",
       "7   case_10  Activity AB 1970-01-01 10:00:00  Resource_Group1_res_0        1\n",
       "8   case_10  Activity AF 1970-01-01 11:00:00  Resource_Group0_res_0        1\n",
       "9  case_100   Activity A 1970-01-01 09:00:00  Resource_Group4_res_1        0"
      ]
     },
     "execution_count": 9,
     "metadata": {},
     "output_type": "execute_result"
    }
   ],
   "source": [
    "df_pre = prefix_df(df_prefix,3)\n",
    "df_pre.head(10)"
   ]
  },
  {
   "cell_type": "markdown",
   "metadata": {
    "id": "-EY1voavzvQM"
   },
   "source": [
    "## _4. Create a function that, given an event log pre-processed as in step 3 (i.e., index-based encoded and containing only prefixes of a given length L), augments the log with the following resource-aware features:\n",
    "\n",
    "- n-work-items: the number of work items executed by the current resource until the current event\n",
    "  - 각 event의 resource가 한 일 중에 현재 event 보다 빨리 발생된 일 \n",
    "- n-curr-case: the number of tasks executed by the current resources in the current case until the current event\n",
    "  - 각 event의 resource가 한 일중에 동일 케이스 내 현재 event보다 이전에 발생된 일\n",
    "- per-case: the polarity of cases involving the current resource, completed until the current event\n",
    "  - 현재 이벤트의 리소스가 포함된 Case의 갯수 중 outcome이 1인 것 / 현재 이벤트의 리소스가 포함된 Case의 갯수 \n",
    "- per-curr-ho: the polarity of cases involving at least one hand-off equal to the current one, completed until the current event\n",
    "  - 직전 resource, 현재 resource의 세트가 동일한 경우를 가진 케이스 중 outcome이 1인 것/ 직전 resource, 현재 resource의 세트가 동일한 경우를 가진 케이스\n"
   ]
  },
  {
   "cell_type": "code",
   "execution_count": 10,
   "metadata": {
    "id": "Ux7QsiBj2UWo"
   },
   "outputs": [],
   "source": [
    "def preprocessing(df):\n",
    "    resource_list = df.resource.unique()\n",
    "    df[['n-work-items','n-Curr-case', 'per-case','per-curr-ho']] =  pd.DataFrame([[np.nan, np.nan, np.nan,np.nan]], index=df.index)\n",
    "\n",
    "    for i in resource_list:\n",
    "\n",
    "        # 각 Resource의 df 생성\n",
    "        df_target = df[df.resource == i]\n",
    "        df_target['one'] = 1 \n",
    "        df_target.loc[:,'previous_rcs'] = df.resource.shift(1)\n",
    "        df_target.reset_index(inplace=True)\n",
    "\n",
    "        for j in range(len(df_target)):\n",
    "          # 해당 resource를 가진 event 추적 및 update\n",
    "\n",
    "            # Keeping the original index of the event.\n",
    "            idx = df_target['index'].loc[j].astype(int)\n",
    "            # indicate the target time/case\n",
    "            target_time = df_target.ts.loc[j]\n",
    "            target_case = df_target.caseid.loc[j]\n",
    "\n",
    "            # /n-work-items calculation \n",
    "            a = df_target.loc[(df_target['ts'] < target_time)]['one'].transform(pd.Series.cumsum).tail(1).values \n",
    "\n",
    "            # n-Curr-case calculation \n",
    "            b = df_target.loc[(df_target.loc[:,'caseid'] == target_case)&(df_target.ts < target_time)]['one'].transform(pd.Series.cumsum).tail(1).values\n",
    "\n",
    "            # per-case calculation \n",
    "            c = len(df_target.loc[(df_target.ts< target_time)]['caseid'].unique())\n",
    "            conditional_c = len(df_target.loc[(df_target.ts < target_time) & (df_target.loc[:,'outcome'].values==1)]['caseid'].unique())\n",
    "\n",
    "            if a.size == 0:\n",
    "                df.loc[idx,'n-work-items'] = 0\n",
    "            else:\n",
    "                a = a.astype(int)\n",
    "                df.loc[idx,'n-work-items'] = a\n",
    "\n",
    "            if b.size == 0:\n",
    "                df.loc[idx,'n-Curr-case'] = 0\n",
    "            else:\n",
    "                b = b.astype(int)\n",
    "                df.loc[idx,'n-Curr-case'] = b\n",
    "\n",
    "            if c == 0 | conditional_c==0 | (c ==np.nan) | (conditional_c == np.nan):\n",
    "                df.loc[idx,'per-case'] = 0\n",
    "            else:\n",
    "                df.loc[idx,'per-case'] = conditional_c/c\n",
    "\n",
    "        # if there isn't the previous resource, the value of 'per-corr-ho' is 0.\n",
    "        if df_target.previous_rcs.isnull().values.any() :\n",
    "            df.loc[df_target['index'],'per-curr-ho'] = 0 \n",
    "\n",
    "\n",
    "        list_reRcs = df_target.previous_rcs.unique()\n",
    "        list_reRcs=[x for x in list_reRcs if x == x]\n",
    "\n",
    "        for r in range(len(list_reRcs)):\n",
    "\n",
    "            df_preRcs = df_target[df_target.previous_rcs == list_reRcs[r]]\n",
    "            d = len(df_preRcs.caseid.unique())\n",
    "            conditional_d = len(df_preRcs.loc[df_preRcs.outcome==1,'caseid'].unique())\n",
    "            df.loc[df_preRcs['index'],'per-curr-ho']= conditional_d/d\n",
    "\n",
    "\n",
    "    return df"
   ]
  },
  {
   "cell_type": "code",
   "execution_count": 11,
   "metadata": {
    "colab": {
     "base_uri": "https://localhost:8080/"
    },
    "id": "mgNfUyRG25Hz",
    "outputId": "e10a55b1-3921-4e57-9249-ba47639fa867"
   },
   "outputs": [
    {
     "name": "stderr",
     "output_type": "stream",
     "text": [
      "C:\\anaconda3\\lib\\site-packages\\ipykernel_launcher.py:9: SettingWithCopyWarning: \n",
      "A value is trying to be set on a copy of a slice from a DataFrame.\n",
      "Try using .loc[row_indexer,col_indexer] = value instead\n",
      "\n",
      "See the caveats in the documentation: https://pandas.pydata.org/pandas-docs/stable/user_guide/indexing.html#returning-a-view-versus-a-copy\n",
      "  if __name__ == '__main__':\n",
      "C:\\anaconda3\\lib\\site-packages\\pandas\\core\\indexing.py:844: SettingWithCopyWarning: \n",
      "A value is trying to be set on a copy of a slice from a DataFrame.\n",
      "Try using .loc[row_indexer,col_indexer] = value instead\n",
      "\n",
      "See the caveats in the documentation: https://pandas.pydata.org/pandas-docs/stable/user_guide/indexing.html#returning-a-view-versus-a-copy\n",
      "  self.obj[key] = _infer_fill_value(value)\n",
      "C:\\anaconda3\\lib\\site-packages\\pandas\\core\\indexing.py:965: SettingWithCopyWarning: \n",
      "A value is trying to be set on a copy of a slice from a DataFrame.\n",
      "Try using .loc[row_indexer,col_indexer] = value instead\n",
      "\n",
      "See the caveats in the documentation: https://pandas.pydata.org/pandas-docs/stable/user_guide/indexing.html#returning-a-view-versus-a-copy\n",
      "  self.obj[item] = s\n"
     ]
    }
   ],
   "source": [
    "df_final = preprocessing(df_pre)"
   ]
  },
  {
   "cell_type": "code",
   "execution_count": 12,
   "metadata": {
    "colab": {
     "base_uri": "https://localhost:8080/",
     "height": 605
    },
    "id": "aoQ3IB2XZOKA",
    "outputId": "ba7aff7e-a296-4d19-9952-a55c5e5b71d3"
   },
   "outputs": [
    {
     "data": {
      "text/html": [
       "<div>\n",
       "<style scoped>\n",
       "    .dataframe tbody tr th:only-of-type {\n",
       "        vertical-align: middle;\n",
       "    }\n",
       "\n",
       "    .dataframe tbody tr th {\n",
       "        vertical-align: top;\n",
       "    }\n",
       "\n",
       "    .dataframe thead th {\n",
       "        text-align: right;\n",
       "    }\n",
       "</style>\n",
       "<table border=\"1\" class=\"dataframe\">\n",
       "  <thead>\n",
       "    <tr style=\"text-align: right;\">\n",
       "      <th></th>\n",
       "      <th>caseid</th>\n",
       "      <th>activity</th>\n",
       "      <th>ts</th>\n",
       "      <th>resource</th>\n",
       "      <th>outcome</th>\n",
       "      <th>n-work-items</th>\n",
       "      <th>n-Curr-case</th>\n",
       "      <th>per-case</th>\n",
       "      <th>per-curr-ho</th>\n",
       "    </tr>\n",
       "  </thead>\n",
       "  <tbody>\n",
       "    <tr>\n",
       "      <th>0</th>\n",
       "      <td>case_0</td>\n",
       "      <td>Activity A</td>\n",
       "      <td>1970-01-01 09:00:00</td>\n",
       "      <td>Resource_Group4_res_4</td>\n",
       "      <td>0</td>\n",
       "      <td>26.0</td>\n",
       "      <td>0.0</td>\n",
       "      <td>0.307692</td>\n",
       "      <td>0.000000</td>\n",
       "    </tr>\n",
       "    <tr>\n",
       "      <th>1</th>\n",
       "      <td>case_0</td>\n",
       "      <td>Activity AB</td>\n",
       "      <td>1970-01-01 10:00:00</td>\n",
       "      <td>Resource_Group1_res_1</td>\n",
       "      <td>0</td>\n",
       "      <td>26.0</td>\n",
       "      <td>0.0</td>\n",
       "      <td>0.961538</td>\n",
       "      <td>0.270886</td>\n",
       "    </tr>\n",
       "    <tr>\n",
       "      <th>2</th>\n",
       "      <td>case_0</td>\n",
       "      <td>Activity AF</td>\n",
       "      <td>1970-01-01 11:00:00</td>\n",
       "      <td>Resource_Group0_res_0</td>\n",
       "      <td>0</td>\n",
       "      <td>40.0</td>\n",
       "      <td>0.0</td>\n",
       "      <td>1.000000</td>\n",
       "      <td>0.204461</td>\n",
       "    </tr>\n",
       "    <tr>\n",
       "      <th>3</th>\n",
       "      <td>case_1</td>\n",
       "      <td>Activity A</td>\n",
       "      <td>1970-01-01 09:00:00</td>\n",
       "      <td>Resource_Group4_res_2</td>\n",
       "      <td>0</td>\n",
       "      <td>1.0</td>\n",
       "      <td>0.0</td>\n",
       "      <td>0.000000</td>\n",
       "      <td>0.187611</td>\n",
       "    </tr>\n",
       "    <tr>\n",
       "      <th>4</th>\n",
       "      <td>case_1</td>\n",
       "      <td>Activity AB</td>\n",
       "      <td>1970-01-01 10:00:00</td>\n",
       "      <td>Resource_Group1_res_1</td>\n",
       "      <td>0</td>\n",
       "      <td>26.0</td>\n",
       "      <td>0.0</td>\n",
       "      <td>0.961538</td>\n",
       "      <td>0.225287</td>\n",
       "    </tr>\n",
       "    <tr>\n",
       "      <th>...</th>\n",
       "      <td>...</td>\n",
       "      <td>...</td>\n",
       "      <td>...</td>\n",
       "      <td>...</td>\n",
       "      <td>...</td>\n",
       "      <td>...</td>\n",
       "      <td>...</td>\n",
       "      <td>...</td>\n",
       "      <td>...</td>\n",
       "    </tr>\n",
       "    <tr>\n",
       "      <th>37495</th>\n",
       "      <td>case_9998</td>\n",
       "      <td>Activity C</td>\n",
       "      <td>1970-01-01 10:00:00</td>\n",
       "      <td>Resource_Group3_res_1</td>\n",
       "      <td>0</td>\n",
       "      <td>13.0</td>\n",
       "      <td>0.0</td>\n",
       "      <td>1.000000</td>\n",
       "      <td>0.169014</td>\n",
       "    </tr>\n",
       "    <tr>\n",
       "      <th>37496</th>\n",
       "      <td>case_9998</td>\n",
       "      <td>Activity D</td>\n",
       "      <td>1970-01-01 11:00:00</td>\n",
       "      <td>Resource_Group4_res_4</td>\n",
       "      <td>0</td>\n",
       "      <td>2562.0</td>\n",
       "      <td>0.0</td>\n",
       "      <td>0.220319</td>\n",
       "      <td>0.192641</td>\n",
       "    </tr>\n",
       "    <tr>\n",
       "      <th>37497</th>\n",
       "      <td>case_9999</td>\n",
       "      <td>Activity A</td>\n",
       "      <td>1970-01-01 09:00:00</td>\n",
       "      <td>Resource_Group4_res_0</td>\n",
       "      <td>0</td>\n",
       "      <td>3.0</td>\n",
       "      <td>0.0</td>\n",
       "      <td>0.333333</td>\n",
       "      <td>0.268293</td>\n",
       "    </tr>\n",
       "    <tr>\n",
       "      <th>37498</th>\n",
       "      <td>case_9999</td>\n",
       "      <td>Activity C</td>\n",
       "      <td>1970-01-01 10:00:00</td>\n",
       "      <td>Resource_Group3_res_3</td>\n",
       "      <td>0</td>\n",
       "      <td>15.0</td>\n",
       "      <td>0.0</td>\n",
       "      <td>0.866667</td>\n",
       "      <td>0.199052</td>\n",
       "    </tr>\n",
       "    <tr>\n",
       "      <th>37499</th>\n",
       "      <td>case_9999</td>\n",
       "      <td>Activity D</td>\n",
       "      <td>1970-01-01 11:00:00</td>\n",
       "      <td>Resource_Group4_res_1</td>\n",
       "      <td>0</td>\n",
       "      <td>2531.0</td>\n",
       "      <td>0.0</td>\n",
       "      <td>0.206082</td>\n",
       "      <td>0.169421</td>\n",
       "    </tr>\n",
       "  </tbody>\n",
       "</table>\n",
       "<p>37500 rows × 9 columns</p>\n",
       "</div>"
      ],
      "text/plain": [
       "          caseid     activity                  ts               resource  \\\n",
       "0         case_0   Activity A 1970-01-01 09:00:00  Resource_Group4_res_4   \n",
       "1         case_0  Activity AB 1970-01-01 10:00:00  Resource_Group1_res_1   \n",
       "2         case_0  Activity AF 1970-01-01 11:00:00  Resource_Group0_res_0   \n",
       "3         case_1   Activity A 1970-01-01 09:00:00  Resource_Group4_res_2   \n",
       "4         case_1  Activity AB 1970-01-01 10:00:00  Resource_Group1_res_1   \n",
       "...          ...          ...                 ...                    ...   \n",
       "37495  case_9998   Activity C 1970-01-01 10:00:00  Resource_Group3_res_1   \n",
       "37496  case_9998   Activity D 1970-01-01 11:00:00  Resource_Group4_res_4   \n",
       "37497  case_9999   Activity A 1970-01-01 09:00:00  Resource_Group4_res_0   \n",
       "37498  case_9999   Activity C 1970-01-01 10:00:00  Resource_Group3_res_3   \n",
       "37499  case_9999   Activity D 1970-01-01 11:00:00  Resource_Group4_res_1   \n",
       "\n",
       "       outcome  n-work-items  n-Curr-case  per-case  per-curr-ho  \n",
       "0            0          26.0          0.0  0.307692     0.000000  \n",
       "1            0          26.0          0.0  0.961538     0.270886  \n",
       "2            0          40.0          0.0  1.000000     0.204461  \n",
       "3            0           1.0          0.0  0.000000     0.187611  \n",
       "4            0          26.0          0.0  0.961538     0.225287  \n",
       "...        ...           ...          ...       ...          ...  \n",
       "37495        0          13.0          0.0  1.000000     0.169014  \n",
       "37496        0        2562.0          0.0  0.220319     0.192641  \n",
       "37497        0           3.0          0.0  0.333333     0.268293  \n",
       "37498        0          15.0          0.0  0.866667     0.199052  \n",
       "37499        0        2531.0          0.0  0.206082     0.169421  \n",
       "\n",
       "[37500 rows x 9 columns]"
      ]
     },
     "execution_count": 12,
     "metadata": {},
     "output_type": "execute_result"
    }
   ],
   "source": [
    "df_final"
   ]
  },
  {
   "cell_type": "markdown",
   "metadata": {
    "id": "_pc22PFpdUe-"
   },
   "source": [
    "## Q5. Train a decision tree and a gradient boosting model from the scikit-learn package for outcome label prediction using the event log created at step 4 for prefix length L=2 and L=5.  Split 70-30 for training-testing.\n",
    "\n",
    "- Hyperparameters:\n",
    "  - DT max_depth = 5, random_state = 1234\n",
    "  - GBM max_depth = 3, random_state = 1234\n"
   ]
  },
  {
   "cell_type": "code",
   "execution_count": 13,
   "metadata": {
    "id": "qPSChhgOgu_Q"
   },
   "outputs": [],
   "source": [
    "from sklearn.tree import DecisionTreeClassifier\n",
    "from sklearn.model_selection import train_test_split\n",
    "from sklearn.metrics import  accuracy_score         # between pred_result and real outcome\n",
    "from sklearn import preprocessing                   # To convert 'Activity' into the float type of data\n",
    "\n",
    "from sklearn.ensemble import GradientBoostingClassifier"
   ]
  },
  {
   "cell_type": "markdown",
   "metadata": {
    "id": "FK8lJYCFdUqy"
   },
   "source": [
    "### Q5-1. Decision Tree \n",
    "\n",
    "- DT max_depth = 5, random_state = 1234\n",
    "\n"
   ]
  },
  {
   "cell_type": "code",
   "execution_count": 14,
   "metadata": {
    "colab": {
     "base_uri": "https://localhost:8080/"
    },
    "id": "kpuf8hYSiP_r",
    "outputId": "eba5bab1-77cc-4d0c-b60f-98cd1cab1edb"
   },
   "outputs": [
    {
     "data": {
      "text/plain": [
       "Index(['caseid', 'activity', 'ts', 'resource', 'outcome', 'n-work-items',\n",
       "       'n-Curr-case', 'per-case', 'per-curr-ho'],\n",
       "      dtype='object')"
      ]
     },
     "execution_count": 14,
     "metadata": {},
     "output_type": "execute_result"
    }
   ],
   "source": [
    "df_final.columns"
   ]
  },
  {
   "cell_type": "code",
   "execution_count": 15,
   "metadata": {
    "id": "UAcAa70isIPD"
   },
   "outputs": [],
   "source": [
    "# ,'activity','caseid','resource'\n",
    "encorded_pre2 = df_final"
   ]
  },
  {
   "cell_type": "code",
   "execution_count": 16,
   "metadata": {
    "id": "VyfKve7nqVfY"
   },
   "outputs": [],
   "source": [
    "le = preprocessing.LabelEncoder()\n",
    "encorded_pre2['new_activity']=le.fit_transform(df_final['activity'])\n",
    "encorded_pre2['new_caseid']=le.fit_transform(df_final['caseid'])\n",
    "encorded_pre2['new_resource']=le.fit_transform(df_final['resource'])\n",
    "encorded_pre2['new_ts']=le.fit_transform(df_final['ts'])\n"
   ]
  },
  {
   "cell_type": "code",
   "execution_count": 17,
   "metadata": {
    "id": "UL73IlFJYH1K"
   },
   "outputs": [],
   "source": [
    "#  define X,y\n",
    "X = encorded_pre2.loc[:, encorded_pre2.columns.difference(['outcome','activity','caseid','resource','ts'])]\n",
    "y = encorded_pre2['outcome']"
   ]
  },
  {
   "cell_type": "code",
   "execution_count": 18,
   "metadata": {
    "colab": {
     "base_uri": "https://localhost:8080/"
    },
    "id": "wfcr5wwQx6x2",
    "outputId": "b480a947-c67a-4724-d3a2-c47471310563"
   },
   "outputs": [
    {
     "data": {
      "text/plain": [
       "((26250, 8), (11250, 8), (26250,), (11250,))"
      ]
     },
     "execution_count": 18,
     "metadata": {},
     "output_type": "execute_result"
    }
   ],
   "source": [
    "# Data Prepare-> 70:30,(train/test, X,y)\n",
    "\n",
    "X_train, X_test, y_train, y_test = train_test_split( X, y, test_size=0.3 )\n",
    "X_train.shape, X_test.shape, y_train.shape, y_test.shape"
   ]
  },
  {
   "cell_type": "code",
   "execution_count": 19,
   "metadata": {
    "id": "56kitc4nwVW2"
   },
   "outputs": [],
   "source": [
    "# Recreate the train/test data for dataset without the resource aware features. \n",
    "X_train_withoutRsc = X_train.loc[:, X_train.columns.difference(['n-Curr-case','n-work-items','per-case','per-curr-ho'])]\n",
    "X_test_withoutRsc = X_test.loc[:, X_test.columns.difference(['n-Curr-case','n-work-items','per-case','per-curr-ho'])]\n"
   ]
  },
  {
   "cell_type": "code",
   "execution_count": 20,
   "metadata": {
    "colab": {
     "base_uri": "https://localhost:8080/"
    },
    "id": "5NVWgNyxx66p",
    "outputId": "3c7511d1-c77b-4240-8080-403095a76eec"
   },
   "outputs": [
    {
     "name": "stdout",
     "output_type": "stream",
     "text": [
      "Accuracy for data with the resource-aware features :  0.8136888888888889\n"
     ]
    }
   ],
   "source": [
    "# Generate DT algorithm\n",
    "clf = DecisionTreeClassifier( max_depth = 5, random_state = 1234)\n",
    "# train\n",
    "clf.fit( X_train, y_train)\n",
    "# predict\n",
    "y_pred = clf.predict( X_test )\n",
    "\n",
    "print('Accuracy for data with the resource-aware features : ', accuracy_score(y_test, y_pred)  )"
   ]
  },
  {
   "cell_type": "code",
   "execution_count": 21,
   "metadata": {
    "colab": {
     "base_uri": "https://localhost:8080/"
    },
    "id": "-QiOCO_evhuz",
    "outputId": "dae5d64c-b0c4-4f80-c229-42b0c140b671"
   },
   "outputs": [
    {
     "name": "stdout",
     "output_type": "stream",
     "text": [
      "Accuracy for data without the resource-aware features :  0.8136\n"
     ]
    }
   ],
   "source": [
    "# Generate DT algorithm\n",
    "clf = DecisionTreeClassifier( max_depth = 5, random_state = 1234)\n",
    "# train\n",
    "clf.fit( X_train_withoutRsc, y_train)\n",
    "# predict\n",
    "y_pred = clf.predict( X_test_withoutRsc )\n",
    "\n",
    "print('Accuracy for data without the resource-aware features : ', accuracy_score(y_test, y_pred)  )"
   ]
  },
  {
   "cell_type": "markdown",
   "metadata": {
    "id": "AQieAFMAr4Ly"
   },
   "source": [
    "### Q5-2. a gradient boosting model\n",
    "\n",
    "-  GBM max_depth = 3, random_state = 1234\n"
   ]
  },
  {
   "cell_type": "code",
   "execution_count": 22,
   "metadata": {
    "colab": {
     "base_uri": "https://localhost:8080/"
    },
    "id": "oomAvTPvm5o5",
    "outputId": "5a6b2a22-3b60-46b5-8756-848001d3a820"
   },
   "outputs": [
    {
     "name": "stdout",
     "output_type": "stream",
     "text": [
      "Accuracy for data with the resource-aware features : 0.8192\n"
     ]
    }
   ],
   "source": [
    "# GBM\n",
    "gb_clf = GradientBoostingClassifier(max_depth = 3, random_state = 1234 )\n",
    "gb_clf.fit( X_train, y_train )\n",
    "pred   = gb_clf.predict( X_test )\n",
    "print('Accuracy for data with the resource-aware features :', accuracy_score(y_test, pred)  )"
   ]
  },
  {
   "cell_type": "code",
   "execution_count": 23,
   "metadata": {
    "colab": {
     "base_uri": "https://localhost:8080/"
    },
    "id": "oh2WG4nGwoJO",
    "outputId": "fdcc7b36-2c74-4189-b386-fcf57eeec656"
   },
   "outputs": [
    {
     "name": "stdout",
     "output_type": "stream",
     "text": [
      "Accuracy for data with the resource-aware features : 0.8152\n"
     ]
    }
   ],
   "source": [
    "from sklearn.ensemble import GradientBoostingClassifier\n",
    "\n",
    "# GBM\n",
    "gb_clf = GradientBoostingClassifier(max_depth = 3, random_state = 1234 )\n",
    "gb_clf.fit( X_train_withoutRsc, y_train )\n",
    "pred   = gb_clf.predict( X_test_withoutRsc )\n",
    "print('Accuracy for data with the resource-aware features :', accuracy_score(y_test, pred)  )"
   ]
  },
  {
   "cell_type": "markdown",
   "metadata": {
    "id": "HCYV-eAs24pw"
   },
   "source": [
    "# Data : sepsis (real)"
   ]
  },
  {
   "cell_type": "markdown",
   "metadata": {
    "id": "wC6GlbnL24p0"
   },
   "source": [
    "## _1. Import an event log as a pandas dataframe\n"
   ]
  },
  {
   "cell_type": "markdown",
   "metadata": {
    "id": "7ZA07I8BxR9B"
   },
   "source": []
  },
  {
   "cell_type": "code",
   "execution_count": 24,
   "metadata": {
    "colab": {
     "base_uri": "https://localhost:8080/",
     "height": 203
    },
    "id": "z46tDJlr24p1",
    "outputId": "01be1f9e-96ed-460d-a569-7a0f1c71a7f2"
   },
   "outputs": [
    {
     "data": {
      "text/html": [
       "<div>\n",
       "<style scoped>\n",
       "    .dataframe tbody tr th:only-of-type {\n",
       "        vertical-align: middle;\n",
       "    }\n",
       "\n",
       "    .dataframe tbody tr th {\n",
       "        vertical-align: top;\n",
       "    }\n",
       "\n",
       "    .dataframe thead th {\n",
       "        text-align: right;\n",
       "    }\n",
       "</style>\n",
       "<table border=\"1\" class=\"dataframe\">\n",
       "  <thead>\n",
       "    <tr style=\"text-align: right;\">\n",
       "      <th></th>\n",
       "      <th>case_id</th>\n",
       "      <th>activity</th>\n",
       "      <th>resource</th>\n",
       "      <th>timestamp</th>\n",
       "      <th>diagnose</th>\n",
       "    </tr>\n",
       "  </thead>\n",
       "  <tbody>\n",
       "    <tr>\n",
       "      <th>0</th>\n",
       "      <td>A</td>\n",
       "      <td>ER Registration</td>\n",
       "      <td>A</td>\n",
       "      <td>2014-10-22 11:15:41</td>\n",
       "      <td>1</td>\n",
       "    </tr>\n",
       "    <tr>\n",
       "      <th>1</th>\n",
       "      <td>A</td>\n",
       "      <td>Leucocytes</td>\n",
       "      <td>B</td>\n",
       "      <td>2014-10-22 11:27:00</td>\n",
       "      <td>1</td>\n",
       "    </tr>\n",
       "    <tr>\n",
       "      <th>2</th>\n",
       "      <td>A</td>\n",
       "      <td>CRP</td>\n",
       "      <td>B</td>\n",
       "      <td>2014-10-22 11:27:00</td>\n",
       "      <td>1</td>\n",
       "    </tr>\n",
       "    <tr>\n",
       "      <th>3</th>\n",
       "      <td>A</td>\n",
       "      <td>LacticAcid</td>\n",
       "      <td>B</td>\n",
       "      <td>2014-10-22 11:27:00</td>\n",
       "      <td>1</td>\n",
       "    </tr>\n",
       "    <tr>\n",
       "      <th>4</th>\n",
       "      <td>A</td>\n",
       "      <td>ER Triage</td>\n",
       "      <td>C</td>\n",
       "      <td>2014-10-22 11:33:37</td>\n",
       "      <td>1</td>\n",
       "    </tr>\n",
       "  </tbody>\n",
       "</table>\n",
       "</div>"
      ],
      "text/plain": [
       "  case_id         activity resource            timestamp  diagnose\n",
       "0       A  ER Registration        A  2014-10-22 11:15:41         1\n",
       "1       A       Leucocytes        B  2014-10-22 11:27:00         1\n",
       "2       A              CRP        B  2014-10-22 11:27:00         1\n",
       "3       A       LacticAcid        B  2014-10-22 11:27:00         1\n",
       "4       A        ER Triage        C  2014-10-22 11:33:37         1"
      ]
     },
     "execution_count": 24,
     "metadata": {},
     "output_type": "execute_result"
    }
   ],
   "source": [
    "original_data = pd.read_csv('sepsis_hw4-binary-label-diagnose-correct.csv')\n",
    "original_data.head(5)"
   ]
  },
  {
   "cell_type": "code",
   "execution_count": 25,
   "metadata": {
    "colab": {
     "base_uri": "https://localhost:8080/"
    },
    "id": "2vPG1RGh24p5",
    "outputId": "14502ba5-44c1-49ff-8db1-4e3763c124a3"
   },
   "outputs": [
    {
     "data": {
      "text/plain": [
       "case_id      object\n",
       "activity     object\n",
       "resource     object\n",
       "timestamp    object\n",
       "diagnose      int64\n",
       "dtype: object"
      ]
     },
     "execution_count": 25,
     "metadata": {},
     "output_type": "execute_result"
    }
   ],
   "source": [
    "original_data.dtypes"
   ]
  },
  {
   "cell_type": "markdown",
   "metadata": {
    "id": "fLp9wYqb24p9"
   },
   "source": [
    "## _2. Create an event log that retains only the attributes caseid, activity, timestamp, resource, outcome. Rename the attributes as “caseid, activity, ts, resource, outcome” if names are different"
   ]
  },
  {
   "cell_type": "code",
   "execution_count": 26,
   "metadata": {
    "colab": {
     "base_uri": "https://localhost:8080/",
     "height": 203
    },
    "id": "OSSfCLfr24p-",
    "outputId": "09272d10-1c86-4b32-8e7c-c60591c5f182"
   },
   "outputs": [
    {
     "data": {
      "text/html": [
       "<div>\n",
       "<style scoped>\n",
       "    .dataframe tbody tr th:only-of-type {\n",
       "        vertical-align: middle;\n",
       "    }\n",
       "\n",
       "    .dataframe tbody tr th {\n",
       "        vertical-align: top;\n",
       "    }\n",
       "\n",
       "    .dataframe thead th {\n",
       "        text-align: right;\n",
       "    }\n",
       "</style>\n",
       "<table border=\"1\" class=\"dataframe\">\n",
       "  <thead>\n",
       "    <tr style=\"text-align: right;\">\n",
       "      <th></th>\n",
       "      <th>caseid</th>\n",
       "      <th>activity</th>\n",
       "      <th>resource</th>\n",
       "      <th>ts</th>\n",
       "      <th>outcome</th>\n",
       "    </tr>\n",
       "  </thead>\n",
       "  <tbody>\n",
       "    <tr>\n",
       "      <th>0</th>\n",
       "      <td>A</td>\n",
       "      <td>ER Registration</td>\n",
       "      <td>A</td>\n",
       "      <td>2014-10-22 11:15:41</td>\n",
       "      <td>1</td>\n",
       "    </tr>\n",
       "    <tr>\n",
       "      <th>1</th>\n",
       "      <td>A</td>\n",
       "      <td>Leucocytes</td>\n",
       "      <td>B</td>\n",
       "      <td>2014-10-22 11:27:00</td>\n",
       "      <td>1</td>\n",
       "    </tr>\n",
       "    <tr>\n",
       "      <th>2</th>\n",
       "      <td>A</td>\n",
       "      <td>CRP</td>\n",
       "      <td>B</td>\n",
       "      <td>2014-10-22 11:27:00</td>\n",
       "      <td>1</td>\n",
       "    </tr>\n",
       "    <tr>\n",
       "      <th>3</th>\n",
       "      <td>A</td>\n",
       "      <td>LacticAcid</td>\n",
       "      <td>B</td>\n",
       "      <td>2014-10-22 11:27:00</td>\n",
       "      <td>1</td>\n",
       "    </tr>\n",
       "    <tr>\n",
       "      <th>4</th>\n",
       "      <td>A</td>\n",
       "      <td>ER Triage</td>\n",
       "      <td>C</td>\n",
       "      <td>2014-10-22 11:33:37</td>\n",
       "      <td>1</td>\n",
       "    </tr>\n",
       "  </tbody>\n",
       "</table>\n",
       "</div>"
      ],
      "text/plain": [
       "  caseid         activity resource                  ts  outcome\n",
       "0      A  ER Registration        A 2014-10-22 11:15:41        1\n",
       "1      A       Leucocytes        B 2014-10-22 11:27:00        1\n",
       "2      A              CRP        B 2014-10-22 11:27:00        1\n",
       "3      A       LacticAcid        B 2014-10-22 11:27:00        1\n",
       "4      A        ER Triage        C 2014-10-22 11:33:37        1"
      ]
     },
     "execution_count": 26,
     "metadata": {},
     "output_type": "execute_result"
    }
   ],
   "source": [
    "# resource_anomaly_type : outcome\n",
    "cols = ['caseid','activity','resource','ts','outcome']\n",
    "df_original = pd.DataFrame(original_data)\n",
    "df_original.columns = cols\n",
    "\n",
    "form = \"%Y-%m-%d %H:%M:%S\"\n",
    "df_original['ts'] = df_original['ts'].apply(lambda x: dt.strptime(x, form))\n",
    "\n",
    "df_original.head()"
   ]
  },
  {
   "cell_type": "markdown",
   "metadata": {
    "id": "jFcErhBA24qA"
   },
   "source": [
    "## _3.Create a function that pre-processes an event log using index-based encoding and filters the prefixes of length L (you can reuse what you develop in the previous weeks)"
   ]
  },
  {
   "cell_type": "code",
   "execution_count": 27,
   "metadata": {
    "id": "Yc3jwKy124qA"
   },
   "outputs": [],
   "source": [
    "df_prefix = df_original"
   ]
  },
  {
   "cell_type": "code",
   "execution_count": 28,
   "metadata": {
    "id": "35tTGsXN24qC"
   },
   "outputs": [],
   "source": [
    "def prefix_df(df, n = 2):\n",
    "\n",
    "    result_df = df.sort_values(['caseid', 'ts'], ascending=[True,True]).groupby('caseid').head(n)\n",
    "    result_df.reset_index(inplace = True, drop = True)\n",
    "\n",
    "    return result_df"
   ]
  },
  {
   "cell_type": "code",
   "execution_count": 29,
   "metadata": {
    "colab": {
     "base_uri": "https://localhost:8080/",
     "height": 203
    },
    "id": "GJquBJXP24qE",
    "outputId": "1a64aa24-605e-4ccc-8650-b264bade3ffa"
   },
   "outputs": [
    {
     "data": {
      "text/html": [
       "<div>\n",
       "<style scoped>\n",
       "    .dataframe tbody tr th:only-of-type {\n",
       "        vertical-align: middle;\n",
       "    }\n",
       "\n",
       "    .dataframe tbody tr th {\n",
       "        vertical-align: top;\n",
       "    }\n",
       "\n",
       "    .dataframe thead th {\n",
       "        text-align: right;\n",
       "    }\n",
       "</style>\n",
       "<table border=\"1\" class=\"dataframe\">\n",
       "  <thead>\n",
       "    <tr style=\"text-align: right;\">\n",
       "      <th></th>\n",
       "      <th>caseid</th>\n",
       "      <th>activity</th>\n",
       "      <th>resource</th>\n",
       "      <th>ts</th>\n",
       "      <th>outcome</th>\n",
       "    </tr>\n",
       "  </thead>\n",
       "  <tbody>\n",
       "    <tr>\n",
       "      <th>0</th>\n",
       "      <td>A</td>\n",
       "      <td>ER Registration</td>\n",
       "      <td>A</td>\n",
       "      <td>2014-10-22 11:15:41</td>\n",
       "      <td>1</td>\n",
       "    </tr>\n",
       "    <tr>\n",
       "      <th>1</th>\n",
       "      <td>A</td>\n",
       "      <td>ER Registration</td>\n",
       "      <td>A</td>\n",
       "      <td>2014-10-22 11:15:41</td>\n",
       "      <td>1</td>\n",
       "    </tr>\n",
       "    <tr>\n",
       "      <th>2</th>\n",
       "      <td>AAA</td>\n",
       "      <td>ER Registration</td>\n",
       "      <td>A</td>\n",
       "      <td>2014-11-19 03:16:21</td>\n",
       "      <td>1</td>\n",
       "    </tr>\n",
       "    <tr>\n",
       "      <th>3</th>\n",
       "      <td>AAA</td>\n",
       "      <td>ER Registration</td>\n",
       "      <td>A</td>\n",
       "      <td>2014-11-19 03:16:21</td>\n",
       "      <td>1</td>\n",
       "    </tr>\n",
       "    <tr>\n",
       "      <th>4</th>\n",
       "      <td>ABA</td>\n",
       "      <td>ER Registration</td>\n",
       "      <td>A</td>\n",
       "      <td>2014-10-12 11:22:24</td>\n",
       "      <td>1</td>\n",
       "    </tr>\n",
       "  </tbody>\n",
       "</table>\n",
       "</div>"
      ],
      "text/plain": [
       "  caseid         activity resource                  ts  outcome\n",
       "0      A  ER Registration        A 2014-10-22 11:15:41        1\n",
       "1      A  ER Registration        A 2014-10-22 11:15:41        1\n",
       "2    AAA  ER Registration        A 2014-11-19 03:16:21        1\n",
       "3    AAA  ER Registration        A 2014-11-19 03:16:21        1\n",
       "4    ABA  ER Registration        A 2014-10-12 11:22:24        1"
      ]
     },
     "execution_count": 29,
     "metadata": {},
     "output_type": "execute_result"
    }
   ],
   "source": [
    "df_prefix2 = prefix_df(df_prefix,2)\n",
    "df_prefix2.head()"
   ]
  },
  {
   "cell_type": "code",
   "execution_count": 30,
   "metadata": {
    "colab": {
     "base_uri": "https://localhost:8080/",
     "height": 358
    },
    "id": "HrSGOBfEz01v",
    "outputId": "5bb34bb6-4220-4c03-f113-2bfd4bb9b6db"
   },
   "outputs": [
    {
     "data": {
      "text/html": [
       "<div>\n",
       "<style scoped>\n",
       "    .dataframe tbody tr th:only-of-type {\n",
       "        vertical-align: middle;\n",
       "    }\n",
       "\n",
       "    .dataframe tbody tr th {\n",
       "        vertical-align: top;\n",
       "    }\n",
       "\n",
       "    .dataframe thead th {\n",
       "        text-align: right;\n",
       "    }\n",
       "</style>\n",
       "<table border=\"1\" class=\"dataframe\">\n",
       "  <thead>\n",
       "    <tr style=\"text-align: right;\">\n",
       "      <th></th>\n",
       "      <th>caseid</th>\n",
       "      <th>activity</th>\n",
       "      <th>resource</th>\n",
       "      <th>ts</th>\n",
       "      <th>outcome</th>\n",
       "    </tr>\n",
       "  </thead>\n",
       "  <tbody>\n",
       "    <tr>\n",
       "      <th>0</th>\n",
       "      <td>A</td>\n",
       "      <td>ER Registration</td>\n",
       "      <td>A</td>\n",
       "      <td>2014-10-22 11:15:41</td>\n",
       "      <td>1</td>\n",
       "    </tr>\n",
       "    <tr>\n",
       "      <th>1</th>\n",
       "      <td>A</td>\n",
       "      <td>ER Registration</td>\n",
       "      <td>A</td>\n",
       "      <td>2014-10-22 11:15:41</td>\n",
       "      <td>1</td>\n",
       "    </tr>\n",
       "    <tr>\n",
       "      <th>2</th>\n",
       "      <td>A</td>\n",
       "      <td>Leucocytes</td>\n",
       "      <td>B</td>\n",
       "      <td>2014-10-22 11:27:00</td>\n",
       "      <td>1</td>\n",
       "    </tr>\n",
       "    <tr>\n",
       "      <th>3</th>\n",
       "      <td>A</td>\n",
       "      <td>CRP</td>\n",
       "      <td>B</td>\n",
       "      <td>2014-10-22 11:27:00</td>\n",
       "      <td>1</td>\n",
       "    </tr>\n",
       "    <tr>\n",
       "      <th>4</th>\n",
       "      <td>A</td>\n",
       "      <td>LacticAcid</td>\n",
       "      <td>B</td>\n",
       "      <td>2014-10-22 11:27:00</td>\n",
       "      <td>1</td>\n",
       "    </tr>\n",
       "    <tr>\n",
       "      <th>5</th>\n",
       "      <td>AAA</td>\n",
       "      <td>ER Registration</td>\n",
       "      <td>A</td>\n",
       "      <td>2014-11-19 03:16:21</td>\n",
       "      <td>1</td>\n",
       "    </tr>\n",
       "    <tr>\n",
       "      <th>6</th>\n",
       "      <td>AAA</td>\n",
       "      <td>ER Registration</td>\n",
       "      <td>A</td>\n",
       "      <td>2014-11-19 03:16:21</td>\n",
       "      <td>1</td>\n",
       "    </tr>\n",
       "    <tr>\n",
       "      <th>7</th>\n",
       "      <td>AAA</td>\n",
       "      <td>ER Triage</td>\n",
       "      <td>C</td>\n",
       "      <td>2014-11-19 03:18:49</td>\n",
       "      <td>1</td>\n",
       "    </tr>\n",
       "    <tr>\n",
       "      <th>8</th>\n",
       "      <td>AAA</td>\n",
       "      <td>ER Triage</td>\n",
       "      <td>C</td>\n",
       "      <td>2014-11-19 03:18:49</td>\n",
       "      <td>1</td>\n",
       "    </tr>\n",
       "    <tr>\n",
       "      <th>9</th>\n",
       "      <td>AAA</td>\n",
       "      <td>ER Sepsis Triage</td>\n",
       "      <td>A</td>\n",
       "      <td>2014-11-19 03:19:09</td>\n",
       "      <td>1</td>\n",
       "    </tr>\n",
       "  </tbody>\n",
       "</table>\n",
       "</div>"
      ],
      "text/plain": [
       "  caseid          activity resource                  ts  outcome\n",
       "0      A   ER Registration        A 2014-10-22 11:15:41        1\n",
       "1      A   ER Registration        A 2014-10-22 11:15:41        1\n",
       "2      A        Leucocytes        B 2014-10-22 11:27:00        1\n",
       "3      A               CRP        B 2014-10-22 11:27:00        1\n",
       "4      A        LacticAcid        B 2014-10-22 11:27:00        1\n",
       "5    AAA   ER Registration        A 2014-11-19 03:16:21        1\n",
       "6    AAA   ER Registration        A 2014-11-19 03:16:21        1\n",
       "7    AAA         ER Triage        C 2014-11-19 03:18:49        1\n",
       "8    AAA         ER Triage        C 2014-11-19 03:18:49        1\n",
       "9    AAA  ER Sepsis Triage        A 2014-11-19 03:19:09        1"
      ]
     },
     "execution_count": 30,
     "metadata": {},
     "output_type": "execute_result"
    }
   ],
   "source": [
    "df_prefix5 = prefix_df(df_prefix,5)\n",
    "df_prefix5.head(10)"
   ]
  },
  {
   "cell_type": "markdown",
   "metadata": {
    "id": "YwkWN7w80C4w"
   },
   "source": [
    "## _4. Create a function that, given an event log pre-processed as in step 3 (i.e., index-based encoded and containing only prefixes of a given length L), augments the log with the following resource-aware features:\n"
   ]
  },
  {
   "cell_type": "code",
   "execution_count": 31,
   "metadata": {
    "id": "v3r_d0xS0eqB"
   },
   "outputs": [],
   "source": [
    "def preprocessing(df):\n",
    "    resource_list = df.resource.unique()\n",
    "    df[['n-work-items','n-Curr-case', 'per-case','per-curr-ho']] =  pd.DataFrame([[np.nan, np.nan, np.nan,np.nan]], index=df.index)\n",
    "\n",
    "    for i in resource_list:\n",
    "\n",
    "        # 각 Resource의 df 생성\n",
    "        df_target = df[df.resource == i]\n",
    "        df_target['one'] = 1 \n",
    "        df_target.loc[:,'previous_rcs'] = df.resource.shift(1)\n",
    "        df_target.reset_index(inplace=True)\n",
    "\n",
    "        for j in range(len(df_target)):\n",
    "          # 해당 resource를 가진 event 추적 및 update\n",
    "\n",
    "            # Keeping the original index of the event.\n",
    "            idx = df_target['index'].loc[j].astype(int)\n",
    "            # indicate the target time/case\n",
    "            target_time = df_target.ts.loc[j]\n",
    "            target_case = df_target.caseid.loc[j]\n",
    "\n",
    "            # /n-work-items calculation \n",
    "            a = df_target.loc[(df_target['ts'] < target_time)]['one'].transform(pd.Series.cumsum).tail(1).values \n",
    "\n",
    "            # n-Curr-case calculation \n",
    "            b = df_target.loc[(df_target.loc[:,'caseid'] == target_case)&(df_target.ts < target_time)]['one'].transform(pd.Series.cumsum).tail(1).values\n",
    "\n",
    "            # per-case calculation \n",
    "            c = len(df_target.loc[(df_target.ts< target_time)]['caseid'].unique())\n",
    "            conditional_c = len(df_target.loc[(df_target.ts < target_time) & (df_target.loc[:,'outcome'].values==1)]['caseid'].unique())\n",
    "\n",
    "            if a.size == 0:\n",
    "                df.loc[idx,'n-work-items'] = 0\n",
    "            else:\n",
    "                a = a.astype(int)\n",
    "                df.loc[idx,'n-work-items'] = a\n",
    "\n",
    "            if b.size == 0:\n",
    "                df.loc[idx,'n-Curr-case'] = 0\n",
    "            else:\n",
    "                b = b.astype(int)\n",
    "                df.loc[idx,'n-Curr-case'] = b\n",
    "\n",
    "            if c == 0 | conditional_c==0 | (c ==np.nan) | (conditional_c == np.nan):\n",
    "                df.loc[idx,'per-case'] = 0\n",
    "            else:\n",
    "                df.loc[idx,'per-case'] = conditional_c/c\n",
    "\n",
    "        # if there isn't the previous resource, the value of 'per-corr-ho' is 0.\n",
    "        if df_target.previous_rcs.isnull().values.any() :\n",
    "            df.loc[df_target['index'],'per-curr-ho'] = 0 \n",
    "\n",
    "\n",
    "        list_reRcs = df_target.previous_rcs.unique()\n",
    "        list_reRcs=[x for x in list_reRcs if x == x]\n",
    "\n",
    "        for r in range(len(list_reRcs)):\n",
    "\n",
    "            df_preRcs = df_target[df_target.previous_rcs == list_reRcs[r]]\n",
    "            d = len(df_preRcs.caseid.unique())\n",
    "            conditional_d = len(df_preRcs.loc[df_preRcs.outcome==1,'caseid'].unique())\n",
    "            df.loc[df_preRcs['index'],'per-curr-ho']= conditional_d/d\n",
    "\n",
    "\n",
    "    return df"
   ]
  },
  {
   "cell_type": "code",
   "execution_count": 32,
   "metadata": {
    "colab": {
     "base_uri": "https://localhost:8080/"
    },
    "id": "hh2O81qs0C5J",
    "outputId": "c0a06156-2670-4681-c85c-eb781bbf2cfd"
   },
   "outputs": [
    {
     "name": "stderr",
     "output_type": "stream",
     "text": [
      "C:\\anaconda3\\lib\\site-packages\\ipykernel_launcher.py:9: SettingWithCopyWarning: \n",
      "A value is trying to be set on a copy of a slice from a DataFrame.\n",
      "Try using .loc[row_indexer,col_indexer] = value instead\n",
      "\n",
      "See the caveats in the documentation: https://pandas.pydata.org/pandas-docs/stable/user_guide/indexing.html#returning-a-view-versus-a-copy\n",
      "  if __name__ == '__main__':\n",
      "C:\\anaconda3\\lib\\site-packages\\pandas\\core\\indexing.py:844: SettingWithCopyWarning: \n",
      "A value is trying to be set on a copy of a slice from a DataFrame.\n",
      "Try using .loc[row_indexer,col_indexer] = value instead\n",
      "\n",
      "See the caveats in the documentation: https://pandas.pydata.org/pandas-docs/stable/user_guide/indexing.html#returning-a-view-versus-a-copy\n",
      "  self.obj[key] = _infer_fill_value(value)\n",
      "C:\\anaconda3\\lib\\site-packages\\pandas\\core\\indexing.py:965: SettingWithCopyWarning: \n",
      "A value is trying to be set on a copy of a slice from a DataFrame.\n",
      "Try using .loc[row_indexer,col_indexer] = value instead\n",
      "\n",
      "See the caveats in the documentation: https://pandas.pydata.org/pandas-docs/stable/user_guide/indexing.html#returning-a-view-versus-a-copy\n",
      "  self.obj[item] = s\n"
     ]
    }
   ],
   "source": [
    "df_final = preprocessing(df_prefix5)"
   ]
  },
  {
   "cell_type": "markdown",
   "metadata": {
    "id": "9f5zeaDy0C5e"
   },
   "source": [
    "## Q5. Train a decision tree and a gradient boosting model from the scikit-learn package for outcome label prediction using the event log created at step 4 for prefix length L=2 and L=5.  Split 70-30 for training-testing.\n",
    "\n",
    "- Hyperparameters:\n",
    "  - DT max_depth = 5, random_state = 1234\n",
    "  - GBM max_depth = 3, random_state = 1234\n"
   ]
  },
  {
   "cell_type": "code",
   "execution_count": 33,
   "metadata": {
    "id": "YuY4QzV00C5f"
   },
   "outputs": [],
   "source": [
    "from sklearn.tree import DecisionTreeClassifier\n",
    "from sklearn.model_selection import train_test_split\n",
    "from sklearn.metrics import  accuracy_score         # between pred_result and real outcome\n",
    "from sklearn import preprocessing                   # To convert 'Activity' into the float type of data\n",
    "\n",
    "from sklearn.ensemble import GradientBoostingClassifier"
   ]
  },
  {
   "cell_type": "markdown",
   "metadata": {
    "id": "2cgOUsZ70C5i"
   },
   "source": [
    "### Q5-1. Decision Tree \n",
    "\n",
    "- DT max_depth = 5, random_state = 1234\n",
    "\n"
   ]
  },
  {
   "cell_type": "code",
   "execution_count": 34,
   "metadata": {
    "colab": {
     "base_uri": "https://localhost:8080/"
    },
    "id": "eLrvvQhF0C5l",
    "outputId": "748b03e7-96bc-4f48-a7d4-48a936ba606e"
   },
   "outputs": [
    {
     "data": {
      "text/plain": [
       "Index(['caseid', 'activity', 'resource', 'ts', 'outcome', 'n-work-items',\n",
       "       'n-Curr-case', 'per-case', 'per-curr-ho'],\n",
       "      dtype='object')"
      ]
     },
     "execution_count": 34,
     "metadata": {},
     "output_type": "execute_result"
    }
   ],
   "source": [
    "df_final.columns"
   ]
  },
  {
   "cell_type": "code",
   "execution_count": 35,
   "metadata": {
    "id": "_CtsOISR0C5o"
   },
   "outputs": [],
   "source": [
    "# ,'activity','caseid','resource'\n",
    "df_encorded = df_final"
   ]
  },
  {
   "cell_type": "code",
   "execution_count": 36,
   "metadata": {
    "id": "9MH1vAI30C5s"
   },
   "outputs": [],
   "source": [
    "le = preprocessing.LabelEncoder()\n",
    "df_encorded['new_activity']=le.fit_transform(df_final['activity'])\n",
    "df_encorded['new_caseid']=le.fit_transform(df_final['caseid'])\n",
    "df_encorded['new_resource']=le.fit_transform(df_final['resource'])\n",
    "df_encorded['new_ts']=le.fit_transform(df_final['ts'])\n"
   ]
  },
  {
   "cell_type": "code",
   "execution_count": 37,
   "metadata": {
    "id": "pH2lUu2L0C5w"
   },
   "outputs": [],
   "source": [
    "#  define X,y\n",
    "X = df_encorded.loc[:, df_encorded.columns.difference(['outcome','activity','caseid','resource','ts'])]\n",
    "y = df_encorded['outcome']"
   ]
  },
  {
   "cell_type": "code",
   "execution_count": 38,
   "metadata": {
    "colab": {
     "base_uri": "https://localhost:8080/"
    },
    "id": "NNxMi-Bq0C51",
    "outputId": "ba2038d0-4a13-4f4f-b2a7-f498ef5ff491"
   },
   "outputs": [
    {
     "data": {
      "text/plain": [
       "((2782, 8), (1193, 8), (2782,), (1193,))"
      ]
     },
     "execution_count": 38,
     "metadata": {},
     "output_type": "execute_result"
    }
   ],
   "source": [
    "# Data Prepare-> 70:30,(train/test, X,y)\n",
    "\n",
    "X_train, X_test, y_train, y_test = train_test_split( X, y, test_size=0.3 )\n",
    "X_train.shape, X_test.shape, y_train.shape, y_test.shape"
   ]
  },
  {
   "cell_type": "code",
   "execution_count": 39,
   "metadata": {
    "id": "7cLmval80C55"
   },
   "outputs": [],
   "source": [
    "# Recreate the train/test data for dataset without the resource aware features. \n",
    "X_train_withoutRsc = X_train.loc[:, X_train.columns.difference(['n-Curr-case','n-work-items','per-case','per-curr-ho'])]\n",
    "X_test_withoutRsc = X_test.loc[:, X_test.columns.difference(['n-Curr-case','n-work-items','per-case','per-curr-ho'])]\n"
   ]
  },
  {
   "cell_type": "code",
   "execution_count": 40,
   "metadata": {
    "colab": {
     "base_uri": "https://localhost:8080/"
    },
    "id": "-4HwQYPM0C6A",
    "outputId": "9f3006c0-99f6-4982-9268-baf94242cc04"
   },
   "outputs": [
    {
     "name": "stdout",
     "output_type": "stream",
     "text": [
      "Accuracy for data with the resource-aware features :  0.8625314333612741\n"
     ]
    }
   ],
   "source": [
    "# Generate DT algorithm\n",
    "clf = DecisionTreeClassifier( max_depth = 5, random_state = 1234)\n",
    "# train\n",
    "clf.fit( X_train, y_train)\n",
    "# predict\n",
    "y_pred = clf.predict( X_test )\n",
    "\n",
    "print('Accuracy for data with the resource-aware features : ', accuracy_score(y_test, y_pred)  )"
   ]
  },
  {
   "cell_type": "code",
   "execution_count": 41,
   "metadata": {
    "colab": {
     "base_uri": "https://localhost:8080/"
    },
    "id": "OliI-aVJ0C6F",
    "outputId": "8fdc2ff0-ed23-4be0-8c4c-092a35fb97dd"
   },
   "outputs": [
    {
     "name": "stdout",
     "output_type": "stream",
     "text": [
      "Accuracy for data without the resource-aware features :  0.8633696563285834\n"
     ]
    }
   ],
   "source": [
    "# Generate DT algorithm\n",
    "clf = DecisionTreeClassifier( max_depth = 5, random_state = 1234)\n",
    "# train\n",
    "clf.fit( X_train_withoutRsc, y_train)\n",
    "# predict\n",
    "y_pred = clf.predict( X_test_withoutRsc )\n",
    "\n",
    "print('Accuracy for data without the resource-aware features : ', accuracy_score(y_test, y_pred)  )"
   ]
  },
  {
   "cell_type": "markdown",
   "metadata": {
    "id": "_VJNYCBZ0C6J"
   },
   "source": [
    "### Q5-2. a gradient boosting model\n",
    "\n",
    "-  GBM max_depth = 3, random_state = 1234\n"
   ]
  },
  {
   "cell_type": "code",
   "execution_count": 42,
   "metadata": {
    "colab": {
     "base_uri": "https://localhost:8080/"
    },
    "id": "p96mPEPA0C6K",
    "outputId": "600ab6ba-d28b-49b5-d792-e95401755bc1"
   },
   "outputs": [
    {
     "name": "stdout",
     "output_type": "stream",
     "text": [
      "Accuracy for data with the resource-aware features : 0.8575020955574183\n"
     ]
    }
   ],
   "source": [
    "# GBM\n",
    "gb_clf = GradientBoostingClassifier(max_depth = 3, random_state = 1234 )\n",
    "gb_clf.fit( X_train, y_train )\n",
    "pred   = gb_clf.predict( X_test )\n",
    "print('Accuracy for data with the resource-aware features :', accuracy_score(y_test, pred)  )"
   ]
  },
  {
   "cell_type": "code",
   "execution_count": 43,
   "metadata": {
    "colab": {
     "base_uri": "https://localhost:8080/"
    },
    "id": "9bW7NQOy0C6O",
    "outputId": "54c5cef6-0f5b-4fe4-9649-4f795e40b967"
   },
   "outputs": [
    {
     "name": "stdout",
     "output_type": "stream",
     "text": [
      "Accuracy for data without the resource-aware features : 0.8625314333612741\n"
     ]
    }
   ],
   "source": [
    "from sklearn.ensemble import GradientBoostingClassifier\n",
    "\n",
    "# GBM\n",
    "gb_clf = GradientBoostingClassifier(max_depth = 3, random_state = 1234 )\n",
    "gb_clf.fit( X_train_withoutRsc, y_train )\n",
    "pred   = gb_clf.predict( X_test_withoutRsc )\n",
    "print('Accuracy for data without the resource-aware features :', accuracy_score(y_test, pred)  )"
   ]
  },
  {
   "cell_type": "code",
   "execution_count": null,
   "metadata": {
    "id": "2GIt4X1T3MVn"
   },
   "outputs": [],
   "source": []
  },
  {
   "cell_type": "code",
   "execution_count": null,
   "metadata": {},
   "outputs": [],
   "source": []
  },
  {
   "cell_type": "code",
   "execution_count": null,
   "metadata": {},
   "outputs": [],
   "source": []
  }
 ],
 "metadata": {
  "accelerator": "TPU",
  "colab": {
   "collapsed_sections": [],
   "name": "assignment 4.ipynb",
   "provenance": []
  },
  "kernelspec": {
   "display_name": "Python 3",
   "language": "python",
   "name": "python3"
  },
  "language_info": {
   "codemirror_mode": {
    "name": "ipython",
    "version": 3
   },
   "file_extension": ".py",
   "mimetype": "text/x-python",
   "name": "python",
   "nbconvert_exporter": "python",
   "pygments_lexer": "ipython3",
   "version": "3.7.6"
  }
 },
 "nbformat": 4,
 "nbformat_minor": 1
}
