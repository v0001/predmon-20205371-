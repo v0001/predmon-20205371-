{
 "cells": [
  {
   "cell_type": "code",
   "execution_count": 1,
   "metadata": {
    "id": "xBsWdmYasn2W"
   },
   "outputs": [],
   "source": [
    "import sys\n",
    "import pandas as pd\n",
    "import numpy as np\n",
    "import matplotlib.pyplot as plt\n",
    "import datetime \n",
    "\n",
    "%matplotlib inline"
   ]
  },
  {
   "cell_type": "markdown",
   "metadata": {
    "id": "mll0JXue6LhZ"
   },
   "source": [
    "# _1. Import an event log as a pandas dataframe\n"
   ]
  },
  {
   "cell_type": "code",
   "execution_count": 2,
   "metadata": {
    "colab": {
     "base_uri": "https://localhost:8080/",
     "height": 110
    },
    "id": "pXkYu8HS6uOp",
    "outputId": "bd4cfab9-e7d1-4614-b88b-84f5726419f4"
   },
   "outputs": [
    {
     "data": {
      "text/html": [
       "<div>\n",
       "<style scoped>\n",
       "    .dataframe tbody tr th:only-of-type {\n",
       "        vertical-align: middle;\n",
       "    }\n",
       "\n",
       "    .dataframe tbody tr th {\n",
       "        vertical-align: top;\n",
       "    }\n",
       "\n",
       "    .dataframe thead th {\n",
       "        text-align: right;\n",
       "    }\n",
       "</style>\n",
       "<table border=\"1\" class=\"dataframe\">\n",
       "  <thead>\n",
       "    <tr style=\"text-align: right;\">\n",
       "      <th></th>\n",
       "      <th>Case ID</th>\n",
       "      <th>Activity</th>\n",
       "      <th>Complete Timestamp</th>\n",
       "      <th>Variant</th>\n",
       "      <th>Variant index</th>\n",
       "    </tr>\n",
       "  </thead>\n",
       "  <tbody>\n",
       "    <tr>\n",
       "      <th>0</th>\n",
       "      <td>case_466</td>\n",
       "      <td>Activity A</td>\n",
       "      <td>1970/01/01 09:00:00.000</td>\n",
       "      <td>Variant 8</td>\n",
       "      <td>8</td>\n",
       "    </tr>\n",
       "    <tr>\n",
       "      <th>1</th>\n",
       "      <td>case_466</td>\n",
       "      <td>Activity C</td>\n",
       "      <td>1970/01/01 10:00:00.000</td>\n",
       "      <td>Variant 8</td>\n",
       "      <td>8</td>\n",
       "    </tr>\n",
       "  </tbody>\n",
       "</table>\n",
       "</div>"
      ],
      "text/plain": [
       "    Case ID    Activity       Complete Timestamp    Variant  Variant index\n",
       "0  case_466  Activity A  1970/01/01 09:00:00.000  Variant 8              8\n",
       "1  case_466  Activity C  1970/01/01 10:00:00.000  Variant 8              8"
      ]
     },
     "execution_count": 2,
     "metadata": {},
     "output_type": "execute_result"
    }
   ],
   "source": [
    "small = pd.read_csv('Large.csv')\n",
    "small.head(2)"
   ]
  },
  {
   "cell_type": "code",
   "execution_count": 3,
   "metadata": {
    "colab": {
     "base_uri": "https://localhost:8080/",
     "height": 71
    },
    "id": "MhIMT5GZ-1L2",
    "outputId": "a3b42cd8-07c8-4911-a2be-e339ef77cf7f"
   },
   "outputs": [
    {
     "data": {
      "text/plain": [
       "Index(['Case ID', 'Activity', 'Complete Timestamp', 'Variant',\n",
       "       'Variant index'],\n",
       "      dtype='object')"
      ]
     },
     "execution_count": 3,
     "metadata": {},
     "output_type": "execute_result"
    }
   ],
   "source": [
    "small.columns"
   ]
  },
  {
   "cell_type": "markdown",
   "metadata": {
    "id": "KMWiOF3E6Vuz"
   },
   "source": [
    "# _2.Create an event log that retains only the attributes caseid, activity, timestamp,. Rename the attributes as “caseid, activity, ts” if names are different\n"
   ]
  },
  {
   "cell_type": "code",
   "execution_count": 4,
   "metadata": {
    "colab": {
     "base_uri": "https://localhost:8080/",
     "height": 203
    },
    "id": "nxgU5txL6e94",
    "outputId": "1fb64259-ba84-4b59-f009-55c7f3229532"
   },
   "outputs": [
    {
     "data": {
      "text/html": [
       "<div>\n",
       "<style scoped>\n",
       "    .dataframe tbody tr th:only-of-type {\n",
       "        vertical-align: middle;\n",
       "    }\n",
       "\n",
       "    .dataframe tbody tr th {\n",
       "        vertical-align: top;\n",
       "    }\n",
       "\n",
       "    .dataframe thead th {\n",
       "        text-align: right;\n",
       "    }\n",
       "</style>\n",
       "<table border=\"1\" class=\"dataframe\">\n",
       "  <thead>\n",
       "    <tr style=\"text-align: right;\">\n",
       "      <th></th>\n",
       "      <th>Case ID</th>\n",
       "      <th>Activity</th>\n",
       "      <th>Complete Timestamp</th>\n",
       "    </tr>\n",
       "  </thead>\n",
       "  <tbody>\n",
       "    <tr>\n",
       "      <th>0</th>\n",
       "      <td>case_466</td>\n",
       "      <td>Activity A</td>\n",
       "      <td>1970/01/01 09:00:00.000</td>\n",
       "    </tr>\n",
       "    <tr>\n",
       "      <th>1</th>\n",
       "      <td>case_466</td>\n",
       "      <td>Activity C</td>\n",
       "      <td>1970/01/01 10:00:00.000</td>\n",
       "    </tr>\n",
       "    <tr>\n",
       "      <th>2</th>\n",
       "      <td>case_466</td>\n",
       "      <td>Activity D</td>\n",
       "      <td>1970/01/01 11:00:00.000</td>\n",
       "    </tr>\n",
       "    <tr>\n",
       "      <th>3</th>\n",
       "      <td>case_466</td>\n",
       "      <td>Activity E</td>\n",
       "      <td>1970/01/01 12:00:00.000</td>\n",
       "    </tr>\n",
       "    <tr>\n",
       "      <th>4</th>\n",
       "      <td>case_466</td>\n",
       "      <td>Activity G</td>\n",
       "      <td>1970/01/01 13:00:00.000</td>\n",
       "    </tr>\n",
       "  </tbody>\n",
       "</table>\n",
       "</div>"
      ],
      "text/plain": [
       "    Case ID    Activity       Complete Timestamp\n",
       "0  case_466  Activity A  1970/01/01 09:00:00.000\n",
       "1  case_466  Activity C  1970/01/01 10:00:00.000\n",
       "2  case_466  Activity D  1970/01/01 11:00:00.000\n",
       "3  case_466  Activity E  1970/01/01 12:00:00.000\n",
       "4  case_466  Activity G  1970/01/01 13:00:00.000"
      ]
     },
     "execution_count": 4,
     "metadata": {},
     "output_type": "execute_result"
    }
   ],
   "source": [
    "\n",
    "# resource_anomaly_type : outcome\n",
    "df_original = small[['Case ID', 'Activity', 'Complete Timestamp']]\n",
    "df_original.head()"
   ]
  },
  {
   "cell_type": "code",
   "execution_count": 5,
   "metadata": {
    "colab": {
     "base_uri": "https://localhost:8080/",
     "height": 203
    },
    "id": "CwMG0ZmG_pR2",
    "outputId": "dbd60c75-d5b9-408a-8040-85d6d94915fb"
   },
   "outputs": [
    {
     "data": {
      "text/html": [
       "<div>\n",
       "<style scoped>\n",
       "    .dataframe tbody tr th:only-of-type {\n",
       "        vertical-align: middle;\n",
       "    }\n",
       "\n",
       "    .dataframe tbody tr th {\n",
       "        vertical-align: top;\n",
       "    }\n",
       "\n",
       "    .dataframe thead th {\n",
       "        text-align: right;\n",
       "    }\n",
       "</style>\n",
       "<table border=\"1\" class=\"dataframe\">\n",
       "  <thead>\n",
       "    <tr style=\"text-align: right;\">\n",
       "      <th></th>\n",
       "      <th>caseid</th>\n",
       "      <th>activity</th>\n",
       "      <th>ts</th>\n",
       "    </tr>\n",
       "  </thead>\n",
       "  <tbody>\n",
       "    <tr>\n",
       "      <th>0</th>\n",
       "      <td>case_466</td>\n",
       "      <td>Activity A</td>\n",
       "      <td>1970/01/01 09:00:00.000</td>\n",
       "    </tr>\n",
       "    <tr>\n",
       "      <th>1</th>\n",
       "      <td>case_466</td>\n",
       "      <td>Activity C</td>\n",
       "      <td>1970/01/01 10:00:00.000</td>\n",
       "    </tr>\n",
       "    <tr>\n",
       "      <th>2</th>\n",
       "      <td>case_466</td>\n",
       "      <td>Activity D</td>\n",
       "      <td>1970/01/01 11:00:00.000</td>\n",
       "    </tr>\n",
       "    <tr>\n",
       "      <th>3</th>\n",
       "      <td>case_466</td>\n",
       "      <td>Activity E</td>\n",
       "      <td>1970/01/01 12:00:00.000</td>\n",
       "    </tr>\n",
       "    <tr>\n",
       "      <th>4</th>\n",
       "      <td>case_466</td>\n",
       "      <td>Activity G</td>\n",
       "      <td>1970/01/01 13:00:00.000</td>\n",
       "    </tr>\n",
       "  </tbody>\n",
       "</table>\n",
       "</div>"
      ],
      "text/plain": [
       "     caseid    activity                       ts\n",
       "0  case_466  Activity A  1970/01/01 09:00:00.000\n",
       "1  case_466  Activity C  1970/01/01 10:00:00.000\n",
       "2  case_466  Activity D  1970/01/01 11:00:00.000\n",
       "3  case_466  Activity E  1970/01/01 12:00:00.000\n",
       "4  case_466  Activity G  1970/01/01 13:00:00.000"
      ]
     },
     "execution_count": 5,
     "metadata": {},
     "output_type": "execute_result"
    }
   ],
   "source": [
    "cols = ['caseid', 'activity', 'ts']\n",
    "df_original.columns = cols\n",
    "df_original.head()"
   ]
  },
  {
   "cell_type": "markdown",
   "metadata": {
    "id": "6r_RCxX5tk9u"
   },
   "source": [
    "#_3.Create a function that does window-based encoding of an event log using size W (= number of events in a window). \n",
    "For each case, a number of observations are extracted, for each observation, the features are the W events and the duration of the window. \n",
    "The class label is the next event that will be executed."
   ]
  },
  {
   "cell_type": "code",
   "execution_count": 6,
   "metadata": {
    "id": "4mCjHIqcwdoX"
   },
   "outputs": [],
   "source": [
    "def func_window(df_sample, window_size):\n",
    "  new_df = pd.DataFrame(columns = ['caseid', '1st_act', '2nd_act', '3rd_act', 'label'])\n",
    "  case_list = df_sample['caseid'].unique()\n",
    "\n",
    "  for caseid in case_list:\n",
    "    act_byCase = df_sample.loc[df_sample['caseid'] == caseid]\n",
    "    act_byCase.sort_values(by = 'ts', ascending=True)\n",
    "    act_byCase.reset_index(inplace= True)\n",
    "\n",
    "    case_size = len(act_byCase)\n",
    "\n",
    "    for act in range(case_size-window_size):\n",
    "      tmp = list()\n",
    "      for i in range(window_size +1):\n",
    "        tmp.append(act_byCase.loc[act + i, 'activity'])\n",
    "\n",
    "      set_values = [caseid, tmp[0], tmp[1], tmp[2], tmp[3]]\n",
    "      new_df.loc[len(new_df), :] = set_values\n",
    "\n",
    "  return new_df"
   ]
  },
  {
   "cell_type": "code",
   "execution_count": 7,
   "metadata": {
    "id": "ubDzRuAYxR8c"
   },
   "outputs": [],
   "source": [
    "window_3 = func_window(df_original, 3)"
   ]
  },
  {
   "cell_type": "code",
   "execution_count": 8,
   "metadata": {
    "colab": {
     "base_uri": "https://localhost:8080/",
     "height": 667
    },
    "id": "WgxcWneOz_tH",
    "outputId": "709aff27-8dd0-4e57-a04d-f64f7a1e8132"
   },
   "outputs": [
    {
     "data": {
      "text/html": [
       "<div>\n",
       "<style scoped>\n",
       "    .dataframe tbody tr th:only-of-type {\n",
       "        vertical-align: middle;\n",
       "    }\n",
       "\n",
       "    .dataframe tbody tr th {\n",
       "        vertical-align: top;\n",
       "    }\n",
       "\n",
       "    .dataframe thead th {\n",
       "        text-align: right;\n",
       "    }\n",
       "</style>\n",
       "<table border=\"1\" class=\"dataframe\">\n",
       "  <thead>\n",
       "    <tr style=\"text-align: right;\">\n",
       "      <th></th>\n",
       "      <th>caseid</th>\n",
       "      <th>1st_act</th>\n",
       "      <th>2nd_act</th>\n",
       "      <th>3rd_act</th>\n",
       "      <th>label</th>\n",
       "    </tr>\n",
       "  </thead>\n",
       "  <tbody>\n",
       "    <tr>\n",
       "      <th>0</th>\n",
       "      <td>case_466</td>\n",
       "      <td>Activity A</td>\n",
       "      <td>Activity C</td>\n",
       "      <td>Activity D</td>\n",
       "      <td>Activity E</td>\n",
       "    </tr>\n",
       "    <tr>\n",
       "      <th>1</th>\n",
       "      <td>case_466</td>\n",
       "      <td>Activity C</td>\n",
       "      <td>Activity D</td>\n",
       "      <td>Activity E</td>\n",
       "      <td>Activity G</td>\n",
       "    </tr>\n",
       "    <tr>\n",
       "      <th>2</th>\n",
       "      <td>case_466</td>\n",
       "      <td>Activity D</td>\n",
       "      <td>Activity E</td>\n",
       "      <td>Activity G</td>\n",
       "      <td>Activity F</td>\n",
       "    </tr>\n",
       "    <tr>\n",
       "      <th>3</th>\n",
       "      <td>case_466</td>\n",
       "      <td>Activity E</td>\n",
       "      <td>Activity G</td>\n",
       "      <td>Activity F</td>\n",
       "      <td>Activity I</td>\n",
       "    </tr>\n",
       "    <tr>\n",
       "      <th>4</th>\n",
       "      <td>case_466</td>\n",
       "      <td>Activity G</td>\n",
       "      <td>Activity F</td>\n",
       "      <td>Activity I</td>\n",
       "      <td>Activity M</td>\n",
       "    </tr>\n",
       "    <tr>\n",
       "      <th>5</th>\n",
       "      <td>case_466</td>\n",
       "      <td>Activity F</td>\n",
       "      <td>Activity I</td>\n",
       "      <td>Activity M</td>\n",
       "      <td>Activity N</td>\n",
       "    </tr>\n",
       "    <tr>\n",
       "      <th>6</th>\n",
       "      <td>case_466</td>\n",
       "      <td>Activity I</td>\n",
       "      <td>Activity M</td>\n",
       "      <td>Activity N</td>\n",
       "      <td>Activity J</td>\n",
       "    </tr>\n",
       "    <tr>\n",
       "      <th>7</th>\n",
       "      <td>case_466</td>\n",
       "      <td>Activity M</td>\n",
       "      <td>Activity N</td>\n",
       "      <td>Activity J</td>\n",
       "      <td>Activity B</td>\n",
       "    </tr>\n",
       "    <tr>\n",
       "      <th>8</th>\n",
       "      <td>case_12282</td>\n",
       "      <td>Activity A</td>\n",
       "      <td>Activity Q</td>\n",
       "      <td>Activity R</td>\n",
       "      <td>Activity S</td>\n",
       "    </tr>\n",
       "    <tr>\n",
       "      <th>9</th>\n",
       "      <td>case_12282</td>\n",
       "      <td>Activity Q</td>\n",
       "      <td>Activity R</td>\n",
       "      <td>Activity S</td>\n",
       "      <td>Activity T</td>\n",
       "    </tr>\n",
       "    <tr>\n",
       "      <th>10</th>\n",
       "      <td>case_12282</td>\n",
       "      <td>Activity R</td>\n",
       "      <td>Activity S</td>\n",
       "      <td>Activity T</td>\n",
       "      <td>Activity U</td>\n",
       "    </tr>\n",
       "    <tr>\n",
       "      <th>11</th>\n",
       "      <td>case_12282</td>\n",
       "      <td>Activity S</td>\n",
       "      <td>Activity T</td>\n",
       "      <td>Activity U</td>\n",
       "      <td>Activity V</td>\n",
       "    </tr>\n",
       "    <tr>\n",
       "      <th>12</th>\n",
       "      <td>case_12282</td>\n",
       "      <td>Activity T</td>\n",
       "      <td>Activity U</td>\n",
       "      <td>Activity V</td>\n",
       "      <td>Activity AA</td>\n",
       "    </tr>\n",
       "    <tr>\n",
       "      <th>13</th>\n",
       "      <td>case_12282</td>\n",
       "      <td>Activity U</td>\n",
       "      <td>Activity V</td>\n",
       "      <td>Activity AA</td>\n",
       "      <td>Activity W</td>\n",
       "    </tr>\n",
       "    <tr>\n",
       "      <th>14</th>\n",
       "      <td>case_12282</td>\n",
       "      <td>Activity V</td>\n",
       "      <td>Activity AA</td>\n",
       "      <td>Activity W</td>\n",
       "      <td>Activity B</td>\n",
       "    </tr>\n",
       "    <tr>\n",
       "      <th>15</th>\n",
       "      <td>case_758</td>\n",
       "      <td>Activity A</td>\n",
       "      <td>Activity C</td>\n",
       "      <td>Activity D</td>\n",
       "      <td>Activity E</td>\n",
       "    </tr>\n",
       "    <tr>\n",
       "      <th>16</th>\n",
       "      <td>case_758</td>\n",
       "      <td>Activity C</td>\n",
       "      <td>Activity D</td>\n",
       "      <td>Activity E</td>\n",
       "      <td>Activity G</td>\n",
       "    </tr>\n",
       "    <tr>\n",
       "      <th>17</th>\n",
       "      <td>case_758</td>\n",
       "      <td>Activity D</td>\n",
       "      <td>Activity E</td>\n",
       "      <td>Activity G</td>\n",
       "      <td>Activity F</td>\n",
       "    </tr>\n",
       "    <tr>\n",
       "      <th>18</th>\n",
       "      <td>case_758</td>\n",
       "      <td>Activity E</td>\n",
       "      <td>Activity G</td>\n",
       "      <td>Activity F</td>\n",
       "      <td>Activity I</td>\n",
       "    </tr>\n",
       "    <tr>\n",
       "      <th>19</th>\n",
       "      <td>case_758</td>\n",
       "      <td>Activity G</td>\n",
       "      <td>Activity F</td>\n",
       "      <td>Activity I</td>\n",
       "      <td>Activity K</td>\n",
       "    </tr>\n",
       "  </tbody>\n",
       "</table>\n",
       "</div>"
      ],
      "text/plain": [
       "        caseid     1st_act      2nd_act      3rd_act        label\n",
       "0     case_466  Activity A   Activity C   Activity D   Activity E\n",
       "1     case_466  Activity C   Activity D   Activity E   Activity G\n",
       "2     case_466  Activity D   Activity E   Activity G   Activity F\n",
       "3     case_466  Activity E   Activity G   Activity F   Activity I\n",
       "4     case_466  Activity G   Activity F   Activity I   Activity M\n",
       "5     case_466  Activity F   Activity I   Activity M   Activity N\n",
       "6     case_466  Activity I   Activity M   Activity N   Activity J\n",
       "7     case_466  Activity M   Activity N   Activity J   Activity B\n",
       "8   case_12282  Activity A   Activity Q   Activity R   Activity S\n",
       "9   case_12282  Activity Q   Activity R   Activity S   Activity T\n",
       "10  case_12282  Activity R   Activity S   Activity T   Activity U\n",
       "11  case_12282  Activity S   Activity T   Activity U   Activity V\n",
       "12  case_12282  Activity T   Activity U   Activity V  Activity AA\n",
       "13  case_12282  Activity U   Activity V  Activity AA   Activity W\n",
       "14  case_12282  Activity V  Activity AA   Activity W   Activity B\n",
       "15    case_758  Activity A   Activity C   Activity D   Activity E\n",
       "16    case_758  Activity C   Activity D   Activity E   Activity G\n",
       "17    case_758  Activity D   Activity E   Activity G   Activity F\n",
       "18    case_758  Activity E   Activity G   Activity F   Activity I\n",
       "19    case_758  Activity G   Activity F   Activity I   Activity K"
      ]
     },
     "execution_count": 8,
     "metadata": {},
     "output_type": "execute_result"
    }
   ],
   "source": [
    "window_3.head(20)"
   ]
  },
  {
   "cell_type": "code",
   "execution_count": 9,
   "metadata": {
    "id": "Flb2AkTVwaT4"
   },
   "outputs": [],
   "source": [
    "def encorder(df):\n",
    "  df_result = df[['label', 'caseid']]\n",
    "  df_result = df_result.merge(pd.get_dummies(df[\"1st_act\"], prefix_sep='_', prefix= '1st'), left_index=True, right_index=True)\n",
    "  df_result = df_result.merge(pd.get_dummies(df[\"2nd_act\"], prefix_sep='_', prefix= '2nd'), left_index=True, right_index=True)\n",
    "  df_result = df_result.merge(pd.get_dummies(df[\"3rd_act\"], prefix_sep='_', prefix= '3rd'), left_index=True, right_index=True)\n",
    "\n",
    "  return df_result"
   ]
  },
  {
   "cell_type": "code",
   "execution_count": 10,
   "metadata": {
    "colab": {
     "base_uri": "https://localhost:8080/",
     "height": 258
    },
    "id": "Z2SXq8pMwwe3",
    "outputId": "e2b2faa1-6a69-46e9-d931-66f7a6676879"
   },
   "outputs": [
    {
     "data": {
      "text/html": [
       "<div>\n",
       "<style scoped>\n",
       "    .dataframe tbody tr th:only-of-type {\n",
       "        vertical-align: middle;\n",
       "    }\n",
       "\n",
       "    .dataframe tbody tr th {\n",
       "        vertical-align: top;\n",
       "    }\n",
       "\n",
       "    .dataframe thead th {\n",
       "        text-align: right;\n",
       "    }\n",
       "</style>\n",
       "<table border=\"1\" class=\"dataframe\">\n",
       "  <thead>\n",
       "    <tr style=\"text-align: right;\">\n",
       "      <th></th>\n",
       "      <th>label</th>\n",
       "      <th>caseid</th>\n",
       "      <th>1st_Activity A</th>\n",
       "      <th>1st_Activity AB</th>\n",
       "      <th>1st_Activity AC</th>\n",
       "      <th>1st_Activity AD</th>\n",
       "      <th>1st_Activity AE</th>\n",
       "      <th>1st_Activity AF</th>\n",
       "      <th>1st_Activity AG</th>\n",
       "      <th>1st_Activity AH</th>\n",
       "      <th>...</th>\n",
       "      <th>3rd_Activity P</th>\n",
       "      <th>3rd_Activity R</th>\n",
       "      <th>3rd_Activity S</th>\n",
       "      <th>3rd_Activity T</th>\n",
       "      <th>3rd_Activity U</th>\n",
       "      <th>3rd_Activity V</th>\n",
       "      <th>3rd_Activity W</th>\n",
       "      <th>3rd_Activity X</th>\n",
       "      <th>3rd_Activity Y</th>\n",
       "      <th>3rd_Activity Z</th>\n",
       "    </tr>\n",
       "  </thead>\n",
       "  <tbody>\n",
       "    <tr>\n",
       "      <th>0</th>\n",
       "      <td>Activity E</td>\n",
       "      <td>case_466</td>\n",
       "      <td>1</td>\n",
       "      <td>0</td>\n",
       "      <td>0</td>\n",
       "      <td>0</td>\n",
       "      <td>0</td>\n",
       "      <td>0</td>\n",
       "      <td>0</td>\n",
       "      <td>0</td>\n",
       "      <td>...</td>\n",
       "      <td>0</td>\n",
       "      <td>0</td>\n",
       "      <td>0</td>\n",
       "      <td>0</td>\n",
       "      <td>0</td>\n",
       "      <td>0</td>\n",
       "      <td>0</td>\n",
       "      <td>0</td>\n",
       "      <td>0</td>\n",
       "      <td>0</td>\n",
       "    </tr>\n",
       "    <tr>\n",
       "      <th>1</th>\n",
       "      <td>Activity G</td>\n",
       "      <td>case_466</td>\n",
       "      <td>0</td>\n",
       "      <td>0</td>\n",
       "      <td>0</td>\n",
       "      <td>0</td>\n",
       "      <td>0</td>\n",
       "      <td>0</td>\n",
       "      <td>0</td>\n",
       "      <td>0</td>\n",
       "      <td>...</td>\n",
       "      <td>0</td>\n",
       "      <td>0</td>\n",
       "      <td>0</td>\n",
       "      <td>0</td>\n",
       "      <td>0</td>\n",
       "      <td>0</td>\n",
       "      <td>0</td>\n",
       "      <td>0</td>\n",
       "      <td>0</td>\n",
       "      <td>0</td>\n",
       "    </tr>\n",
       "    <tr>\n",
       "      <th>2</th>\n",
       "      <td>Activity F</td>\n",
       "      <td>case_466</td>\n",
       "      <td>0</td>\n",
       "      <td>0</td>\n",
       "      <td>0</td>\n",
       "      <td>0</td>\n",
       "      <td>0</td>\n",
       "      <td>0</td>\n",
       "      <td>0</td>\n",
       "      <td>0</td>\n",
       "      <td>...</td>\n",
       "      <td>0</td>\n",
       "      <td>0</td>\n",
       "      <td>0</td>\n",
       "      <td>0</td>\n",
       "      <td>0</td>\n",
       "      <td>0</td>\n",
       "      <td>0</td>\n",
       "      <td>0</td>\n",
       "      <td>0</td>\n",
       "      <td>0</td>\n",
       "    </tr>\n",
       "  </tbody>\n",
       "</table>\n",
       "<p>3 rows × 106 columns</p>\n",
       "</div>"
      ],
      "text/plain": [
       "        label    caseid  1st_Activity A  1st_Activity AB  1st_Activity AC  \\\n",
       "0  Activity E  case_466               1                0                0   \n",
       "1  Activity G  case_466               0                0                0   \n",
       "2  Activity F  case_466               0                0                0   \n",
       "\n",
       "   1st_Activity AD  1st_Activity AE  1st_Activity AF  1st_Activity AG  \\\n",
       "0                0                0                0                0   \n",
       "1                0                0                0                0   \n",
       "2                0                0                0                0   \n",
       "\n",
       "   1st_Activity AH  ...  3rd_Activity P  3rd_Activity R  3rd_Activity S  \\\n",
       "0                0  ...               0               0               0   \n",
       "1                0  ...               0               0               0   \n",
       "2                0  ...               0               0               0   \n",
       "\n",
       "   3rd_Activity T  3rd_Activity U  3rd_Activity V  3rd_Activity W  \\\n",
       "0               0               0               0               0   \n",
       "1               0               0               0               0   \n",
       "2               0               0               0               0   \n",
       "\n",
       "   3rd_Activity X  3rd_Activity Y  3rd_Activity Z  \n",
       "0               0               0               0  \n",
       "1               0               0               0  \n",
       "2               0               0               0  \n",
       "\n",
       "[3 rows x 106 columns]"
      ]
     },
     "execution_count": 10,
     "metadata": {},
     "output_type": "execute_result"
    }
   ],
   "source": [
    "encoded_window_3 = encorder(window_3)\n",
    "encoded_window_3.head(3)"
   ]
  },
  {
   "cell_type": "markdown",
   "metadata": {
    "id": "iyxs8pe_6p57"
   },
   "source": [
    "# _6. Train a decision tree and a gradient boosting model from the scikit-learn package for next event prediction using the event log created at step 4 for W=3.\n",
    "Split 70-30 for training-testing.\n",
    "\n",
    "Hyperparameters:\n",
    "DT max_depth = 5, random_state = 1234\n",
    "GBM max_depth = 3, random_state = 1234\n"
   ]
  },
  {
   "cell_type": "markdown",
   "metadata": {
    "id": "CEDNGhCfey37"
   },
   "source": [
    "## Decision Tree"
   ]
  },
  {
   "cell_type": "code",
   "execution_count": 11,
   "metadata": {
    "id": "q2RueQiEey38"
   },
   "outputs": [],
   "source": [
    "from sklearn.tree import DecisionTreeClassifier\n",
    "from sklearn.model_selection import train_test_split\n",
    "from sklearn.metrics import  accuracy_score         # between pred_result and real outcome"
   ]
  },
  {
   "cell_type": "markdown",
   "metadata": {
    "id": "Uf89XgaRZ1oW"
   },
   "source": [
    "### window_3\n"
   ]
  },
  {
   "cell_type": "code",
   "execution_count": 12,
   "metadata": {
    "id": "UL73IlFJYH1K"
   },
   "outputs": [],
   "source": [
    "#  define X,y\n",
    "X = encoded_window_3.loc[:, encoded_window_3.columns.difference(['caseid','label'])]\n",
    "y = encoded_window_3['label']"
   ]
  },
  {
   "cell_type": "code",
   "execution_count": 13,
   "metadata": {
    "colab": {
     "base_uri": "https://localhost:8080/",
     "height": 35
    },
    "id": "wfcr5wwQx6x2",
    "outputId": "5c569eac-b843-4b64-9e79-f1171ac527ec"
   },
   "outputs": [
    {
     "data": {
      "text/plain": [
       "((69906, 104), (29960, 104), (69906,), (29960,))"
      ]
     },
     "execution_count": 13,
     "metadata": {},
     "output_type": "execute_result"
    }
   ],
   "source": [
    "# Data Prepare-> 70:30,(train/test, X,y)\n",
    "\n",
    "X_train, X_test, y_train, y_test = train_test_split( X, y, test_size=0.3 )\n",
    "X_train.shape, X_test.shape, y_train.shape, y_test.shape"
   ]
  },
  {
   "cell_type": "code",
   "execution_count": 14,
   "metadata": {
    "colab": {
     "base_uri": "https://localhost:8080/",
     "height": 35
    },
    "id": "5NVWgNyxx66p",
    "outputId": "14110d10-5a4e-41b6-a285-a8c015555210"
   },
   "outputs": [
    {
     "name": "stdout",
     "output_type": "stream",
     "text": [
      "정확도 0.3315086782376502\n"
     ]
    }
   ],
   "source": [
    "# Generate DT algorithm\n",
    "clf = DecisionTreeClassifier( max_depth = 5, random_state = 1234)\n",
    "# train\n",
    "clf.fit( X_train, y_train)\n",
    "# predict\n",
    "y_pred = clf.predict( X_test )\n",
    "\n",
    "print('정확도', accuracy_score(y_test, y_pred)  )"
   ]
  },
  {
   "cell_type": "markdown",
   "metadata": {
    "id": "AQieAFMAr4Ly"
   },
   "source": [
    "## a gradient boosting model\n",
    "GBM max_depth = 3, random_state = 1234\n"
   ]
  },
  {
   "cell_type": "code",
   "execution_count": 15,
   "metadata": {
    "colab": {
     "base_uri": "https://localhost:8080/",
     "height": 35
    },
    "id": "oomAvTPvm5o5",
    "outputId": "89706d83-70a2-41ea-f61f-ee2999a8af86"
   },
   "outputs": [
    {
     "name": "stdout",
     "output_type": "stream",
     "text": [
      "정확도 0.8694259012016021\n"
     ]
    }
   ],
   "source": [
    "from sklearn.ensemble import GradientBoostingClassifier\n",
    "\n",
    "# GBM\n",
    "gb_clf = GradientBoostingClassifier(max_depth = 3, random_state = 1234 )\n",
    "gb_clf.fit( X_train, y_train )\n",
    "pred   = gb_clf.predict( X_test )\n",
    "print('정확도', accuracy_score(y_test, pred)  )"
   ]
  },
  {
   "cell_type": "code",
   "execution_count": null,
   "metadata": {
    "id": "B-a6mHcqtb8w"
   },
   "outputs": [],
   "source": []
  }
 ],
 "metadata": {
  "accelerator": "TPU",
  "colab": {
   "collapsed_sections": [],
   "name": "Analysis_large.ipynb",
   "provenance": [],
   "toc_visible": true
  },
  "kernelspec": {
   "display_name": "Python 3",
   "language": "python",
   "name": "python3"
  },
  "language_info": {
   "codemirror_mode": {
    "name": "ipython",
    "version": 3
   },
   "file_extension": ".py",
   "mimetype": "text/x-python",
   "name": "python",
   "nbconvert_exporter": "python",
   "pygments_lexer": "ipython3",
   "version": "3.7.6"
  }
 },
 "nbformat": 4,
 "nbformat_minor": 1
}
