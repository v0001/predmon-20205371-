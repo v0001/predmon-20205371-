{
 "cells": [
  {
   "cell_type": "code",
   "execution_count": 1,
   "metadata": {
    "id": "xBsWdmYasn2W"
   },
   "outputs": [],
   "source": [
    "import sys\n",
    "import pandas as pd\n",
    "import numpy as np\n",
    "import matplotlib.pyplot as plt\n",
    "import datetime \n",
    "\n",
    "%matplotlib inline"
   ]
  },
  {
   "cell_type": "markdown",
   "metadata": {
    "id": "mll0JXue6LhZ"
   },
   "source": [
    "# _1. Import an event log as a pandas dataframe\n"
   ]
  },
  {
   "cell_type": "code",
   "execution_count": 2,
   "metadata": {
    "colab": {
     "base_uri": "https://localhost:8080/",
     "height": 110
    },
    "id": "pXkYu8HS6uOp",
    "outputId": "46e8971c-5929-4589-c60f-434a3558118b"
   },
   "outputs": [
    {
     "data": {
      "text/html": [
       "<div>\n",
       "<style scoped>\n",
       "    .dataframe tbody tr th:only-of-type {\n",
       "        vertical-align: middle;\n",
       "    }\n",
       "\n",
       "    .dataframe tbody tr th {\n",
       "        vertical-align: top;\n",
       "    }\n",
       "\n",
       "    .dataframe thead th {\n",
       "        text-align: right;\n",
       "    }\n",
       "</style>\n",
       "<table border=\"1\" class=\"dataframe\">\n",
       "  <thead>\n",
       "    <tr style=\"text-align: right;\">\n",
       "      <th></th>\n",
       "      <th>CaseID</th>\n",
       "      <th>ActivityID</th>\n",
       "      <th>CompleteTimestamp</th>\n",
       "    </tr>\n",
       "  </thead>\n",
       "  <tbody>\n",
       "    <tr>\n",
       "      <th>0</th>\n",
       "      <td>2</td>\n",
       "      <td>1</td>\n",
       "      <td>4/3/2012 16:55</td>\n",
       "    </tr>\n",
       "    <tr>\n",
       "      <th>1</th>\n",
       "      <td>2</td>\n",
       "      <td>8</td>\n",
       "      <td>4/3/2012 16:55</td>\n",
       "    </tr>\n",
       "  </tbody>\n",
       "</table>\n",
       "</div>"
      ],
      "text/plain": [
       "   CaseID  ActivityID CompleteTimestamp\n",
       "0       2           1    4/3/2012 16:55\n",
       "1       2           8    4/3/2012 16:55"
      ]
     },
     "execution_count": 2,
     "metadata": {},
     "output_type": "execute_result"
    }
   ],
   "source": [
    "helpdesk = pd.read_csv('helpdesk.csv')\n",
    "helpdesk.head(2)"
   ]
  },
  {
   "cell_type": "code",
   "execution_count": 3,
   "metadata": {
    "colab": {
     "base_uri": "https://localhost:8080/",
     "height": 35
    },
    "id": "MhIMT5GZ-1L2",
    "outputId": "81e31148-5a1d-42fa-8810-f7fedbffc6d3"
   },
   "outputs": [
    {
     "data": {
      "text/plain": [
       "Index(['CaseID', 'ActivityID', 'CompleteTimestamp'], dtype='object')"
      ]
     },
     "execution_count": 3,
     "metadata": {},
     "output_type": "execute_result"
    }
   ],
   "source": [
    "helpdesk.columns"
   ]
  },
  {
   "cell_type": "markdown",
   "metadata": {
    "id": "KMWiOF3E6Vuz"
   },
   "source": [
    "# _2.Create an event log that retains only the attributes caseid, activity, timestamp,. Rename the attributes as “caseid, activity, ts” if names are different\n"
   ]
  },
  {
   "cell_type": "code",
   "execution_count": 4,
   "metadata": {
    "colab": {
     "base_uri": "https://localhost:8080/",
     "height": 203
    },
    "id": "nxgU5txL6e94",
    "outputId": "6bfe1c29-4136-4c1f-c369-750511e4bd0f"
   },
   "outputs": [
    {
     "data": {
      "text/html": [
       "<div>\n",
       "<style scoped>\n",
       "    .dataframe tbody tr th:only-of-type {\n",
       "        vertical-align: middle;\n",
       "    }\n",
       "\n",
       "    .dataframe tbody tr th {\n",
       "        vertical-align: top;\n",
       "    }\n",
       "\n",
       "    .dataframe thead th {\n",
       "        text-align: right;\n",
       "    }\n",
       "</style>\n",
       "<table border=\"1\" class=\"dataframe\">\n",
       "  <thead>\n",
       "    <tr style=\"text-align: right;\">\n",
       "      <th></th>\n",
       "      <th>CaseID</th>\n",
       "      <th>ActivityID</th>\n",
       "      <th>CompleteTimestamp</th>\n",
       "    </tr>\n",
       "  </thead>\n",
       "  <tbody>\n",
       "    <tr>\n",
       "      <th>0</th>\n",
       "      <td>2</td>\n",
       "      <td>1</td>\n",
       "      <td>4/3/2012 16:55</td>\n",
       "    </tr>\n",
       "    <tr>\n",
       "      <th>1</th>\n",
       "      <td>2</td>\n",
       "      <td>8</td>\n",
       "      <td>4/3/2012 16:55</td>\n",
       "    </tr>\n",
       "    <tr>\n",
       "      <th>2</th>\n",
       "      <td>2</td>\n",
       "      <td>6</td>\n",
       "      <td>4/5/2012 17:15</td>\n",
       "    </tr>\n",
       "    <tr>\n",
       "      <th>3</th>\n",
       "      <td>3</td>\n",
       "      <td>1</td>\n",
       "      <td>10/29/2010 18:14</td>\n",
       "    </tr>\n",
       "    <tr>\n",
       "      <th>4</th>\n",
       "      <td>3</td>\n",
       "      <td>8</td>\n",
       "      <td>11/4/2010 1:16</td>\n",
       "    </tr>\n",
       "  </tbody>\n",
       "</table>\n",
       "</div>"
      ],
      "text/plain": [
       "   CaseID  ActivityID CompleteTimestamp\n",
       "0       2           1    4/3/2012 16:55\n",
       "1       2           8    4/3/2012 16:55\n",
       "2       2           6    4/5/2012 17:15\n",
       "3       3           1  10/29/2010 18:14\n",
       "4       3           8    11/4/2010 1:16"
      ]
     },
     "execution_count": 4,
     "metadata": {},
     "output_type": "execute_result"
    }
   ],
   "source": [
    "# resource_anomaly_type : outcome\n",
    "df_original = helpdesk[['CaseID', 'ActivityID', 'CompleteTimestamp']]\n",
    "df_original.head()"
   ]
  },
  {
   "cell_type": "code",
   "execution_count": 5,
   "metadata": {
    "colab": {
     "base_uri": "https://localhost:8080/",
     "height": 203
    },
    "id": "CwMG0ZmG_pR2",
    "outputId": "f8f41550-a4da-48e1-e2ec-bebec112f07c"
   },
   "outputs": [
    {
     "data": {
      "text/html": [
       "<div>\n",
       "<style scoped>\n",
       "    .dataframe tbody tr th:only-of-type {\n",
       "        vertical-align: middle;\n",
       "    }\n",
       "\n",
       "    .dataframe tbody tr th {\n",
       "        vertical-align: top;\n",
       "    }\n",
       "\n",
       "    .dataframe thead th {\n",
       "        text-align: right;\n",
       "    }\n",
       "</style>\n",
       "<table border=\"1\" class=\"dataframe\">\n",
       "  <thead>\n",
       "    <tr style=\"text-align: right;\">\n",
       "      <th></th>\n",
       "      <th>caseid</th>\n",
       "      <th>activity</th>\n",
       "      <th>ts</th>\n",
       "    </tr>\n",
       "  </thead>\n",
       "  <tbody>\n",
       "    <tr>\n",
       "      <th>0</th>\n",
       "      <td>2</td>\n",
       "      <td>1</td>\n",
       "      <td>4/3/2012 16:55</td>\n",
       "    </tr>\n",
       "    <tr>\n",
       "      <th>1</th>\n",
       "      <td>2</td>\n",
       "      <td>8</td>\n",
       "      <td>4/3/2012 16:55</td>\n",
       "    </tr>\n",
       "    <tr>\n",
       "      <th>2</th>\n",
       "      <td>2</td>\n",
       "      <td>6</td>\n",
       "      <td>4/5/2012 17:15</td>\n",
       "    </tr>\n",
       "    <tr>\n",
       "      <th>3</th>\n",
       "      <td>3</td>\n",
       "      <td>1</td>\n",
       "      <td>10/29/2010 18:14</td>\n",
       "    </tr>\n",
       "    <tr>\n",
       "      <th>4</th>\n",
       "      <td>3</td>\n",
       "      <td>8</td>\n",
       "      <td>11/4/2010 1:16</td>\n",
       "    </tr>\n",
       "  </tbody>\n",
       "</table>\n",
       "</div>"
      ],
      "text/plain": [
       "   caseid  activity                ts\n",
       "0       2         1    4/3/2012 16:55\n",
       "1       2         8    4/3/2012 16:55\n",
       "2       2         6    4/5/2012 17:15\n",
       "3       3         1  10/29/2010 18:14\n",
       "4       3         8    11/4/2010 1:16"
      ]
     },
     "execution_count": 5,
     "metadata": {},
     "output_type": "execute_result"
    }
   ],
   "source": [
    "cols = ['caseid', 'activity', 'ts']\n",
    "df_original.columns = cols\n",
    "df_original.head()"
   ]
  },
  {
   "cell_type": "markdown",
   "metadata": {
    "id": "6r_RCxX5tk9u"
   },
   "source": [
    "#_3.Create a function that does window-based encoding of an event log using size W (= number of events in a window). \n",
    "For each case, a number of observations are extracted, for each observation, the features are the W events and the duration of the window. \n",
    "The class label is the next event that will be executed."
   ]
  },
  {
   "cell_type": "code",
   "execution_count": 6,
   "metadata": {
    "id": "4mCjHIqcwdoX"
   },
   "outputs": [],
   "source": [
    "def func_window(df_sample, window_size):\n",
    "  new_df = pd.DataFrame(columns = ['caseid', '1st_act', '2nd_act', '3rd_act', 'label'])\n",
    "  case_list = df_sample['caseid'].unique()\n",
    "\n",
    "  for caseid in case_list:\n",
    "    act_byCase = df_sample.loc[df_sample['caseid'] == caseid]\n",
    "    act_byCase.sort_values(by = 'ts', ascending=True)\n",
    "    act_byCase.reset_index(inplace= True)\n",
    "\n",
    "    case_size = len(act_byCase)\n",
    "\n",
    "    for act in range(case_size-window_size):\n",
    "      tmp = list()\n",
    "      for i in range(window_size +1):\n",
    "        tmp.append(act_byCase.loc[act + i, 'activity'])\n",
    "\n",
    "      set_values = [caseid, tmp[0], tmp[1], tmp[2], tmp[3]]\n",
    "      new_df.loc[len(new_df), :] = set_values\n",
    "\n",
    "  return new_df"
   ]
  },
  {
   "cell_type": "code",
   "execution_count": 7,
   "metadata": {
    "id": "ubDzRuAYxR8c"
   },
   "outputs": [],
   "source": [
    "window_3 = func_window(df_original, 3)"
   ]
  },
  {
   "cell_type": "code",
   "execution_count": 8,
   "metadata": {
    "colab": {
     "base_uri": "https://localhost:8080/",
     "height": 667
    },
    "id": "WgxcWneOz_tH",
    "outputId": "a64bd742-cea1-4056-9f0a-90479145bea6"
   },
   "outputs": [
    {
     "data": {
      "text/html": [
       "<div>\n",
       "<style scoped>\n",
       "    .dataframe tbody tr th:only-of-type {\n",
       "        vertical-align: middle;\n",
       "    }\n",
       "\n",
       "    .dataframe tbody tr th {\n",
       "        vertical-align: top;\n",
       "    }\n",
       "\n",
       "    .dataframe thead th {\n",
       "        text-align: right;\n",
       "    }\n",
       "</style>\n",
       "<table border=\"1\" class=\"dataframe\">\n",
       "  <thead>\n",
       "    <tr style=\"text-align: right;\">\n",
       "      <th></th>\n",
       "      <th>caseid</th>\n",
       "      <th>1st_act</th>\n",
       "      <th>2nd_act</th>\n",
       "      <th>3rd_act</th>\n",
       "      <th>label</th>\n",
       "    </tr>\n",
       "  </thead>\n",
       "  <tbody>\n",
       "    <tr>\n",
       "      <th>0</th>\n",
       "      <td>5</td>\n",
       "      <td>1</td>\n",
       "      <td>8</td>\n",
       "      <td>6</td>\n",
       "      <td>8</td>\n",
       "    </tr>\n",
       "    <tr>\n",
       "      <th>1</th>\n",
       "      <td>5</td>\n",
       "      <td>8</td>\n",
       "      <td>6</td>\n",
       "      <td>8</td>\n",
       "      <td>6</td>\n",
       "    </tr>\n",
       "    <tr>\n",
       "      <th>2</th>\n",
       "      <td>9</td>\n",
       "      <td>3</td>\n",
       "      <td>1</td>\n",
       "      <td>8</td>\n",
       "      <td>6</td>\n",
       "    </tr>\n",
       "    <tr>\n",
       "      <th>3</th>\n",
       "      <td>16</td>\n",
       "      <td>1</td>\n",
       "      <td>8</td>\n",
       "      <td>8</td>\n",
       "      <td>6</td>\n",
       "    </tr>\n",
       "    <tr>\n",
       "      <th>4</th>\n",
       "      <td>22</td>\n",
       "      <td>1</td>\n",
       "      <td>8</td>\n",
       "      <td>9</td>\n",
       "      <td>6</td>\n",
       "    </tr>\n",
       "    <tr>\n",
       "      <th>5</th>\n",
       "      <td>26</td>\n",
       "      <td>1</td>\n",
       "      <td>8</td>\n",
       "      <td>9</td>\n",
       "      <td>8</td>\n",
       "    </tr>\n",
       "    <tr>\n",
       "      <th>6</th>\n",
       "      <td>26</td>\n",
       "      <td>8</td>\n",
       "      <td>9</td>\n",
       "      <td>8</td>\n",
       "      <td>6</td>\n",
       "    </tr>\n",
       "    <tr>\n",
       "      <th>7</th>\n",
       "      <td>37</td>\n",
       "      <td>1</td>\n",
       "      <td>8</td>\n",
       "      <td>6</td>\n",
       "      <td>6</td>\n",
       "    </tr>\n",
       "    <tr>\n",
       "      <th>8</th>\n",
       "      <td>37</td>\n",
       "      <td>8</td>\n",
       "      <td>6</td>\n",
       "      <td>6</td>\n",
       "      <td>8</td>\n",
       "    </tr>\n",
       "    <tr>\n",
       "      <th>9</th>\n",
       "      <td>37</td>\n",
       "      <td>6</td>\n",
       "      <td>6</td>\n",
       "      <td>8</td>\n",
       "      <td>9</td>\n",
       "    </tr>\n",
       "    <tr>\n",
       "      <th>10</th>\n",
       "      <td>37</td>\n",
       "      <td>6</td>\n",
       "      <td>8</td>\n",
       "      <td>9</td>\n",
       "      <td>8</td>\n",
       "    </tr>\n",
       "    <tr>\n",
       "      <th>11</th>\n",
       "      <td>37</td>\n",
       "      <td>8</td>\n",
       "      <td>9</td>\n",
       "      <td>8</td>\n",
       "      <td>6</td>\n",
       "    </tr>\n",
       "    <tr>\n",
       "      <th>12</th>\n",
       "      <td>48</td>\n",
       "      <td>3</td>\n",
       "      <td>1</td>\n",
       "      <td>8</td>\n",
       "      <td>6</td>\n",
       "    </tr>\n",
       "    <tr>\n",
       "      <th>13</th>\n",
       "      <td>49</td>\n",
       "      <td>1</td>\n",
       "      <td>8</td>\n",
       "      <td>9</td>\n",
       "      <td>6</td>\n",
       "    </tr>\n",
       "    <tr>\n",
       "      <th>14</th>\n",
       "      <td>50</td>\n",
       "      <td>1</td>\n",
       "      <td>8</td>\n",
       "      <td>6</td>\n",
       "      <td>6</td>\n",
       "    </tr>\n",
       "    <tr>\n",
       "      <th>15</th>\n",
       "      <td>51</td>\n",
       "      <td>1</td>\n",
       "      <td>8</td>\n",
       "      <td>9</td>\n",
       "      <td>6</td>\n",
       "    </tr>\n",
       "    <tr>\n",
       "      <th>16</th>\n",
       "      <td>53</td>\n",
       "      <td>1</td>\n",
       "      <td>8</td>\n",
       "      <td>9</td>\n",
       "      <td>9</td>\n",
       "    </tr>\n",
       "    <tr>\n",
       "      <th>17</th>\n",
       "      <td>53</td>\n",
       "      <td>8</td>\n",
       "      <td>9</td>\n",
       "      <td>9</td>\n",
       "      <td>8</td>\n",
       "    </tr>\n",
       "    <tr>\n",
       "      <th>18</th>\n",
       "      <td>53</td>\n",
       "      <td>9</td>\n",
       "      <td>9</td>\n",
       "      <td>8</td>\n",
       "      <td>6</td>\n",
       "    </tr>\n",
       "    <tr>\n",
       "      <th>19</th>\n",
       "      <td>55</td>\n",
       "      <td>1</td>\n",
       "      <td>8</td>\n",
       "      <td>9</td>\n",
       "      <td>6</td>\n",
       "    </tr>\n",
       "  </tbody>\n",
       "</table>\n",
       "</div>"
      ],
      "text/plain": [
       "   caseid 1st_act 2nd_act 3rd_act label\n",
       "0       5       1       8       6     8\n",
       "1       5       8       6       8     6\n",
       "2       9       3       1       8     6\n",
       "3      16       1       8       8     6\n",
       "4      22       1       8       9     6\n",
       "5      26       1       8       9     8\n",
       "6      26       8       9       8     6\n",
       "7      37       1       8       6     6\n",
       "8      37       8       6       6     8\n",
       "9      37       6       6       8     9\n",
       "10     37       6       8       9     8\n",
       "11     37       8       9       8     6\n",
       "12     48       3       1       8     6\n",
       "13     49       1       8       9     6\n",
       "14     50       1       8       6     6\n",
       "15     51       1       8       9     6\n",
       "16     53       1       8       9     9\n",
       "17     53       8       9       9     8\n",
       "18     53       9       9       8     6\n",
       "19     55       1       8       9     6"
      ]
     },
     "execution_count": 8,
     "metadata": {},
     "output_type": "execute_result"
    }
   ],
   "source": [
    "window_3.head(20)"
   ]
  },
  {
   "cell_type": "code",
   "execution_count": 9,
   "metadata": {
    "id": "Flb2AkTVwaT4"
   },
   "outputs": [],
   "source": [
    "def encorder(df):\n",
    "  \n",
    "  df_result = df[['label', 'caseid']]\n",
    "  df_result = df_result.merge(pd.get_dummies(df[\"1st_act\"], prefix_sep='_', prefix= '1st'), left_index=True, right_index=True)\n",
    "  df_result = df_result.merge(pd.get_dummies(df[\"2nd_act\"], prefix_sep='_', prefix= '2nd'), left_index=True, right_index=True)\n",
    "  df_result = df_result.merge(pd.get_dummies(df[\"3rd_act\"], prefix_sep='_', prefix= '3rd'), left_index=True, right_index=True)\n",
    "\n",
    "  return df_result"
   ]
  },
  {
   "cell_type": "code",
   "execution_count": 10,
   "metadata": {
    "colab": {
     "base_uri": "https://localhost:8080/",
     "height": 161
    },
    "id": "Z2SXq8pMwwe3",
    "outputId": "03f0a1a2-18de-40f0-963e-4d497aa0b5a6"
   },
   "outputs": [
    {
     "data": {
      "text/html": [
       "<div>\n",
       "<style scoped>\n",
       "    .dataframe tbody tr th:only-of-type {\n",
       "        vertical-align: middle;\n",
       "    }\n",
       "\n",
       "    .dataframe tbody tr th {\n",
       "        vertical-align: top;\n",
       "    }\n",
       "\n",
       "    .dataframe thead th {\n",
       "        text-align: right;\n",
       "    }\n",
       "</style>\n",
       "<table border=\"1\" class=\"dataframe\">\n",
       "  <thead>\n",
       "    <tr style=\"text-align: right;\">\n",
       "      <th></th>\n",
       "      <th>label</th>\n",
       "      <th>caseid</th>\n",
       "      <th>1st_1</th>\n",
       "      <th>1st_2</th>\n",
       "      <th>1st_3</th>\n",
       "      <th>1st_4</th>\n",
       "      <th>1st_6</th>\n",
       "      <th>1st_7</th>\n",
       "      <th>1st_8</th>\n",
       "      <th>1st_9</th>\n",
       "      <th>...</th>\n",
       "      <th>2nd_8</th>\n",
       "      <th>2nd_9</th>\n",
       "      <th>3rd_1</th>\n",
       "      <th>3rd_2</th>\n",
       "      <th>3rd_4</th>\n",
       "      <th>3rd_5</th>\n",
       "      <th>3rd_6</th>\n",
       "      <th>3rd_7</th>\n",
       "      <th>3rd_8</th>\n",
       "      <th>3rd_9</th>\n",
       "    </tr>\n",
       "  </thead>\n",
       "  <tbody>\n",
       "    <tr>\n",
       "      <th>0</th>\n",
       "      <td>8</td>\n",
       "      <td>5</td>\n",
       "      <td>1</td>\n",
       "      <td>0</td>\n",
       "      <td>0</td>\n",
       "      <td>0</td>\n",
       "      <td>0</td>\n",
       "      <td>0</td>\n",
       "      <td>0</td>\n",
       "      <td>0</td>\n",
       "      <td>...</td>\n",
       "      <td>1</td>\n",
       "      <td>0</td>\n",
       "      <td>0</td>\n",
       "      <td>0</td>\n",
       "      <td>0</td>\n",
       "      <td>0</td>\n",
       "      <td>1</td>\n",
       "      <td>0</td>\n",
       "      <td>0</td>\n",
       "      <td>0</td>\n",
       "    </tr>\n",
       "    <tr>\n",
       "      <th>1</th>\n",
       "      <td>6</td>\n",
       "      <td>5</td>\n",
       "      <td>0</td>\n",
       "      <td>0</td>\n",
       "      <td>0</td>\n",
       "      <td>0</td>\n",
       "      <td>0</td>\n",
       "      <td>0</td>\n",
       "      <td>1</td>\n",
       "      <td>0</td>\n",
       "      <td>...</td>\n",
       "      <td>0</td>\n",
       "      <td>0</td>\n",
       "      <td>0</td>\n",
       "      <td>0</td>\n",
       "      <td>0</td>\n",
       "      <td>0</td>\n",
       "      <td>0</td>\n",
       "      <td>0</td>\n",
       "      <td>1</td>\n",
       "      <td>0</td>\n",
       "    </tr>\n",
       "    <tr>\n",
       "      <th>2</th>\n",
       "      <td>6</td>\n",
       "      <td>9</td>\n",
       "      <td>0</td>\n",
       "      <td>0</td>\n",
       "      <td>1</td>\n",
       "      <td>0</td>\n",
       "      <td>0</td>\n",
       "      <td>0</td>\n",
       "      <td>0</td>\n",
       "      <td>0</td>\n",
       "      <td>...</td>\n",
       "      <td>0</td>\n",
       "      <td>0</td>\n",
       "      <td>0</td>\n",
       "      <td>0</td>\n",
       "      <td>0</td>\n",
       "      <td>0</td>\n",
       "      <td>0</td>\n",
       "      <td>0</td>\n",
       "      <td>1</td>\n",
       "      <td>0</td>\n",
       "    </tr>\n",
       "  </tbody>\n",
       "</table>\n",
       "<p>3 rows × 26 columns</p>\n",
       "</div>"
      ],
      "text/plain": [
       "  label caseid  1st_1  1st_2  1st_3  1st_4  1st_6  1st_7  1st_8  1st_9  ...  \\\n",
       "0     8      5      1      0      0      0      0      0      0      0  ...   \n",
       "1     6      5      0      0      0      0      0      0      1      0  ...   \n",
       "2     6      9      0      0      1      0      0      0      0      0  ...   \n",
       "\n",
       "   2nd_8  2nd_9  3rd_1  3rd_2  3rd_4  3rd_5  3rd_6  3rd_7  3rd_8  3rd_9  \n",
       "0      1      0      0      0      0      0      1      0      0      0  \n",
       "1      0      0      0      0      0      0      0      0      1      0  \n",
       "2      0      0      0      0      0      0      0      0      1      0  \n",
       "\n",
       "[3 rows x 26 columns]"
      ]
     },
     "execution_count": 10,
     "metadata": {},
     "output_type": "execute_result"
    }
   ],
   "source": [
    "encoded_window_3 = encorder(window_3)\n",
    "encoded_window_3.head(3)"
   ]
  },
  {
   "cell_type": "code",
   "execution_count": 11,
   "metadata": {
    "id": "0FfrUFSXyBWU"
   },
   "outputs": [],
   "source": [
    "encoded_window_3['label'] = pd.to_numeric(encoded_window_3['label'])"
   ]
  },
  {
   "cell_type": "markdown",
   "metadata": {
    "id": "iyxs8pe_6p57"
   },
   "source": [
    "# _6. Train a decision tree and a gradient boosting model from the scikit-learn package for next event prediction using the event log created at step 4 for W=3.\n",
    "Split 70-30 for training-testing.\n",
    "\n",
    "Hyperparameters:\n",
    "DT max_depth = 5, random_state = 1234\n",
    "GBM max_depth = 3, random_state = 1234\n"
   ]
  },
  {
   "cell_type": "markdown",
   "metadata": {
    "id": "CEDNGhCfey37"
   },
   "source": [
    "## Decision Tree"
   ]
  },
  {
   "cell_type": "code",
   "execution_count": 12,
   "metadata": {
    "id": "q2RueQiEey38"
   },
   "outputs": [],
   "source": [
    "from sklearn.tree import DecisionTreeClassifier\n",
    "from sklearn.model_selection import train_test_split\n",
    "from sklearn.metrics import  accuracy_score         # between pred_result and real outcome\n"
   ]
  },
  {
   "cell_type": "markdown",
   "metadata": {
    "id": "Uf89XgaRZ1oW"
   },
   "source": [
    "### window_3 with case id\n"
   ]
  },
  {
   "cell_type": "code",
   "execution_count": 13,
   "metadata": {
    "id": "UL73IlFJYH1K"
   },
   "outputs": [],
   "source": [
    "#  define X,y\n",
    "X = encoded_window_3.loc[:, encoded_window_3.columns.difference(['label'])]\n",
    "y = encoded_window_3['label']"
   ]
  },
  {
   "cell_type": "code",
   "execution_count": 14,
   "metadata": {
    "colab": {
     "base_uri": "https://localhost:8080/",
     "height": 35
    },
    "id": "wfcr5wwQx6x2",
    "outputId": "cc4d475a-b34b-46dd-8b6a-24890149bc03"
   },
   "outputs": [
    {
     "data": {
      "text/plain": [
       "((1733, 25), (744, 25), (1733,), (744,))"
      ]
     },
     "execution_count": 14,
     "metadata": {},
     "output_type": "execute_result"
    }
   ],
   "source": [
    "# Data Prepare-> 70:30,(train/test, X,y)\n",
    "\n",
    "X_train, X_test, y_train, y_test = train_test_split( X, y, test_size=0.3 )\n",
    "X_train.shape, X_test.shape, y_train.shape, y_test.shape"
   ]
  },
  {
   "cell_type": "code",
   "execution_count": 15,
   "metadata": {
    "colab": {
     "base_uri": "https://localhost:8080/",
     "height": 35
    },
    "id": "5NVWgNyxx66p",
    "outputId": "c570e421-079b-473f-fa05-e6b8ea5bbb46"
   },
   "outputs": [
    {
     "name": "stdout",
     "output_type": "stream",
     "text": [
      "정확도 0.6196236559139785\n"
     ]
    }
   ],
   "source": [
    "# Generate DT algorithm\n",
    "clf = DecisionTreeClassifier( max_depth = 5, random_state = 1234)\n",
    "# train\n",
    "clf.fit( X_train, y_train)\n",
    "# predict\n",
    "y_pred = clf.predict( X_test )\n",
    "\n",
    "print('정확도', accuracy_score(y_test, y_pred)  )"
   ]
  },
  {
   "cell_type": "markdown",
   "metadata": {
    "id": "7_RfVYwN1alo"
   },
   "source": [
    "### window_3 without case id\n"
   ]
  },
  {
   "cell_type": "code",
   "execution_count": 16,
   "metadata": {
    "colab": {
     "base_uri": "https://localhost:8080/",
     "height": 35
    },
    "id": "z9RfZh3Q14ZU",
    "outputId": "5d7b93dc-ab0e-4d1d-ee79-8680da250cf0"
   },
   "outputs": [
    {
     "data": {
      "text/plain": [
       "((1733, 24), (744, 24))"
      ]
     },
     "execution_count": 16,
     "metadata": {},
     "output_type": "execute_result"
    }
   ],
   "source": [
    "X_train_2 = X_train.loc[:, X_train.columns.difference(['caseid'])]\n",
    "X_test_2 = X_test.loc[:, X_test.columns.difference(['caseid'])]\n",
    "\n",
    "X_train_2.shape,X_test_2.shape"
   ]
  },
  {
   "cell_type": "code",
   "execution_count": 17,
   "metadata": {
    "colab": {
     "base_uri": "https://localhost:8080/",
     "height": 35
    },
    "id": "ORvi_6rW1alu",
    "outputId": "1c332cc0-0bb6-4492-8398-09c1b6c8ac9b"
   },
   "outputs": [
    {
     "name": "stdout",
     "output_type": "stream",
     "text": [
      "정확도 0.6196236559139785\n"
     ]
    }
   ],
   "source": [
    "# Generate DT algorithm\n",
    "clf = DecisionTreeClassifier( max_depth = 5, random_state = 1234)\n",
    "# train\n",
    "clf.fit( X_train_2, y_train)\n",
    "# predict\n",
    "y_pred = clf.predict( X_test_2 )\n",
    "\n",
    "print('정확도', accuracy_score(y_test, y_pred)  )"
   ]
  },
  {
   "cell_type": "markdown",
   "metadata": {
    "id": "AQieAFMAr4Ly"
   },
   "source": [
    "## a gradient boosting model\n",
    "GBM max_depth = 3, random_state = 1234\n"
   ]
  },
  {
   "cell_type": "code",
   "execution_count": 18,
   "metadata": {
    "colab": {
     "base_uri": "https://localhost:8080/",
     "height": 35
    },
    "id": "B-a6mHcqtb8w",
    "outputId": "c68eb8fe-d823-441e-a724-16602e699749"
   },
   "outputs": [
    {
     "name": "stdout",
     "output_type": "stream",
     "text": [
      "정확도 0.6209677419354839\n"
     ]
    }
   ],
   "source": [
    "from sklearn.ensemble import GradientBoostingClassifier\n",
    "\n",
    "# GBM\n",
    "gb_clf = GradientBoostingClassifier(max_depth = 3, random_state = 1234 )\n",
    "gb_clf.fit( X_train, y_train )\n",
    "pred   = gb_clf.predict( X_test )\n",
    "print('정확도', accuracy_score(y_test, pred)  )"
   ]
  },
  {
   "cell_type": "code",
   "execution_count": null,
   "metadata": {},
   "outputs": [],
   "source": []
  },
  {
   "cell_type": "code",
   "execution_count": null,
   "metadata": {},
   "outputs": [],
   "source": []
  }
 ],
 "metadata": {
  "accelerator": "TPU",
  "colab": {
   "collapsed_sections": [],
   "name": "Analysis_Helpdesk.ipynb",
   "provenance": [],
   "toc_visible": true
  },
  "kernelspec": {
   "display_name": "Python 3",
   "language": "python",
   "name": "python3"
  },
  "language_info": {
   "codemirror_mode": {
    "name": "ipython",
    "version": 3
   },
   "file_extension": ".py",
   "mimetype": "text/x-python",
   "name": "python",
   "nbconvert_exporter": "python",
   "pygments_lexer": "ipython3",
   "version": "3.7.6"
  }
 },
 "nbformat": 4,
 "nbformat_minor": 1
}
