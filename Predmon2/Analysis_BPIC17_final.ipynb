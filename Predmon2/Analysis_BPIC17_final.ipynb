{
 "cells": [
  {
   "cell_type": "markdown",
   "metadata": {
    "colab_type": "text",
    "id": "GBrLqMMW6Gcr"
   },
   "source": [
    "Exercise Predictive monitoring - Part 2\n",
    "Filtering prefixes, aggregation and index-based encoding. Repeat the following tasks for the 2 event logs: small (synthetic) and BPIC_2017 (real). Commit the solutions on your github repository.\n",
    "\n",
    "\n",
    "\n",
    "\n"
   ]
  },
  {
   "cell_type": "code",
   "execution_count": 1,
   "metadata": {
    "colab": {},
    "colab_type": "code",
    "id": "QbND_LGK6vk4"
   },
   "outputs": [],
   "source": [
    "import sys\n",
    "import pandas as pd\n",
    "import numpy as np\n",
    "import matplotlib.pyplot as plt\n",
    "import datetime \n",
    "\n",
    "%matplotlib inline"
   ]
  },
  {
   "cell_type": "markdown",
   "metadata": {
    "colab_type": "text",
    "id": "mll0JXue6LhZ"
   },
   "source": [
    "# _1. Import an event log as a pandas dataframe\n"
   ]
  },
  {
   "cell_type": "code",
   "execution_count": 2,
   "metadata": {
    "colab": {
     "base_uri": "https://localhost:8080/",
     "height": 206
    },
    "colab_type": "code",
    "id": "pXkYu8HS6uOp",
    "outputId": "fd418692-8480-454f-8f7a-9979235aa641"
   },
   "outputs": [],
   "source": [
    "BPIC17 = pd.read_csv('Sampled_BPIC17_offer_log.csv', index_col = ['index'])"
   ]
  },
  {
   "cell_type": "code",
   "execution_count": 3,
   "metadata": {
    "colab": {},
    "colab_type": "code",
    "id": "R0P_5f2inhEP"
   },
   "outputs": [
    {
     "data": {
      "text/html": [
       "<div>\n",
       "<style scoped>\n",
       "    .dataframe tbody tr th:only-of-type {\n",
       "        vertical-align: middle;\n",
       "    }\n",
       "\n",
       "    .dataframe tbody tr th {\n",
       "        vertical-align: top;\n",
       "    }\n",
       "\n",
       "    .dataframe thead th {\n",
       "        text-align: right;\n",
       "    }\n",
       "</style>\n",
       "<table border=\"1\" class=\"dataframe\">\n",
       "  <thead>\n",
       "    <tr style=\"text-align: right;\">\n",
       "      <th></th>\n",
       "      <th>Case ID</th>\n",
       "      <th>Activity</th>\n",
       "      <th>Resource</th>\n",
       "      <th>Complete Timestamp</th>\n",
       "      <th>Variant</th>\n",
       "      <th>Variant index</th>\n",
       "      <th>(case) Accepted</th>\n",
       "      <th>(case) ApplicationID</th>\n",
       "      <th>(case) CreditScore</th>\n",
       "      <th>(case) FirstWithdrawalAmount</th>\n",
       "      <th>(case) MonthlyCost</th>\n",
       "      <th>(case) NumberOfTerms</th>\n",
       "      <th>(case) OfferedAmount</th>\n",
       "      <th>(case) Selected</th>\n",
       "      <th>Action</th>\n",
       "      <th>EventID</th>\n",
       "      <th>EventOrigin</th>\n",
       "      <th>OfferID</th>\n",
       "      <th>lifecycle:transition</th>\n",
       "    </tr>\n",
       "  </thead>\n",
       "  <tbody>\n",
       "    <tr>\n",
       "      <th>0</th>\n",
       "      <td>Offer_247135719</td>\n",
       "      <td>O_Create Offer</td>\n",
       "      <td>User_17</td>\n",
       "      <td>2016/01/02 18:17:05.720</td>\n",
       "      <td>Variant 8</td>\n",
       "      <td>8</td>\n",
       "      <td>True</td>\n",
       "      <td>Application_196483749</td>\n",
       "      <td>0</td>\n",
       "      <td>10000.0</td>\n",
       "      <td>201.76</td>\n",
       "      <td>57</td>\n",
       "      <td>10000.0</td>\n",
       "      <td>False</td>\n",
       "      <td>Created</td>\n",
       "      <td>Offer_247135719</td>\n",
       "      <td>Offer</td>\n",
       "      <td>NaN</td>\n",
       "      <td>complete</td>\n",
       "    </tr>\n",
       "    <tr>\n",
       "      <th>1</th>\n",
       "      <td>Offer_247135719</td>\n",
       "      <td>O_Created</td>\n",
       "      <td>User_17</td>\n",
       "      <td>2016/01/02 18:17:08.762</td>\n",
       "      <td>Variant 8</td>\n",
       "      <td>8</td>\n",
       "      <td>True</td>\n",
       "      <td>Application_196483749</td>\n",
       "      <td>0</td>\n",
       "      <td>10000.0</td>\n",
       "      <td>201.76</td>\n",
       "      <td>57</td>\n",
       "      <td>10000.0</td>\n",
       "      <td>False</td>\n",
       "      <td>statechange</td>\n",
       "      <td>OfferState_124849367</td>\n",
       "      <td>Offer</td>\n",
       "      <td>Offer_247135719</td>\n",
       "      <td>complete</td>\n",
       "    </tr>\n",
       "  </tbody>\n",
       "</table>\n",
       "</div>"
      ],
      "text/plain": [
       "           Case ID        Activity Resource       Complete Timestamp  \\\n",
       "0  Offer_247135719  O_Create Offer  User_17  2016/01/02 18:17:05.720   \n",
       "1  Offer_247135719       O_Created  User_17  2016/01/02 18:17:08.762   \n",
       "\n",
       "     Variant  Variant index  (case) Accepted   (case) ApplicationID  \\\n",
       "0  Variant 8              8             True  Application_196483749   \n",
       "1  Variant 8              8             True  Application_196483749   \n",
       "\n",
       "   (case) CreditScore  (case) FirstWithdrawalAmount  (case) MonthlyCost  \\\n",
       "0                   0                       10000.0              201.76   \n",
       "1                   0                       10000.0              201.76   \n",
       "\n",
       "   (case) NumberOfTerms  (case) OfferedAmount  (case) Selected       Action  \\\n",
       "0                    57               10000.0            False      Created   \n",
       "1                    57               10000.0            False  statechange   \n",
       "\n",
       "                EventID EventOrigin          OfferID lifecycle:transition  \n",
       "0       Offer_247135719       Offer              NaN             complete  \n",
       "1  OfferState_124849367       Offer  Offer_247135719             complete  "
      ]
     },
     "execution_count": 3,
     "metadata": {},
     "output_type": "execute_result"
    }
   ],
   "source": [
    "BPIC17.rename_axis(None, inplace=True)\n",
    "BPIC17.head(2)"
   ]
  },
  {
   "cell_type": "code",
   "execution_count": 4,
   "metadata": {},
   "outputs": [
    {
     "data": {
      "text/html": [
       "<div>\n",
       "<style scoped>\n",
       "    .dataframe tbody tr th:only-of-type {\n",
       "        vertical-align: middle;\n",
       "    }\n",
       "\n",
       "    .dataframe tbody tr th {\n",
       "        vertical-align: top;\n",
       "    }\n",
       "\n",
       "    .dataframe thead th {\n",
       "        text-align: right;\n",
       "    }\n",
       "</style>\n",
       "<table border=\"1\" class=\"dataframe\">\n",
       "  <thead>\n",
       "    <tr style=\"text-align: right;\">\n",
       "      <th></th>\n",
       "      <th>Case ID</th>\n",
       "      <th>Activity</th>\n",
       "      <th>Resource</th>\n",
       "      <th>Complete Timestamp</th>\n",
       "      <th>Variant</th>\n",
       "      <th>Variant index</th>\n",
       "      <th>(case) Accepted</th>\n",
       "      <th>(case) ApplicationID</th>\n",
       "      <th>(case) CreditScore</th>\n",
       "      <th>(case) FirstWithdrawalAmount</th>\n",
       "      <th>(case) MonthlyCost</th>\n",
       "      <th>(case) NumberOfTerms</th>\n",
       "      <th>(case) OfferedAmount</th>\n",
       "      <th>(case) Selected</th>\n",
       "      <th>Action</th>\n",
       "      <th>EventID</th>\n",
       "      <th>EventOrigin</th>\n",
       "      <th>OfferID</th>\n",
       "      <th>lifecycle:transition</th>\n",
       "    </tr>\n",
       "  </thead>\n",
       "  <tbody>\n",
       "    <tr>\n",
       "      <th>0</th>\n",
       "      <td>Offer_247135719</td>\n",
       "      <td>O_Create Offer</td>\n",
       "      <td>User_17</td>\n",
       "      <td>2016/01/02 18:17:05.720</td>\n",
       "      <td>Variant 8</td>\n",
       "      <td>8</td>\n",
       "      <td>True</td>\n",
       "      <td>Application_196483749</td>\n",
       "      <td>0</td>\n",
       "      <td>10000.0</td>\n",
       "      <td>201.76</td>\n",
       "      <td>57</td>\n",
       "      <td>10000.0</td>\n",
       "      <td>False</td>\n",
       "      <td>Created</td>\n",
       "      <td>Offer_247135719</td>\n",
       "      <td>Offer</td>\n",
       "      <td>NaN</td>\n",
       "      <td>complete</td>\n",
       "    </tr>\n",
       "    <tr>\n",
       "      <th>1</th>\n",
       "      <td>Offer_247135719</td>\n",
       "      <td>O_Created</td>\n",
       "      <td>User_17</td>\n",
       "      <td>2016/01/02 18:17:08.762</td>\n",
       "      <td>Variant 8</td>\n",
       "      <td>8</td>\n",
       "      <td>True</td>\n",
       "      <td>Application_196483749</td>\n",
       "      <td>0</td>\n",
       "      <td>10000.0</td>\n",
       "      <td>201.76</td>\n",
       "      <td>57</td>\n",
       "      <td>10000.0</td>\n",
       "      <td>False</td>\n",
       "      <td>statechange</td>\n",
       "      <td>OfferState_124849367</td>\n",
       "      <td>Offer</td>\n",
       "      <td>Offer_247135719</td>\n",
       "      <td>complete</td>\n",
       "    </tr>\n",
       "  </tbody>\n",
       "</table>\n",
       "</div>"
      ],
      "text/plain": [
       "           Case ID        Activity Resource       Complete Timestamp  \\\n",
       "0  Offer_247135719  O_Create Offer  User_17  2016/01/02 18:17:05.720   \n",
       "1  Offer_247135719       O_Created  User_17  2016/01/02 18:17:08.762   \n",
       "\n",
       "     Variant  Variant index  (case) Accepted   (case) ApplicationID  \\\n",
       "0  Variant 8              8             True  Application_196483749   \n",
       "1  Variant 8              8             True  Application_196483749   \n",
       "\n",
       "   (case) CreditScore  (case) FirstWithdrawalAmount  (case) MonthlyCost  \\\n",
       "0                   0                       10000.0              201.76   \n",
       "1                   0                       10000.0              201.76   \n",
       "\n",
       "   (case) NumberOfTerms  (case) OfferedAmount  (case) Selected       Action  \\\n",
       "0                    57               10000.0            False      Created   \n",
       "1                    57               10000.0            False  statechange   \n",
       "\n",
       "                EventID EventOrigin          OfferID lifecycle:transition  \n",
       "0       Offer_247135719       Offer              NaN             complete  \n",
       "1  OfferState_124849367       Offer  Offer_247135719             complete  "
      ]
     },
     "execution_count": 4,
     "metadata": {},
     "output_type": "execute_result"
    }
   ],
   "source": [
    "BPIC17.head(2)"
   ]
  },
  {
   "cell_type": "code",
   "execution_count": 5,
   "metadata": {
    "colab": {
     "base_uri": "https://localhost:8080/",
     "height": 140
    },
    "colab_type": "code",
    "id": "MhIMT5GZ-1L2",
    "outputId": "83758202-e567-490b-ffa0-1b1ee3b4680e"
   },
   "outputs": [
    {
     "data": {
      "text/plain": [
       "Index(['Case ID', 'Activity', 'Resource', 'Complete Timestamp', 'Variant',\n",
       "       'Variant index', '(case) Accepted', '(case) ApplicationID',\n",
       "       '(case) CreditScore', '(case) FirstWithdrawalAmount',\n",
       "       '(case) MonthlyCost', '(case) NumberOfTerms', '(case) OfferedAmount',\n",
       "       '(case) Selected', 'Action', 'EventID', 'EventOrigin', 'OfferID',\n",
       "       'lifecycle:transition'],\n",
       "      dtype='object')"
      ]
     },
     "execution_count": 5,
     "metadata": {},
     "output_type": "execute_result"
    }
   ],
   "source": [
    "BPIC17.columns"
   ]
  },
  {
   "cell_type": "markdown",
   "metadata": {
    "colab_type": "text",
    "id": "KMWiOF3E6Vuz"
   },
   "source": [
    "# _2.Create an event log that retains only the attributes caseid, activity, timestamp, resource and outcome. Rename the attributes as “caseid, activity, ts, resource, outcome” if names are different (note: we should indicate which one is the outcome label)\n"
   ]
  },
  {
   "cell_type": "code",
   "execution_count": 6,
   "metadata": {
    "colab": {
     "base_uri": "https://localhost:8080/",
     "height": 195
    },
    "colab_type": "code",
    "id": "nxgU5txL6e94",
    "outputId": "f72387de-e9ca-4e0d-ed10-9ae32baff00e"
   },
   "outputs": [
    {
     "data": {
      "text/html": [
       "<div>\n",
       "<style scoped>\n",
       "    .dataframe tbody tr th:only-of-type {\n",
       "        vertical-align: middle;\n",
       "    }\n",
       "\n",
       "    .dataframe tbody tr th {\n",
       "        vertical-align: top;\n",
       "    }\n",
       "\n",
       "    .dataframe thead th {\n",
       "        text-align: right;\n",
       "    }\n",
       "</style>\n",
       "<table border=\"1\" class=\"dataframe\">\n",
       "  <thead>\n",
       "    <tr style=\"text-align: right;\">\n",
       "      <th></th>\n",
       "      <th>Case ID</th>\n",
       "      <th>Activity</th>\n",
       "      <th>Complete Timestamp</th>\n",
       "      <th>Resource</th>\n",
       "      <th>(case) Accepted</th>\n",
       "    </tr>\n",
       "  </thead>\n",
       "  <tbody>\n",
       "    <tr>\n",
       "      <th>0</th>\n",
       "      <td>Offer_247135719</td>\n",
       "      <td>O_Create Offer</td>\n",
       "      <td>2016/01/02 18:17:05.720</td>\n",
       "      <td>User_17</td>\n",
       "      <td>True</td>\n",
       "    </tr>\n",
       "    <tr>\n",
       "      <th>1</th>\n",
       "      <td>Offer_247135719</td>\n",
       "      <td>O_Created</td>\n",
       "      <td>2016/01/02 18:17:08.762</td>\n",
       "      <td>User_17</td>\n",
       "      <td>True</td>\n",
       "    </tr>\n",
       "    <tr>\n",
       "      <th>2</th>\n",
       "      <td>Offer_247135719</td>\n",
       "      <td>O_Sent (online only)</td>\n",
       "      <td>2016/01/02 18:19:21.330</td>\n",
       "      <td>User_17</td>\n",
       "      <td>True</td>\n",
       "    </tr>\n",
       "    <tr>\n",
       "      <th>3</th>\n",
       "      <td>Offer_247135719</td>\n",
       "      <td>O_Cancelled</td>\n",
       "      <td>2016/01/02 18:21:26.034</td>\n",
       "      <td>User_17</td>\n",
       "      <td>True</td>\n",
       "    </tr>\n",
       "    <tr>\n",
       "      <th>4</th>\n",
       "      <td>Offer_941964966</td>\n",
       "      <td>O_Create Offer</td>\n",
       "      <td>2016/01/02 18:21:42.022</td>\n",
       "      <td>User_17</td>\n",
       "      <td>True</td>\n",
       "    </tr>\n",
       "  </tbody>\n",
       "</table>\n",
       "</div>"
      ],
      "text/plain": [
       "           Case ID              Activity       Complete Timestamp Resource  \\\n",
       "0  Offer_247135719        O_Create Offer  2016/01/02 18:17:05.720  User_17   \n",
       "1  Offer_247135719             O_Created  2016/01/02 18:17:08.762  User_17   \n",
       "2  Offer_247135719  O_Sent (online only)  2016/01/02 18:19:21.330  User_17   \n",
       "3  Offer_247135719           O_Cancelled  2016/01/02 18:21:26.034  User_17   \n",
       "4  Offer_941964966        O_Create Offer  2016/01/02 18:21:42.022  User_17   \n",
       "\n",
       "   (case) Accepted  \n",
       "0             True  \n",
       "1             True  \n",
       "2             True  \n",
       "3             True  \n",
       "4             True  "
      ]
     },
     "execution_count": 6,
     "metadata": {},
     "output_type": "execute_result"
    }
   ],
   "source": [
    "# resource_anomaly_type : outcome\n",
    "df_original = BPIC17[['Case ID', 'Activity', 'Complete Timestamp', 'Resource', '(case) Accepted']]\n",
    "df_original.head()"
   ]
  },
  {
   "cell_type": "code",
   "execution_count": 7,
   "metadata": {
    "colab": {
     "base_uri": "https://localhost:8080/",
     "height": 195
    },
    "colab_type": "code",
    "id": "CwMG0ZmG_pR2",
    "outputId": "ff3a252c-fe29-4af4-c804-cfffdf01c2d1"
   },
   "outputs": [
    {
     "data": {
      "text/html": [
       "<div>\n",
       "<style scoped>\n",
       "    .dataframe tbody tr th:only-of-type {\n",
       "        vertical-align: middle;\n",
       "    }\n",
       "\n",
       "    .dataframe tbody tr th {\n",
       "        vertical-align: top;\n",
       "    }\n",
       "\n",
       "    .dataframe thead th {\n",
       "        text-align: right;\n",
       "    }\n",
       "</style>\n",
       "<table border=\"1\" class=\"dataframe\">\n",
       "  <thead>\n",
       "    <tr style=\"text-align: right;\">\n",
       "      <th></th>\n",
       "      <th>caseid</th>\n",
       "      <th>activity</th>\n",
       "      <th>ts</th>\n",
       "      <th>resource</th>\n",
       "      <th>outcome</th>\n",
       "    </tr>\n",
       "  </thead>\n",
       "  <tbody>\n",
       "    <tr>\n",
       "      <th>0</th>\n",
       "      <td>Offer_247135719</td>\n",
       "      <td>O_Create Offer</td>\n",
       "      <td>2016/01/02 18:17:05.720</td>\n",
       "      <td>User_17</td>\n",
       "      <td>True</td>\n",
       "    </tr>\n",
       "    <tr>\n",
       "      <th>1</th>\n",
       "      <td>Offer_247135719</td>\n",
       "      <td>O_Created</td>\n",
       "      <td>2016/01/02 18:17:08.762</td>\n",
       "      <td>User_17</td>\n",
       "      <td>True</td>\n",
       "    </tr>\n",
       "    <tr>\n",
       "      <th>2</th>\n",
       "      <td>Offer_247135719</td>\n",
       "      <td>O_Sent (online only)</td>\n",
       "      <td>2016/01/02 18:19:21.330</td>\n",
       "      <td>User_17</td>\n",
       "      <td>True</td>\n",
       "    </tr>\n",
       "    <tr>\n",
       "      <th>3</th>\n",
       "      <td>Offer_247135719</td>\n",
       "      <td>O_Cancelled</td>\n",
       "      <td>2016/01/02 18:21:26.034</td>\n",
       "      <td>User_17</td>\n",
       "      <td>True</td>\n",
       "    </tr>\n",
       "    <tr>\n",
       "      <th>4</th>\n",
       "      <td>Offer_941964966</td>\n",
       "      <td>O_Create Offer</td>\n",
       "      <td>2016/01/02 18:21:42.022</td>\n",
       "      <td>User_17</td>\n",
       "      <td>True</td>\n",
       "    </tr>\n",
       "  </tbody>\n",
       "</table>\n",
       "</div>"
      ],
      "text/plain": [
       "            caseid              activity                       ts resource  \\\n",
       "0  Offer_247135719        O_Create Offer  2016/01/02 18:17:05.720  User_17   \n",
       "1  Offer_247135719             O_Created  2016/01/02 18:17:08.762  User_17   \n",
       "2  Offer_247135719  O_Sent (online only)  2016/01/02 18:19:21.330  User_17   \n",
       "3  Offer_247135719           O_Cancelled  2016/01/02 18:21:26.034  User_17   \n",
       "4  Offer_941964966        O_Create Offer  2016/01/02 18:21:42.022  User_17   \n",
       "\n",
       "   outcome  \n",
       "0     True  \n",
       "1     True  \n",
       "2     True  \n",
       "3     True  \n",
       "4     True  "
      ]
     },
     "execution_count": 7,
     "metadata": {},
     "output_type": "execute_result"
    }
   ],
   "source": [
    "cols = ['caseid', 'activity', 'ts', 'resource', 'outcome']\n",
    "df_original.columns = cols\n",
    "df_original.head()"
   ]
  },
  {
   "cell_type": "markdown",
   "metadata": {
    "colab_type": "text",
    "id": "hxVBWalV6LnH"
   },
   "source": [
    "# _3.Create a function that does aggregation encoding of an event log:\n",
    "Activity and resource are aggregated using frequency\n",
    "Timestamp are aggregated using average\n"
   ]
  },
  {
   "cell_type": "code",
   "execution_count": 8,
   "metadata": {
    "colab": {},
    "colab_type": "code",
    "id": "WfAGkhws_45S"
   },
   "outputs": [],
   "source": [
    "def aggregation(df):\n",
    "  # create new df for result\n",
    "  df_result = pd.DataFrame( columns= [ 'List_Activity', 'List_Resource'])\n",
    "\n",
    "  # List of Activity and Resource\n",
    "  df_result.loc[:,'List_Activity']= df.groupby('caseid')['activity'].apply(list)\n",
    "  df_result.loc[:,'List_Resource']= df.groupby('caseid')['resource'].apply(list)\n",
    "\n",
    "  # Average of timestamps\n",
    "  df.loc[:,'ts'] = pd.to_datetime(df.loc[:,'ts'])\n",
    "  tsMin = df.groupby('caseid')['ts'].min()\n",
    "  df = pd.merge(df, tsMin.reset_index(), on= 'caseid', how='outer', suffixes = ('','_min'))\n",
    "  df.loc[:,'ts_Gap'] = df['ts'] - df['ts_min']\n",
    "  df_result.loc[:,'Avg_ts']= df.groupby('caseid')['ts_Gap'].apply(np.sum)/(df.groupby('caseid')['ts_Gap'].apply(len)-1)\n",
    "  df_result.loc[:,'Avg_ts'] = df_result.loc[:,'Avg_ts'].dt.round('1s')\n",
    "\n",
    "  return df_result\n"
   ]
  },
  {
   "cell_type": "code",
   "execution_count": 9,
   "metadata": {
    "colab": {
     "base_uri": "https://localhost:8080/",
     "height": 330
    },
    "colab_type": "code",
    "id": "pjcMBQeVT-OH",
    "outputId": "f2f43e3c-9bb1-49bc-c493-9faab203c0bc"
   },
   "outputs": [
    {
     "name": "stderr",
     "output_type": "stream",
     "text": [
      "C:\\anaconda3\\lib\\site-packages\\pandas\\core\\indexing.py:965: SettingWithCopyWarning: \n",
      "A value is trying to be set on a copy of a slice from a DataFrame.\n",
      "Try using .loc[row_indexer,col_indexer] = value instead\n",
      "\n",
      "See the caveats in the documentation: https://pandas.pydata.org/pandas-docs/stable/user_guide/indexing.html#returning-a-view-versus-a-copy\n",
      "  self.obj[item] = s\n"
     ]
    },
    {
     "data": {
      "text/html": [
       "<div>\n",
       "<style scoped>\n",
       "    .dataframe tbody tr th:only-of-type {\n",
       "        vertical-align: middle;\n",
       "    }\n",
       "\n",
       "    .dataframe tbody tr th {\n",
       "        vertical-align: top;\n",
       "    }\n",
       "\n",
       "    .dataframe thead th {\n",
       "        text-align: right;\n",
       "    }\n",
       "</style>\n",
       "<table border=\"1\" class=\"dataframe\">\n",
       "  <thead>\n",
       "    <tr style=\"text-align: right;\">\n",
       "      <th></th>\n",
       "      <th>List_Activity</th>\n",
       "      <th>List_Resource</th>\n",
       "      <th>Avg_ts</th>\n",
       "    </tr>\n",
       "    <tr>\n",
       "      <th>caseid</th>\n",
       "      <th></th>\n",
       "      <th></th>\n",
       "      <th></th>\n",
       "    </tr>\n",
       "  </thead>\n",
       "  <tbody>\n",
       "    <tr>\n",
       "      <th>Offer_1000681710</th>\n",
       "      <td>[O_Create Offer, O_Created, O_Sent (mail and o...</td>\n",
       "      <td>[User_20, User_20, User_20, User_117, User_115]</td>\n",
       "      <td>3 days 14:40:42</td>\n",
       "    </tr>\n",
       "    <tr>\n",
       "      <th>Offer_1001553250</th>\n",
       "      <td>[O_Create Offer, O_Created, O_Sent (mail and o...</td>\n",
       "      <td>[User_2, User_2, User_2, User_113, User_30]</td>\n",
       "      <td>4 days 07:28:50</td>\n",
       "    </tr>\n",
       "    <tr>\n",
       "      <th>Offer_1002136393</th>\n",
       "      <td>[O_Create Offer, O_Created, O_Sent (mail and o...</td>\n",
       "      <td>[User_85, User_85, User_85, User_117, User_118]</td>\n",
       "      <td>10 days 11:43:53</td>\n",
       "    </tr>\n",
       "    <tr>\n",
       "      <th>Offer_1002236598</th>\n",
       "      <td>[O_Create Offer, O_Created, O_Sent (mail and o...</td>\n",
       "      <td>[User_49, User_49, User_49, User_113, User_102]</td>\n",
       "      <td>2 days 07:12:34</td>\n",
       "    </tr>\n",
       "    <tr>\n",
       "      <th>Offer_1002530118</th>\n",
       "      <td>[O_Create Offer, O_Created, O_Sent (mail and o...</td>\n",
       "      <td>[User_15, User_15, User_15, User_1]</td>\n",
       "      <td>10 days 04:31:56</td>\n",
       "    </tr>\n",
       "  </tbody>\n",
       "</table>\n",
       "</div>"
      ],
      "text/plain": [
       "                                                      List_Activity  \\\n",
       "caseid                                                                \n",
       "Offer_1000681710  [O_Create Offer, O_Created, O_Sent (mail and o...   \n",
       "Offer_1001553250  [O_Create Offer, O_Created, O_Sent (mail and o...   \n",
       "Offer_1002136393  [O_Create Offer, O_Created, O_Sent (mail and o...   \n",
       "Offer_1002236598  [O_Create Offer, O_Created, O_Sent (mail and o...   \n",
       "Offer_1002530118  [O_Create Offer, O_Created, O_Sent (mail and o...   \n",
       "\n",
       "                                                    List_Resource  \\\n",
       "caseid                                                              \n",
       "Offer_1000681710  [User_20, User_20, User_20, User_117, User_115]   \n",
       "Offer_1001553250      [User_2, User_2, User_2, User_113, User_30]   \n",
       "Offer_1002136393  [User_85, User_85, User_85, User_117, User_118]   \n",
       "Offer_1002236598  [User_49, User_49, User_49, User_113, User_102]   \n",
       "Offer_1002530118              [User_15, User_15, User_15, User_1]   \n",
       "\n",
       "                           Avg_ts  \n",
       "caseid                             \n",
       "Offer_1000681710  3 days 14:40:42  \n",
       "Offer_1001553250  4 days 07:28:50  \n",
       "Offer_1002136393 10 days 11:43:53  \n",
       "Offer_1002236598  2 days 07:12:34  \n",
       "Offer_1002530118 10 days 04:31:56  "
      ]
     },
     "execution_count": 9,
     "metadata": {},
     "output_type": "execute_result"
    }
   ],
   "source": [
    "a = aggregation(df_original)\n",
    "a.head()"
   ]
  },
  {
   "cell_type": "markdown",
   "metadata": {
    "colab_type": "text",
    "id": "8HpSGcLB6jq3"
   },
   "source": [
    "# -4. Create a function to filter the prefixes of length L for the event log created at step 2. This function retains only the first L events of all cases that have at least L events. \n"
   ]
  },
  {
   "cell_type": "code",
   "execution_count": 10,
   "metadata": {
    "colab": {},
    "colab_type": "code",
    "id": "KV6o4avcEy_G"
   },
   "outputs": [],
   "source": [
    "def prefix_df(df, n = 2):\n",
    "\n",
    "  # the min of the number of activities is 7\n",
    "  result_df = df.sort_values(by = ['caseid','ts'], ascending=True).groupby('caseid').head(n)\n",
    "  result_df.reset_index(inplace = True, drop = True)\n",
    "\n",
    "  return result_df"
   ]
  },
  {
   "cell_type": "code",
   "execution_count": 11,
   "metadata": {
    "colab": {
     "base_uri": "https://localhost:8080/",
     "height": 195
    },
    "colab_type": "code",
    "id": "cu-sr99dFPJW",
    "outputId": "00ba04ed-335c-4a70-fc9b-ddfc37125b20"
   },
   "outputs": [
    {
     "data": {
      "text/html": [
       "<div>\n",
       "<style scoped>\n",
       "    .dataframe tbody tr th:only-of-type {\n",
       "        vertical-align: middle;\n",
       "    }\n",
       "\n",
       "    .dataframe tbody tr th {\n",
       "        vertical-align: top;\n",
       "    }\n",
       "\n",
       "    .dataframe thead th {\n",
       "        text-align: right;\n",
       "    }\n",
       "</style>\n",
       "<table border=\"1\" class=\"dataframe\">\n",
       "  <thead>\n",
       "    <tr style=\"text-align: right;\">\n",
       "      <th></th>\n",
       "      <th>caseid</th>\n",
       "      <th>activity</th>\n",
       "      <th>ts</th>\n",
       "      <th>resource</th>\n",
       "      <th>outcome</th>\n",
       "    </tr>\n",
       "  </thead>\n",
       "  <tbody>\n",
       "    <tr>\n",
       "      <th>0</th>\n",
       "      <td>Offer_1000681710</td>\n",
       "      <td>O_Create Offer</td>\n",
       "      <td>2016-02-02 18:24:54.170</td>\n",
       "      <td>User_20</td>\n",
       "      <td>True</td>\n",
       "    </tr>\n",
       "    <tr>\n",
       "      <th>1</th>\n",
       "      <td>Offer_1000681710</td>\n",
       "      <td>O_Created</td>\n",
       "      <td>2016-02-02 18:24:55.833</td>\n",
       "      <td>User_20</td>\n",
       "      <td>True</td>\n",
       "    </tr>\n",
       "    <tr>\n",
       "      <th>2</th>\n",
       "      <td>Offer_1001553250</td>\n",
       "      <td>O_Create Offer</td>\n",
       "      <td>2016-01-16 03:16:41.868</td>\n",
       "      <td>User_2</td>\n",
       "      <td>False</td>\n",
       "    </tr>\n",
       "    <tr>\n",
       "      <th>3</th>\n",
       "      <td>Offer_1001553250</td>\n",
       "      <td>O_Created</td>\n",
       "      <td>2016-01-16 03:16:43.056</td>\n",
       "      <td>User_2</td>\n",
       "      <td>False</td>\n",
       "    </tr>\n",
       "    <tr>\n",
       "      <th>4</th>\n",
       "      <td>Offer_1002136393</td>\n",
       "      <td>O_Create Offer</td>\n",
       "      <td>2016-01-29 17:46:49.529</td>\n",
       "      <td>User_85</td>\n",
       "      <td>True</td>\n",
       "    </tr>\n",
       "  </tbody>\n",
       "</table>\n",
       "</div>"
      ],
      "text/plain": [
       "             caseid        activity                      ts resource  outcome\n",
       "0  Offer_1000681710  O_Create Offer 2016-02-02 18:24:54.170  User_20     True\n",
       "1  Offer_1000681710       O_Created 2016-02-02 18:24:55.833  User_20     True\n",
       "2  Offer_1001553250  O_Create Offer 2016-01-16 03:16:41.868   User_2    False\n",
       "3  Offer_1001553250       O_Created 2016-01-16 03:16:43.056   User_2    False\n",
       "4  Offer_1002136393  O_Create Offer 2016-01-29 17:46:49.529  User_85     True"
      ]
     },
     "execution_count": 11,
     "metadata": {},
     "output_type": "execute_result"
    }
   ],
   "source": [
    "prefix_2 = prefix_df(df_original)\n",
    "prefix_2.head()"
   ]
  },
  {
   "cell_type": "code",
   "execution_count": 12,
   "metadata": {
    "colab": {
     "base_uri": "https://localhost:8080/",
     "height": 343
    },
    "colab_type": "code",
    "id": "WFT_WQ1kFPMo",
    "outputId": "c4652c0f-524d-4120-d288-b63aea1cd46c"
   },
   "outputs": [
    {
     "data": {
      "text/html": [
       "<div>\n",
       "<style scoped>\n",
       "    .dataframe tbody tr th:only-of-type {\n",
       "        vertical-align: middle;\n",
       "    }\n",
       "\n",
       "    .dataframe tbody tr th {\n",
       "        vertical-align: top;\n",
       "    }\n",
       "\n",
       "    .dataframe thead th {\n",
       "        text-align: right;\n",
       "    }\n",
       "</style>\n",
       "<table border=\"1\" class=\"dataframe\">\n",
       "  <thead>\n",
       "    <tr style=\"text-align: right;\">\n",
       "      <th></th>\n",
       "      <th>caseid</th>\n",
       "      <th>activity</th>\n",
       "      <th>ts</th>\n",
       "      <th>resource</th>\n",
       "      <th>outcome</th>\n",
       "    </tr>\n",
       "  </thead>\n",
       "  <tbody>\n",
       "    <tr>\n",
       "      <th>0</th>\n",
       "      <td>Offer_1000681710</td>\n",
       "      <td>O_Create Offer</td>\n",
       "      <td>2016-02-02 18:24:54.170</td>\n",
       "      <td>User_20</td>\n",
       "      <td>True</td>\n",
       "    </tr>\n",
       "    <tr>\n",
       "      <th>1</th>\n",
       "      <td>Offer_1000681710</td>\n",
       "      <td>O_Created</td>\n",
       "      <td>2016-02-02 18:24:55.833</td>\n",
       "      <td>User_20</td>\n",
       "      <td>True</td>\n",
       "    </tr>\n",
       "    <tr>\n",
       "      <th>2</th>\n",
       "      <td>Offer_1000681710</td>\n",
       "      <td>O_Sent (mail and online)</td>\n",
       "      <td>2016-02-02 18:25:14.889</td>\n",
       "      <td>User_20</td>\n",
       "      <td>True</td>\n",
       "    </tr>\n",
       "    <tr>\n",
       "      <th>3</th>\n",
       "      <td>Offer_1000681710</td>\n",
       "      <td>O_Returned</td>\n",
       "      <td>2016-02-09 22:36:31.755</td>\n",
       "      <td>User_117</td>\n",
       "      <td>True</td>\n",
       "    </tr>\n",
       "    <tr>\n",
       "      <th>4</th>\n",
       "      <td>Offer_1000681710</td>\n",
       "      <td>O_Accepted</td>\n",
       "      <td>2016-02-10 00:55:41.368</td>\n",
       "      <td>User_115</td>\n",
       "      <td>True</td>\n",
       "    </tr>\n",
       "    <tr>\n",
       "      <th>5</th>\n",
       "      <td>Offer_1001553250</td>\n",
       "      <td>O_Create Offer</td>\n",
       "      <td>2016-01-16 03:16:41.868</td>\n",
       "      <td>User_2</td>\n",
       "      <td>False</td>\n",
       "    </tr>\n",
       "    <tr>\n",
       "      <th>6</th>\n",
       "      <td>Offer_1001553250</td>\n",
       "      <td>O_Created</td>\n",
       "      <td>2016-01-16 03:16:43.056</td>\n",
       "      <td>User_2</td>\n",
       "      <td>False</td>\n",
       "    </tr>\n",
       "    <tr>\n",
       "      <th>7</th>\n",
       "      <td>Offer_1001553250</td>\n",
       "      <td>O_Sent (mail and online)</td>\n",
       "      <td>2016-01-16 03:16:58.528</td>\n",
       "      <td>User_2</td>\n",
       "      <td>False</td>\n",
       "    </tr>\n",
       "    <tr>\n",
       "      <th>8</th>\n",
       "      <td>Offer_1001553250</td>\n",
       "      <td>O_Returned</td>\n",
       "      <td>2016-01-22 17:14:16.014</td>\n",
       "      <td>User_113</td>\n",
       "      <td>False</td>\n",
       "    </tr>\n",
       "    <tr>\n",
       "      <th>9</th>\n",
       "      <td>Offer_1001553250</td>\n",
       "      <td>O_Accepted</td>\n",
       "      <td>2016-01-26 19:14:10.052</td>\n",
       "      <td>User_30</td>\n",
       "      <td>False</td>\n",
       "    </tr>\n",
       "  </tbody>\n",
       "</table>\n",
       "</div>"
      ],
      "text/plain": [
       "             caseid                  activity                      ts  \\\n",
       "0  Offer_1000681710            O_Create Offer 2016-02-02 18:24:54.170   \n",
       "1  Offer_1000681710                 O_Created 2016-02-02 18:24:55.833   \n",
       "2  Offer_1000681710  O_Sent (mail and online) 2016-02-02 18:25:14.889   \n",
       "3  Offer_1000681710                O_Returned 2016-02-09 22:36:31.755   \n",
       "4  Offer_1000681710                O_Accepted 2016-02-10 00:55:41.368   \n",
       "5  Offer_1001553250            O_Create Offer 2016-01-16 03:16:41.868   \n",
       "6  Offer_1001553250                 O_Created 2016-01-16 03:16:43.056   \n",
       "7  Offer_1001553250  O_Sent (mail and online) 2016-01-16 03:16:58.528   \n",
       "8  Offer_1001553250                O_Returned 2016-01-22 17:14:16.014   \n",
       "9  Offer_1001553250                O_Accepted 2016-01-26 19:14:10.052   \n",
       "\n",
       "   resource  outcome  \n",
       "0   User_20     True  \n",
       "1   User_20     True  \n",
       "2   User_20     True  \n",
       "3  User_117     True  \n",
       "4  User_115     True  \n",
       "5    User_2    False  \n",
       "6    User_2    False  \n",
       "7    User_2    False  \n",
       "8  User_113    False  \n",
       "9   User_30    False  "
      ]
     },
     "execution_count": 12,
     "metadata": {},
     "output_type": "execute_result"
    }
   ],
   "source": [
    "prefix_5 = prefix_df(df_original,5)\n",
    "prefix_5.head(10)"
   ]
  },
  {
   "cell_type": "markdown",
   "metadata": {
    "colab_type": "text",
    "id": "tIVZArAh6m05"
   },
   "source": [
    "# _5. Create a function that does index-based encoding of a prefix-filtered event log.\n",
    "Activity and resource are one-hot encoded\n",
    "Timestamp is left as-is\n",
    "*이탤릭체 텍스트*"
   ]
  },
  {
   "cell_type": "code",
   "execution_count": 43,
   "metadata": {
    "colab": {},
    "colab_type": "code",
    "id": "CW8iAasvGFW_"
   },
   "outputs": [],
   "source": [
    "def encorder(df, n = 2):\n",
    "\n",
    "  df_result = df[['outcome', 'caseid','ts']]\n",
    "  tmp_result = pd.DataFrame()\n",
    "\n",
    "  for i in range(0,n):\n",
    "    tmp = pd.get_dummies(df.groupby('caseid')['activity'].nth(i),  prefix_sep='_', prefix = f'{i+1}')\n",
    "    tmp = df_result.groupby('caseid').nth(i).merge(tmp, how= 'left', left_on=None, right_on=None, left_index=True, right_index=True)\n",
    "    tmp.reset_index(inplace = True)\n",
    "\n",
    "    tmp_result = pd.concat([tmp_result, tmp], join = 'outer')\n",
    "\n",
    "  tmp_result.fillna(0, inplace=True)\n",
    "  tmp_result.sort_values(by = ['caseid', 'ts'] , ascending = True, inplace = True)\n",
    "  tmp_result.reset_index(inplace = True, drop = True)\n",
    "\n",
    "  return tmp_result"
   ]
  },
  {
   "cell_type": "code",
   "execution_count": 44,
   "metadata": {
    "colab": {
     "base_uri": "https://localhost:8080/",
     "height": 246
    },
    "colab_type": "code",
    "id": "vhuneMZsGFZr",
    "outputId": "039d1da1-757e-468c-817a-8c0a5e52769f"
   },
   "outputs": [
    {
     "data": {
      "text/plain": [
       "Index(['caseid', 'outcome', 'ts', '1_O_Create Offer', '2_O_Created'], dtype='object')"
      ]
     },
     "execution_count": 44,
     "metadata": {},
     "output_type": "execute_result"
    }
   ],
   "source": [
    "encorder(prefix_2).columns"
   ]
  },
  {
   "cell_type": "code",
   "execution_count": 45,
   "metadata": {
    "colab": {
     "base_uri": "https://localhost:8080/",
     "height": 316
    },
    "colab_type": "code",
    "id": "9L5MkzMeLD9c",
    "outputId": "70385a98-b9d1-4612-942a-5f1f356f0050"
   },
   "outputs": [
    {
     "data": {
      "text/html": [
       "<div>\n",
       "<style scoped>\n",
       "    .dataframe tbody tr th:only-of-type {\n",
       "        vertical-align: middle;\n",
       "    }\n",
       "\n",
       "    .dataframe tbody tr th {\n",
       "        vertical-align: top;\n",
       "    }\n",
       "\n",
       "    .dataframe thead th {\n",
       "        text-align: right;\n",
       "    }\n",
       "</style>\n",
       "<table border=\"1\" class=\"dataframe\">\n",
       "  <thead>\n",
       "    <tr style=\"text-align: right;\">\n",
       "      <th></th>\n",
       "      <th>caseid</th>\n",
       "      <th>outcome</th>\n",
       "      <th>ts</th>\n",
       "      <th>1_O_Create Offer</th>\n",
       "      <th>2_O_Created</th>\n",
       "    </tr>\n",
       "  </thead>\n",
       "  <tbody>\n",
       "    <tr>\n",
       "      <th>0</th>\n",
       "      <td>Offer_1000681710</td>\n",
       "      <td>True</td>\n",
       "      <td>2016-02-02 18:24:54.170</td>\n",
       "      <td>1.0</td>\n",
       "      <td>0.0</td>\n",
       "    </tr>\n",
       "    <tr>\n",
       "      <th>1</th>\n",
       "      <td>Offer_1000681710</td>\n",
       "      <td>True</td>\n",
       "      <td>2016-02-02 18:24:55.833</td>\n",
       "      <td>0.0</td>\n",
       "      <td>1.0</td>\n",
       "    </tr>\n",
       "    <tr>\n",
       "      <th>2</th>\n",
       "      <td>Offer_1001553250</td>\n",
       "      <td>False</td>\n",
       "      <td>2016-01-16 03:16:41.868</td>\n",
       "      <td>1.0</td>\n",
       "      <td>0.0</td>\n",
       "    </tr>\n",
       "    <tr>\n",
       "      <th>3</th>\n",
       "      <td>Offer_1001553250</td>\n",
       "      <td>False</td>\n",
       "      <td>2016-01-16 03:16:43.056</td>\n",
       "      <td>0.0</td>\n",
       "      <td>1.0</td>\n",
       "    </tr>\n",
       "    <tr>\n",
       "      <th>4</th>\n",
       "      <td>Offer_1002136393</td>\n",
       "      <td>True</td>\n",
       "      <td>2016-01-29 17:46:49.529</td>\n",
       "      <td>1.0</td>\n",
       "      <td>0.0</td>\n",
       "    </tr>\n",
       "  </tbody>\n",
       "</table>\n",
       "</div>"
      ],
      "text/plain": [
       "             caseid  outcome                      ts  1_O_Create Offer  \\\n",
       "0  Offer_1000681710     True 2016-02-02 18:24:54.170               1.0   \n",
       "1  Offer_1000681710     True 2016-02-02 18:24:55.833               0.0   \n",
       "2  Offer_1001553250    False 2016-01-16 03:16:41.868               1.0   \n",
       "3  Offer_1001553250    False 2016-01-16 03:16:43.056               0.0   \n",
       "4  Offer_1002136393     True 2016-01-29 17:46:49.529               1.0   \n",
       "\n",
       "   2_O_Created  \n",
       "0          0.0  \n",
       "1          1.0  \n",
       "2          0.0  \n",
       "3          1.0  \n",
       "4          0.0  "
      ]
     },
     "execution_count": 45,
     "metadata": {},
     "output_type": "execute_result"
    }
   ],
   "source": [
    "encoded_pf_2 = encorder(prefix_2)\n",
    "encoded_pf_2.head()"
   ]
  },
  {
   "cell_type": "code",
   "execution_count": 46,
   "metadata": {
    "colab": {
     "base_uri": "https://localhost:8080/",
     "height": 378
    },
    "colab_type": "code",
    "id": "dAOa3eFsLMhZ",
    "outputId": "b7d84649-5162-476e-8ac2-16fd54f9e0e3"
   },
   "outputs": [
    {
     "data": {
      "text/html": [
       "<div>\n",
       "<style scoped>\n",
       "    .dataframe tbody tr th:only-of-type {\n",
       "        vertical-align: middle;\n",
       "    }\n",
       "\n",
       "    .dataframe tbody tr th {\n",
       "        vertical-align: top;\n",
       "    }\n",
       "\n",
       "    .dataframe thead th {\n",
       "        text-align: right;\n",
       "    }\n",
       "</style>\n",
       "<table border=\"1\" class=\"dataframe\">\n",
       "  <thead>\n",
       "    <tr style=\"text-align: right;\">\n",
       "      <th></th>\n",
       "      <th>caseid</th>\n",
       "      <th>outcome</th>\n",
       "      <th>ts</th>\n",
       "      <th>1_O_Create Offer</th>\n",
       "      <th>2_O_Created</th>\n",
       "      <th>3_O_Cancelled</th>\n",
       "      <th>3_O_Refused</th>\n",
       "      <th>3_O_Sent (mail and online)</th>\n",
       "      <th>3_O_Sent (online only)</th>\n",
       "      <th>4_O_Cancelled</th>\n",
       "      <th>4_O_Refused</th>\n",
       "      <th>4_O_Returned</th>\n",
       "      <th>5_O_Accepted</th>\n",
       "      <th>5_O_Cancelled</th>\n",
       "      <th>5_O_Refused</th>\n",
       "    </tr>\n",
       "  </thead>\n",
       "  <tbody>\n",
       "    <tr>\n",
       "      <th>0</th>\n",
       "      <td>Offer_1000681710</td>\n",
       "      <td>True</td>\n",
       "      <td>2016-02-02 18:24:54.170</td>\n",
       "      <td>1.0</td>\n",
       "      <td>0.0</td>\n",
       "      <td>0.0</td>\n",
       "      <td>0.0</td>\n",
       "      <td>0.0</td>\n",
       "      <td>0.0</td>\n",
       "      <td>0.0</td>\n",
       "      <td>0.0</td>\n",
       "      <td>0.0</td>\n",
       "      <td>0.0</td>\n",
       "      <td>0.0</td>\n",
       "      <td>0.0</td>\n",
       "    </tr>\n",
       "    <tr>\n",
       "      <th>1</th>\n",
       "      <td>Offer_1000681710</td>\n",
       "      <td>True</td>\n",
       "      <td>2016-02-02 18:24:55.833</td>\n",
       "      <td>0.0</td>\n",
       "      <td>1.0</td>\n",
       "      <td>0.0</td>\n",
       "      <td>0.0</td>\n",
       "      <td>0.0</td>\n",
       "      <td>0.0</td>\n",
       "      <td>0.0</td>\n",
       "      <td>0.0</td>\n",
       "      <td>0.0</td>\n",
       "      <td>0.0</td>\n",
       "      <td>0.0</td>\n",
       "      <td>0.0</td>\n",
       "    </tr>\n",
       "    <tr>\n",
       "      <th>2</th>\n",
       "      <td>Offer_1000681710</td>\n",
       "      <td>True</td>\n",
       "      <td>2016-02-02 18:25:14.889</td>\n",
       "      <td>0.0</td>\n",
       "      <td>0.0</td>\n",
       "      <td>0.0</td>\n",
       "      <td>0.0</td>\n",
       "      <td>1.0</td>\n",
       "      <td>0.0</td>\n",
       "      <td>0.0</td>\n",
       "      <td>0.0</td>\n",
       "      <td>0.0</td>\n",
       "      <td>0.0</td>\n",
       "      <td>0.0</td>\n",
       "      <td>0.0</td>\n",
       "    </tr>\n",
       "    <tr>\n",
       "      <th>3</th>\n",
       "      <td>Offer_1000681710</td>\n",
       "      <td>True</td>\n",
       "      <td>2016-02-09 22:36:31.755</td>\n",
       "      <td>0.0</td>\n",
       "      <td>0.0</td>\n",
       "      <td>0.0</td>\n",
       "      <td>0.0</td>\n",
       "      <td>0.0</td>\n",
       "      <td>0.0</td>\n",
       "      <td>0.0</td>\n",
       "      <td>0.0</td>\n",
       "      <td>1.0</td>\n",
       "      <td>0.0</td>\n",
       "      <td>0.0</td>\n",
       "      <td>0.0</td>\n",
       "    </tr>\n",
       "    <tr>\n",
       "      <th>4</th>\n",
       "      <td>Offer_1000681710</td>\n",
       "      <td>True</td>\n",
       "      <td>2016-02-10 00:55:41.368</td>\n",
       "      <td>0.0</td>\n",
       "      <td>0.0</td>\n",
       "      <td>0.0</td>\n",
       "      <td>0.0</td>\n",
       "      <td>0.0</td>\n",
       "      <td>0.0</td>\n",
       "      <td>0.0</td>\n",
       "      <td>0.0</td>\n",
       "      <td>0.0</td>\n",
       "      <td>1.0</td>\n",
       "      <td>0.0</td>\n",
       "      <td>0.0</td>\n",
       "    </tr>\n",
       "  </tbody>\n",
       "</table>\n",
       "</div>"
      ],
      "text/plain": [
       "             caseid  outcome                      ts  1_O_Create Offer  \\\n",
       "0  Offer_1000681710     True 2016-02-02 18:24:54.170               1.0   \n",
       "1  Offer_1000681710     True 2016-02-02 18:24:55.833               0.0   \n",
       "2  Offer_1000681710     True 2016-02-02 18:25:14.889               0.0   \n",
       "3  Offer_1000681710     True 2016-02-09 22:36:31.755               0.0   \n",
       "4  Offer_1000681710     True 2016-02-10 00:55:41.368               0.0   \n",
       "\n",
       "   2_O_Created  3_O_Cancelled  3_O_Refused  3_O_Sent (mail and online)  \\\n",
       "0          0.0            0.0          0.0                         0.0   \n",
       "1          1.0            0.0          0.0                         0.0   \n",
       "2          0.0            0.0          0.0                         1.0   \n",
       "3          0.0            0.0          0.0                         0.0   \n",
       "4          0.0            0.0          0.0                         0.0   \n",
       "\n",
       "   3_O_Sent (online only)  4_O_Cancelled  4_O_Refused  4_O_Returned  \\\n",
       "0                     0.0            0.0          0.0           0.0   \n",
       "1                     0.0            0.0          0.0           0.0   \n",
       "2                     0.0            0.0          0.0           0.0   \n",
       "3                     0.0            0.0          0.0           1.0   \n",
       "4                     0.0            0.0          0.0           0.0   \n",
       "\n",
       "   5_O_Accepted  5_O_Cancelled  5_O_Refused  \n",
       "0           0.0            0.0          0.0  \n",
       "1           0.0            0.0          0.0  \n",
       "2           0.0            0.0          0.0  \n",
       "3           0.0            0.0          0.0  \n",
       "4           1.0            0.0          0.0  "
      ]
     },
     "execution_count": 46,
     "metadata": {},
     "output_type": "execute_result"
    }
   ],
   "source": [
    "encoded_pf_5 = encorder(prefix_5, 5)\n",
    "encoded_pf_5.head()"
   ]
  },
  {
   "cell_type": "markdown",
   "metadata": {
    "colab_type": "text",
    "id": "iyxs8pe_6p57"
   },
   "source": [
    "# _6. Train a decision tree and a randomforest from the scikit-learn package for outcome label prediction using the event log created at step 3 and and step 6 for prefix length L=2 and L=5.  Split 70-30 for training-testing.\n",
    "\n",
    "Hyperparameters\n",
    "DT: max_depth=5\n",
    "RF: n_estimators=100, oob_score=True\n",
    "\n",
    "\n",
    "(Provide solutions for 2 event logs: artificial and real)"
   ]
  },
  {
   "cell_type": "markdown",
   "metadata": {
    "colab_type": "text",
    "id": "CEDNGhCfey37"
   },
   "source": [
    "## Decision Tree"
   ]
  },
  {
   "cell_type": "code",
   "execution_count": 47,
   "metadata": {
    "colab": {},
    "colab_type": "code",
    "id": "q2RueQiEey38"
   },
   "outputs": [],
   "source": [
    "from sklearn.tree import DecisionTreeClassifier\n",
    "from sklearn.model_selection import train_test_split\n",
    "from sklearn.metrics import  accuracy_score         # between pred_result and real outcome\n",
    "from sklearn.tree import export_graphviz            # the creating of model\n",
    "import graphviz                                     # the visualization of model\n"
   ]
  },
  {
   "cell_type": "markdown",
   "metadata": {
    "colab_type": "text",
    "id": "Uf89XgaRZ1oW"
   },
   "source": [
    "### prefix_Length 2\n"
   ]
  },
  {
   "cell_type": "code",
   "execution_count": 48,
   "metadata": {
    "colab": {},
    "colab_type": "code",
    "id": "FRD_3ldDx6ih"
   },
   "outputs": [],
   "source": [
    "# Generate DT algorithm\n",
    "clf = DecisionTreeClassifier( random_state=0,  max_depth=5)"
   ]
  },
  {
   "cell_type": "code",
   "execution_count": 49,
   "metadata": {
    "colab": {},
    "colab_type": "code",
    "id": "UL73IlFJYH1K"
   },
   "outputs": [],
   "source": [
    "#  define X,y\n",
    "X = encoded_pf_2.iloc[:,3:]\n",
    "y= encoded_pf_2['outcome']"
   ]
  },
  {
   "cell_type": "code",
   "execution_count": 50,
   "metadata": {
    "colab": {
     "base_uri": "https://localhost:8080/",
     "height": 34
    },
    "colab_type": "code",
    "id": "wfcr5wwQx6x2",
    "outputId": "378bb1c8-b7a7-47b0-81e3-515b27ceebb7"
   },
   "outputs": [
    {
     "data": {
      "text/plain": [
       "((7000, 2), (3000, 2), (7000,), (3000,))"
      ]
     },
     "execution_count": 50,
     "metadata": {},
     "output_type": "execute_result"
    }
   ],
   "source": [
    "# Data Prepare-> 70:30,(train/test, X,y)\n",
    "\n",
    "X_train, X_test, y_train, y_test = train_test_split( X, y, test_size=0.3 )\n",
    "X_train.shape, X_test.shape, y_train.shape, y_test.shape"
   ]
  },
  {
   "cell_type": "code",
   "execution_count": 51,
   "metadata": {
    "colab": {
     "base_uri": "https://localhost:8080/",
     "height": 122
    },
    "colab_type": "code",
    "id": "5NVWgNyxx66p",
    "outputId": "5c463f8d-3158-46f6-a2c7-34dd29443a9f"
   },
   "outputs": [
    {
     "data": {
      "text/plain": [
       "DecisionTreeClassifier(ccp_alpha=0.0, class_weight=None, criterion='gini',\n",
       "                       max_depth=5, max_features=None, max_leaf_nodes=None,\n",
       "                       min_impurity_decrease=0.0, min_impurity_split=None,\n",
       "                       min_samples_leaf=1, min_samples_split=2,\n",
       "                       min_weight_fraction_leaf=0.0, presort='deprecated',\n",
       "                       random_state=0, splitter='best')"
      ]
     },
     "execution_count": 51,
     "metadata": {},
     "output_type": "execute_result"
    }
   ],
   "source": [
    "# train\n",
    "clf.fit( X_train, y_train)"
   ]
  },
  {
   "cell_type": "markdown",
   "metadata": {},
   "source": [
    "#### Visualization \n",
    "- it's just for showing the structure of clf (the fitted decision tree)\n",
    "- if you dont' need to check this, you can skip below 2 codes. "
   ]
  },
  {
   "cell_type": "code",
   "execution_count": 52,
   "metadata": {
    "colab": {},
    "colab_type": "code",
    "id": "J3dmxCUbyMEj"
   },
   "outputs": [],
   "source": [
    "# export the dump file of DT model\n",
    "\n",
    "export_graphviz(clf, out_file = 'tree.model', \n",
    "                class_names   = str(y.unique),\n",
    "                feature_names = X.columns, \n",
    "                filled        = True)"
   ]
  },
  {
   "cell_type": "code",
   "execution_count": 53,
   "metadata": {
    "colab": {
     "base_uri": "https://localhost:8080/",
     "height": 914
    },
    "colab_type": "code",
    "id": "YDh766TOyORo",
    "outputId": "8579680b-424f-4b11-a1e4-aa21039454e1"
   },
   "outputs": [
    {
     "ename": "ExecutableNotFound",
     "evalue": "failed to execute ['dot', '-Tsvg'], make sure the Graphviz executables are on your systems' PATH",
     "output_type": "error",
     "traceback": [
      "\u001b[1;31m---------------------------------------------------------------------------\u001b[0m",
      "\u001b[1;31mFileNotFoundError\u001b[0m                         Traceback (most recent call last)",
      "\u001b[1;32mC:\\anaconda3\\lib\\site-packages\\graphviz\\backend.py\u001b[0m in \u001b[0;36mrun\u001b[1;34m(cmd, input, capture_output, check, encoding, quiet, **kwargs)\u001b[0m\n\u001b[0;32m    163\u001b[0m     \u001b[1;32mtry\u001b[0m\u001b[1;33m:\u001b[0m\u001b[1;33m\u001b[0m\u001b[1;33m\u001b[0m\u001b[0m\n\u001b[1;32m--> 164\u001b[1;33m         \u001b[0mproc\u001b[0m \u001b[1;33m=\u001b[0m \u001b[0msubprocess\u001b[0m\u001b[1;33m.\u001b[0m\u001b[0mPopen\u001b[0m\u001b[1;33m(\u001b[0m\u001b[0mcmd\u001b[0m\u001b[1;33m,\u001b[0m \u001b[0mstartupinfo\u001b[0m\u001b[1;33m=\u001b[0m\u001b[0mget_startupinfo\u001b[0m\u001b[1;33m(\u001b[0m\u001b[1;33m)\u001b[0m\u001b[1;33m,\u001b[0m \u001b[1;33m**\u001b[0m\u001b[0mkwargs\u001b[0m\u001b[1;33m)\u001b[0m\u001b[1;33m\u001b[0m\u001b[1;33m\u001b[0m\u001b[0m\n\u001b[0m\u001b[0;32m    165\u001b[0m     \u001b[1;32mexcept\u001b[0m \u001b[0mOSError\u001b[0m \u001b[1;32mas\u001b[0m \u001b[0me\u001b[0m\u001b[1;33m:\u001b[0m\u001b[1;33m\u001b[0m\u001b[1;33m\u001b[0m\u001b[0m\n",
      "\u001b[1;32mC:\\anaconda3\\lib\\subprocess.py\u001b[0m in \u001b[0;36m__init__\u001b[1;34m(self, args, bufsize, executable, stdin, stdout, stderr, preexec_fn, close_fds, shell, cwd, env, universal_newlines, startupinfo, creationflags, restore_signals, start_new_session, pass_fds, encoding, errors, text)\u001b[0m\n\u001b[0;32m    799\u001b[0m                                 \u001b[0merrread\u001b[0m\u001b[1;33m,\u001b[0m \u001b[0merrwrite\u001b[0m\u001b[1;33m,\u001b[0m\u001b[1;33m\u001b[0m\u001b[1;33m\u001b[0m\u001b[0m\n\u001b[1;32m--> 800\u001b[1;33m                                 restore_signals, start_new_session)\n\u001b[0m\u001b[0;32m    801\u001b[0m         \u001b[1;32mexcept\u001b[0m\u001b[1;33m:\u001b[0m\u001b[1;33m\u001b[0m\u001b[1;33m\u001b[0m\u001b[0m\n",
      "\u001b[1;32mC:\\anaconda3\\lib\\subprocess.py\u001b[0m in \u001b[0;36m_execute_child\u001b[1;34m(self, args, executable, preexec_fn, close_fds, pass_fds, cwd, env, startupinfo, creationflags, shell, p2cread, p2cwrite, c2pread, c2pwrite, errread, errwrite, unused_restore_signals, unused_start_new_session)\u001b[0m\n\u001b[0;32m   1206\u001b[0m                                          \u001b[0mos\u001b[0m\u001b[1;33m.\u001b[0m\u001b[0mfspath\u001b[0m\u001b[1;33m(\u001b[0m\u001b[0mcwd\u001b[0m\u001b[1;33m)\u001b[0m \u001b[1;32mif\u001b[0m \u001b[0mcwd\u001b[0m \u001b[1;32mis\u001b[0m \u001b[1;32mnot\u001b[0m \u001b[1;32mNone\u001b[0m \u001b[1;32melse\u001b[0m \u001b[1;32mNone\u001b[0m\u001b[1;33m,\u001b[0m\u001b[1;33m\u001b[0m\u001b[1;33m\u001b[0m\u001b[0m\n\u001b[1;32m-> 1207\u001b[1;33m                                          startupinfo)\n\u001b[0m\u001b[0;32m   1208\u001b[0m             \u001b[1;32mfinally\u001b[0m\u001b[1;33m:\u001b[0m\u001b[1;33m\u001b[0m\u001b[1;33m\u001b[0m\u001b[0m\n",
      "\u001b[1;31mFileNotFoundError\u001b[0m: [WinError 2] 지정된 파일을 찾을 수 없습니다",
      "\nDuring handling of the above exception, another exception occurred:\n",
      "\u001b[1;31mExecutableNotFound\u001b[0m                        Traceback (most recent call last)",
      "\u001b[1;32mC:\\anaconda3\\lib\\site-packages\\IPython\\core\\formatters.py\u001b[0m in \u001b[0;36m__call__\u001b[1;34m(self, obj)\u001b[0m\n\u001b[0;32m    343\u001b[0m             \u001b[0mmethod\u001b[0m \u001b[1;33m=\u001b[0m \u001b[0mget_real_method\u001b[0m\u001b[1;33m(\u001b[0m\u001b[0mobj\u001b[0m\u001b[1;33m,\u001b[0m \u001b[0mself\u001b[0m\u001b[1;33m.\u001b[0m\u001b[0mprint_method\u001b[0m\u001b[1;33m)\u001b[0m\u001b[1;33m\u001b[0m\u001b[1;33m\u001b[0m\u001b[0m\n\u001b[0;32m    344\u001b[0m             \u001b[1;32mif\u001b[0m \u001b[0mmethod\u001b[0m \u001b[1;32mis\u001b[0m \u001b[1;32mnot\u001b[0m \u001b[1;32mNone\u001b[0m\u001b[1;33m:\u001b[0m\u001b[1;33m\u001b[0m\u001b[1;33m\u001b[0m\u001b[0m\n\u001b[1;32m--> 345\u001b[1;33m                 \u001b[1;32mreturn\u001b[0m \u001b[0mmethod\u001b[0m\u001b[1;33m(\u001b[0m\u001b[1;33m)\u001b[0m\u001b[1;33m\u001b[0m\u001b[1;33m\u001b[0m\u001b[0m\n\u001b[0m\u001b[0;32m    346\u001b[0m             \u001b[1;32mreturn\u001b[0m \u001b[1;32mNone\u001b[0m\u001b[1;33m\u001b[0m\u001b[1;33m\u001b[0m\u001b[0m\n\u001b[0;32m    347\u001b[0m         \u001b[1;32melse\u001b[0m\u001b[1;33m:\u001b[0m\u001b[1;33m\u001b[0m\u001b[1;33m\u001b[0m\u001b[0m\n",
      "\u001b[1;32mC:\\anaconda3\\lib\\site-packages\\graphviz\\files.py\u001b[0m in \u001b[0;36m_repr_svg_\u001b[1;34m(self)\u001b[0m\n\u001b[0;32m    111\u001b[0m \u001b[1;33m\u001b[0m\u001b[0m\n\u001b[0;32m    112\u001b[0m     \u001b[1;32mdef\u001b[0m \u001b[0m_repr_svg_\u001b[0m\u001b[1;33m(\u001b[0m\u001b[0mself\u001b[0m\u001b[1;33m)\u001b[0m\u001b[1;33m:\u001b[0m\u001b[1;33m\u001b[0m\u001b[1;33m\u001b[0m\u001b[0m\n\u001b[1;32m--> 113\u001b[1;33m         \u001b[1;32mreturn\u001b[0m \u001b[0mself\u001b[0m\u001b[1;33m.\u001b[0m\u001b[0mpipe\u001b[0m\u001b[1;33m(\u001b[0m\u001b[0mformat\u001b[0m\u001b[1;33m=\u001b[0m\u001b[1;34m'svg'\u001b[0m\u001b[1;33m)\u001b[0m\u001b[1;33m.\u001b[0m\u001b[0mdecode\u001b[0m\u001b[1;33m(\u001b[0m\u001b[0mself\u001b[0m\u001b[1;33m.\u001b[0m\u001b[0m_encoding\u001b[0m\u001b[1;33m)\u001b[0m\u001b[1;33m\u001b[0m\u001b[1;33m\u001b[0m\u001b[0m\n\u001b[0m\u001b[0;32m    114\u001b[0m \u001b[1;33m\u001b[0m\u001b[0m\n\u001b[0;32m    115\u001b[0m     \u001b[1;32mdef\u001b[0m \u001b[0mpipe\u001b[0m\u001b[1;33m(\u001b[0m\u001b[0mself\u001b[0m\u001b[1;33m,\u001b[0m \u001b[0mformat\u001b[0m\u001b[1;33m=\u001b[0m\u001b[1;32mNone\u001b[0m\u001b[1;33m,\u001b[0m \u001b[0mrenderer\u001b[0m\u001b[1;33m=\u001b[0m\u001b[1;32mNone\u001b[0m\u001b[1;33m,\u001b[0m \u001b[0mformatter\u001b[0m\u001b[1;33m=\u001b[0m\u001b[1;32mNone\u001b[0m\u001b[1;33m,\u001b[0m \u001b[0mquiet\u001b[0m\u001b[1;33m=\u001b[0m\u001b[1;32mFalse\u001b[0m\u001b[1;33m)\u001b[0m\u001b[1;33m:\u001b[0m\u001b[1;33m\u001b[0m\u001b[1;33m\u001b[0m\u001b[0m\n",
      "\u001b[1;32mC:\\anaconda3\\lib\\site-packages\\graphviz\\files.py\u001b[0m in \u001b[0;36mpipe\u001b[1;34m(self, format, renderer, formatter, quiet)\u001b[0m\n\u001b[0;32m    136\u001b[0m         out = backend.pipe(self._engine, format, data,\n\u001b[0;32m    137\u001b[0m                            \u001b[0mrenderer\u001b[0m\u001b[1;33m=\u001b[0m\u001b[0mrenderer\u001b[0m\u001b[1;33m,\u001b[0m \u001b[0mformatter\u001b[0m\u001b[1;33m=\u001b[0m\u001b[0mformatter\u001b[0m\u001b[1;33m,\u001b[0m\u001b[1;33m\u001b[0m\u001b[1;33m\u001b[0m\u001b[0m\n\u001b[1;32m--> 138\u001b[1;33m                            quiet=quiet)\n\u001b[0m\u001b[0;32m    139\u001b[0m \u001b[1;33m\u001b[0m\u001b[0m\n\u001b[0;32m    140\u001b[0m         \u001b[1;32mreturn\u001b[0m \u001b[0mout\u001b[0m\u001b[1;33m\u001b[0m\u001b[1;33m\u001b[0m\u001b[0m\n",
      "\u001b[1;32mC:\\anaconda3\\lib\\site-packages\\graphviz\\backend.py\u001b[0m in \u001b[0;36mpipe\u001b[1;34m(engine, format, data, renderer, formatter, quiet)\u001b[0m\n\u001b[0;32m    242\u001b[0m     \"\"\"\n\u001b[0;32m    243\u001b[0m     \u001b[0mcmd\u001b[0m\u001b[1;33m,\u001b[0m \u001b[0m_\u001b[0m \u001b[1;33m=\u001b[0m \u001b[0mcommand\u001b[0m\u001b[1;33m(\u001b[0m\u001b[0mengine\u001b[0m\u001b[1;33m,\u001b[0m \u001b[0mformat\u001b[0m\u001b[1;33m,\u001b[0m \u001b[1;32mNone\u001b[0m\u001b[1;33m,\u001b[0m \u001b[0mrenderer\u001b[0m\u001b[1;33m,\u001b[0m \u001b[0mformatter\u001b[0m\u001b[1;33m)\u001b[0m\u001b[1;33m\u001b[0m\u001b[1;33m\u001b[0m\u001b[0m\n\u001b[1;32m--> 244\u001b[1;33m     \u001b[0mout\u001b[0m\u001b[1;33m,\u001b[0m \u001b[0m_\u001b[0m \u001b[1;33m=\u001b[0m \u001b[0mrun\u001b[0m\u001b[1;33m(\u001b[0m\u001b[0mcmd\u001b[0m\u001b[1;33m,\u001b[0m \u001b[0minput\u001b[0m\u001b[1;33m=\u001b[0m\u001b[0mdata\u001b[0m\u001b[1;33m,\u001b[0m \u001b[0mcapture_output\u001b[0m\u001b[1;33m=\u001b[0m\u001b[1;32mTrue\u001b[0m\u001b[1;33m,\u001b[0m \u001b[0mcheck\u001b[0m\u001b[1;33m=\u001b[0m\u001b[1;32mTrue\u001b[0m\u001b[1;33m,\u001b[0m \u001b[0mquiet\u001b[0m\u001b[1;33m=\u001b[0m\u001b[0mquiet\u001b[0m\u001b[1;33m)\u001b[0m\u001b[1;33m\u001b[0m\u001b[1;33m\u001b[0m\u001b[0m\n\u001b[0m\u001b[0;32m    245\u001b[0m     \u001b[1;32mreturn\u001b[0m \u001b[0mout\u001b[0m\u001b[1;33m\u001b[0m\u001b[1;33m\u001b[0m\u001b[0m\n\u001b[0;32m    246\u001b[0m \u001b[1;33m\u001b[0m\u001b[0m\n",
      "\u001b[1;32mC:\\anaconda3\\lib\\site-packages\\graphviz\\backend.py\u001b[0m in \u001b[0;36mrun\u001b[1;34m(cmd, input, capture_output, check, encoding, quiet, **kwargs)\u001b[0m\n\u001b[0;32m    165\u001b[0m     \u001b[1;32mexcept\u001b[0m \u001b[0mOSError\u001b[0m \u001b[1;32mas\u001b[0m \u001b[0me\u001b[0m\u001b[1;33m:\u001b[0m\u001b[1;33m\u001b[0m\u001b[1;33m\u001b[0m\u001b[0m\n\u001b[0;32m    166\u001b[0m         \u001b[1;32mif\u001b[0m \u001b[0me\u001b[0m\u001b[1;33m.\u001b[0m\u001b[0merrno\u001b[0m \u001b[1;33m==\u001b[0m \u001b[0merrno\u001b[0m\u001b[1;33m.\u001b[0m\u001b[0mENOENT\u001b[0m\u001b[1;33m:\u001b[0m\u001b[1;33m\u001b[0m\u001b[1;33m\u001b[0m\u001b[0m\n\u001b[1;32m--> 167\u001b[1;33m             \u001b[1;32mraise\u001b[0m \u001b[0mExecutableNotFound\u001b[0m\u001b[1;33m(\u001b[0m\u001b[0mcmd\u001b[0m\u001b[1;33m)\u001b[0m\u001b[1;33m\u001b[0m\u001b[1;33m\u001b[0m\u001b[0m\n\u001b[0m\u001b[0;32m    168\u001b[0m         \u001b[1;32melse\u001b[0m\u001b[1;33m:\u001b[0m\u001b[1;33m\u001b[0m\u001b[1;33m\u001b[0m\u001b[0m\n\u001b[0;32m    169\u001b[0m             \u001b[1;32mraise\u001b[0m\u001b[1;33m\u001b[0m\u001b[1;33m\u001b[0m\u001b[0m\n",
      "\u001b[1;31mExecutableNotFound\u001b[0m: failed to execute ['dot', '-Tsvg'], make sure the Graphviz executables are on your systems' PATH"
     ]
    },
    {
     "data": {
      "text/plain": [
       "<graphviz.files.Source at 0x1ba78f59848>"
      ]
     },
     "execution_count": 53,
     "metadata": {},
     "output_type": "execute_result"
    }
   ],
   "source": [
    "\n",
    "\n",
    "# Load the model dump file\n",
    "with open('tree.model') as f:\n",
    "  model_graph = f.read()\n",
    "\n",
    "# the visualization of DT\n",
    "graphviz.Source( model_graph )"
   ]
  },
  {
   "cell_type": "code",
   "execution_count": 54,
   "metadata": {
    "colab": {
     "base_uri": "https://localhost:8080/",
     "height": 34
    },
    "colab_type": "code",
    "id": "UfWObKYSx6-B",
    "outputId": "232b10fd-7c1d-4b14-8b54-3a85adaa8610"
   },
   "outputs": [
    {
     "data": {
      "text/plain": [
       "array([ True,  True,  True, ...,  True,  True,  True])"
      ]
     },
     "execution_count": 54,
     "metadata": {},
     "output_type": "execute_result"
    }
   ],
   "source": [
    "# predict\n",
    "y_pred = clf.predict( X_test )\n",
    "y_pred"
   ]
  },
  {
   "cell_type": "code",
   "execution_count": 55,
   "metadata": {
    "colab": {
     "base_uri": "https://localhost:8080/",
     "height": 34
    },
    "colab_type": "code",
    "id": "OoNg9e9NaJoO",
    "outputId": "4498083c-c98a-4b27-aecd-b8948d4fb200"
   },
   "outputs": [
    {
     "data": {
      "text/plain": [
       "0.681"
      ]
     },
     "execution_count": 55,
     "metadata": {},
     "output_type": "execute_result"
    }
   ],
   "source": [
    "# check accuracy_score\n",
    "accuracy_score( y_test, y_pred )"
   ]
  },
  {
   "cell_type": "markdown",
   "metadata": {
    "colab_type": "text",
    "id": "YwQTOI_zb1wu"
   },
   "source": [
    "### prefix_Length 5"
   ]
  },
  {
   "cell_type": "code",
   "execution_count": 56,
   "metadata": {
    "colab": {},
    "colab_type": "code",
    "id": "hT3Bxpd6ps2M"
   },
   "outputs": [],
   "source": [
    "# Generate DT algorithm\n",
    "clf1 = DecisionTreeClassifier( random_state=0,  max_depth=5)"
   ]
  },
  {
   "cell_type": "code",
   "execution_count": 57,
   "metadata": {
    "colab": {},
    "colab_type": "code",
    "id": "1IVmVAAVb0At"
   },
   "outputs": [],
   "source": [
    "#  define X,y\n",
    "x = encoded_pf_5.iloc[:,3:]\n",
    "y= encoded_pf_5['outcome']"
   ]
  },
  {
   "cell_type": "code",
   "execution_count": 58,
   "metadata": {
    "colab": {
     "base_uri": "https://localhost:8080/",
     "height": 34
    },
    "colab_type": "code",
    "id": "Gig4ynKgb0Az",
    "outputId": "6fc124cf-9199-4372-81f3-e347c53bde14"
   },
   "outputs": [
    {
     "data": {
      "text/plain": [
       "((15686, 12), (6723, 12), (15686,), (6723,))"
      ]
     },
     "execution_count": 58,
     "metadata": {},
     "output_type": "execute_result"
    }
   ],
   "source": [
    "# Data Prepare-> 70:30,(train/test, X,y)\n",
    "\n",
    "X_train, X_test, y_train, y_test = train_test_split( x, y, test_size=0.3 )\n",
    "X_train.shape, X_test.shape, y_train.shape, y_test.shape"
   ]
  },
  {
   "cell_type": "code",
   "execution_count": 59,
   "metadata": {
    "colab": {
     "base_uri": "https://localhost:8080/",
     "height": 122
    },
    "colab_type": "code",
    "id": "3OGJ5hojb0A3",
    "outputId": "f693825e-c9fe-40eb-beed-670a43ade624"
   },
   "outputs": [
    {
     "data": {
      "text/plain": [
       "DecisionTreeClassifier(ccp_alpha=0.0, class_weight=None, criterion='gini',\n",
       "                       max_depth=5, max_features=None, max_leaf_nodes=None,\n",
       "                       min_impurity_decrease=0.0, min_impurity_split=None,\n",
       "                       min_samples_leaf=1, min_samples_split=2,\n",
       "                       min_weight_fraction_leaf=0.0, presort='deprecated',\n",
       "                       random_state=0, splitter='best')"
      ]
     },
     "execution_count": 59,
     "metadata": {},
     "output_type": "execute_result"
    }
   ],
   "source": [
    "# train\n",
    "clf1.fit( X_train, y_train)"
   ]
  },
  {
   "cell_type": "code",
   "execution_count": 60,
   "metadata": {
    "colab": {
     "base_uri": "https://localhost:8080/",
     "height": 34
    },
    "colab_type": "code",
    "id": "o7vI4Qfyb0BE",
    "outputId": "5c9614da-94b8-4daf-b57e-258b93219bd8"
   },
   "outputs": [
    {
     "data": {
      "text/plain": [
       "array([ True,  True,  True, ...,  True,  True,  True])"
      ]
     },
     "execution_count": 60,
     "metadata": {},
     "output_type": "execute_result"
    }
   ],
   "source": [
    "# predict\n",
    "y_pred = clf1.predict( X_test )\n",
    "y_pred"
   ]
  },
  {
   "cell_type": "code",
   "execution_count": 61,
   "metadata": {
    "colab": {
     "base_uri": "https://localhost:8080/",
     "height": 34
    },
    "colab_type": "code",
    "id": "XsqjM6o8b0BG",
    "outputId": "6b91b82e-50b2-4a9b-edec-d2ee1e7fe0e4"
   },
   "outputs": [
    {
     "data": {
      "text/plain": [
       "0.6929941990182954"
      ]
     },
     "execution_count": 61,
     "metadata": {},
     "output_type": "execute_result"
    }
   ],
   "source": [
    "# check accuracy_score\n",
    "accuracy_score( y_test, y_pred )"
   ]
  },
  {
   "cell_type": "markdown",
   "metadata": {
    "colab_type": "text",
    "id": "voXQwd5Jyh3X"
   },
   "source": [
    "## Random Forest"
   ]
  },
  {
   "cell_type": "code",
   "execution_count": 62,
   "metadata": {
    "colab": {},
    "colab_type": "code",
    "id": "V1nUY9B8czFn"
   },
   "outputs": [],
   "source": [
    "# 랜덤포레스트 사용 -> 앙상블 기법중 배깅을 이용하여서 예측했다\n",
    "from sklearn.ensemble import RandomForestClassifier\n",
    "\n",
    "rf_clf = RandomForestClassifier( random_state=0, n_estimators=100, oob_score=True)"
   ]
  },
  {
   "cell_type": "markdown",
   "metadata": {
    "colab_type": "text",
    "id": "XzLVjhZzczFz"
   },
   "source": [
    "### prefix_Length 2\n"
   ]
  },
  {
   "cell_type": "code",
   "execution_count": 63,
   "metadata": {
    "colab": {},
    "colab_type": "code",
    "id": "rSUHuRMPczF1"
   },
   "outputs": [],
   "source": [
    "#  define X,y\n",
    "x = encoded_pf_2.iloc[:,3:]\n",
    "y= encoded_pf_2['outcome']"
   ]
  },
  {
   "cell_type": "code",
   "execution_count": 64,
   "metadata": {
    "colab": {
     "base_uri": "https://localhost:8080/",
     "height": 34
    },
    "colab_type": "code",
    "id": "DAnm6umAczF6",
    "outputId": "bfeb7b15-0941-4e5a-eda7-04e96fbc6f1c"
   },
   "outputs": [
    {
     "data": {
      "text/plain": [
       "((7000, 2), (3000, 2), (7000,), (3000,))"
      ]
     },
     "execution_count": 64,
     "metadata": {},
     "output_type": "execute_result"
    }
   ],
   "source": [
    "# Data Prepare-> 70:30,(train/test, X,y)\n",
    "\n",
    "X_train, X_test, y_train, y_test = train_test_split( x, y, test_size=0.3 )\n",
    "X_train.shape, X_test.shape, y_train.shape, y_test.shape"
   ]
  },
  {
   "cell_type": "code",
   "execution_count": 65,
   "metadata": {
    "colab": {
     "base_uri": "https://localhost:8080/",
     "height": 158
    },
    "colab_type": "code",
    "id": "-PlWH0zMx6vC",
    "outputId": "370f212b-07d6-49fe-b7b0-27088ce3bfe3"
   },
   "outputs": [
    {
     "data": {
      "text/plain": [
       "RandomForestClassifier(bootstrap=True, ccp_alpha=0.0, class_weight=None,\n",
       "                       criterion='gini', max_depth=None, max_features='auto',\n",
       "                       max_leaf_nodes=None, max_samples=None,\n",
       "                       min_impurity_decrease=0.0, min_impurity_split=None,\n",
       "                       min_samples_leaf=1, min_samples_split=2,\n",
       "                       min_weight_fraction_leaf=0.0, n_estimators=100,\n",
       "                       n_jobs=None, oob_score=True, random_state=0, verbose=0,\n",
       "                       warm_start=False)"
      ]
     },
     "execution_count": 65,
     "metadata": {},
     "output_type": "execute_result"
    }
   ],
   "source": [
    "# RF 훈련\n",
    "rf_clf.fit(X_train, y_train)"
   ]
  },
  {
   "cell_type": "code",
   "execution_count": 66,
   "metadata": {
    "colab": {
     "base_uri": "https://localhost:8080/",
     "height": 34
    },
    "colab_type": "code",
    "id": "2mBSViroyot2",
    "outputId": "9a489eed-1ee3-4d7d-f63e-6d2168796ff9"
   },
   "outputs": [
    {
     "data": {
      "text/plain": [
       "0.6813333333333333"
      ]
     },
     "execution_count": 66,
     "metadata": {},
     "output_type": "execute_result"
    }
   ],
   "source": [
    "# RF 예측 및 정확도 체크\n",
    "pred = rf_clf.predict( X_test )\n",
    "accuracy_score( y_test, pred )"
   ]
  },
  {
   "cell_type": "markdown",
   "metadata": {
    "colab_type": "text",
    "id": "qTrGlaRMdmpa"
   },
   "source": [
    "### prefix_Length 5\n"
   ]
  },
  {
   "cell_type": "code",
   "execution_count": 67,
   "metadata": {
    "colab": {},
    "colab_type": "code",
    "id": "1Q1G-h20qO1r"
   },
   "outputs": [],
   "source": [
    "rf_clf1 = RandomForestClassifier( random_state=0, n_estimators=100, oob_score=True)"
   ]
  },
  {
   "cell_type": "code",
   "execution_count": 68,
   "metadata": {
    "colab": {},
    "colab_type": "code",
    "id": "JGylJ5Aldmpd"
   },
   "outputs": [],
   "source": [
    "#  define X,y\n",
    "\n",
    "x = encoded_pf_5.iloc[:,3:]\n",
    "y= encoded_pf_5['outcome']"
   ]
  },
  {
   "cell_type": "code",
   "execution_count": 69,
   "metadata": {
    "colab": {
     "base_uri": "https://localhost:8080/",
     "height": 34
    },
    "colab_type": "code",
    "id": "Y2Org_2Zdmph",
    "outputId": "dd49abae-83bd-4fc1-ae10-9003dc276675"
   },
   "outputs": [
    {
     "data": {
      "text/plain": [
       "((15686, 12), (6723, 12), (15686,), (6723,))"
      ]
     },
     "execution_count": 69,
     "metadata": {},
     "output_type": "execute_result"
    }
   ],
   "source": [
    "# Data Prepare-> 70:30,(train/test, X,y)\n",
    "\n",
    "X_train, X_test, y_train, y_test = train_test_split( x, y, test_size=0.3 )\n",
    "X_train.shape, X_test.shape, y_train.shape, y_test.shape"
   ]
  },
  {
   "cell_type": "code",
   "execution_count": 70,
   "metadata": {
    "colab": {
     "base_uri": "https://localhost:8080/",
     "height": 158
    },
    "colab_type": "code",
    "id": "7B5mgCZPdmpl",
    "outputId": "565b54ca-3689-4ddc-9bbb-49f7ef8d35fa"
   },
   "outputs": [
    {
     "data": {
      "text/plain": [
       "RandomForestClassifier(bootstrap=True, ccp_alpha=0.0, class_weight=None,\n",
       "                       criterion='gini', max_depth=None, max_features='auto',\n",
       "                       max_leaf_nodes=None, max_samples=None,\n",
       "                       min_impurity_decrease=0.0, min_impurity_split=None,\n",
       "                       min_samples_leaf=1, min_samples_split=2,\n",
       "                       min_weight_fraction_leaf=0.0, n_estimators=100,\n",
       "                       n_jobs=None, oob_score=True, random_state=0, verbose=0,\n",
       "                       warm_start=False)"
      ]
     },
     "execution_count": 70,
     "metadata": {},
     "output_type": "execute_result"
    }
   ],
   "source": [
    "# RF 훈련\n",
    "\n",
    "rf_clf1.fit(X_train, y_train)"
   ]
  },
  {
   "cell_type": "code",
   "execution_count": 71,
   "metadata": {
    "colab": {
     "base_uri": "https://localhost:8080/",
     "height": 34
    },
    "colab_type": "code",
    "id": "sWoE2xk1dmpo",
    "outputId": "70c4399a-789c-472f-933a-ef69bebee087"
   },
   "outputs": [
    {
     "data": {
      "text/plain": [
       "0.6877881897962219"
      ]
     },
     "execution_count": 71,
     "metadata": {},
     "output_type": "execute_result"
    }
   ],
   "source": [
    "# RF 예측 및 정확도 체크\n",
    "\n",
    "pred = rf_clf1.predict( X_test )\n",
    "accuracy_score( y_test, pred )"
   ]
  },
  {
   "cell_type": "code",
   "execution_count": null,
   "metadata": {},
   "outputs": [],
   "source": []
  }
 ],
 "metadata": {
  "colab": {
   "collapsed_sections": [],
   "name": "Analysis_BPIC17_final.ipynb",
   "provenance": []
  },
  "kernelspec": {
   "display_name": "Python 3",
   "language": "python",
   "name": "python3"
  },
  "language_info": {
   "codemirror_mode": {
    "name": "ipython",
    "version": 3
   },
   "file_extension": ".py",
   "mimetype": "text/x-python",
   "name": "python",
   "nbconvert_exporter": "python",
   "pygments_lexer": "ipython3",
   "version": "3.7.6"
  }
 },
 "nbformat": 4,
 "nbformat_minor": 1
}
